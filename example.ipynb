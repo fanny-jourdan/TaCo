{
 "cells": [
  {
   "cell_type": "code",
   "execution_count": 1,
   "metadata": {},
   "outputs": [
    {
     "name": "stderr",
     "output_type": "stream",
     "text": [
      "/var/folders/z7/zxmjm5fs0gg5rjdp2rjzm4kw0000gn/T/ipykernel_2216/929152306.py:2: TqdmWarning: IProgress not found. Please update jupyter and ipywidgets. See https://ipywidgets.readthedocs.io/en/stable/user_install.html\n",
      "  from tqdm.autonotebook import tqdm\n"
     ]
    }
   ],
   "source": [
    "import torch  \n",
    "from tqdm.autonotebook import tqdm\n",
    "from datasets_tools import load_dataset, create_splits\n",
    "from datasets_tools import get_occupation_labels, load_embeddings\n",
    "from model_utils import get_model"
   ]
  },
  {
   "cell_type": "code",
   "execution_count": 2,
   "metadata": {},
   "outputs": [],
   "source": [
    "#baseline = 'normal' \n",
    "baseline = 'nogender'\n",
    "\n",
    "#modeltype, nb_epochs = 'RoBERTa', 10\n",
    "#modeltype, nb_epochs = 'DeBERTa', 3\n",
    "modeltype, nb_epochs = 'DistilBERT', 3\n",
    "\n",
    "\n",
    "datafolder = \"/Users/fannyjourdan/Documents/doctorat/jupyterlab_OSIRIM/data\"\n",
    "if baseline == \"normal\":\n",
    "  model_path = f\"/Users/fannyjourdan/Documents/doctorat/jupyterlab_OSIRIM/models/BIOS_occupations_prediction/{modeltype}_occBIOS_{nb_epochs}epochs_g1\"  # predict occ\n",
    "elif baseline == 'nogender':\n",
    "  model_path = f\"/Users/fannyjourdan/Documents/doctorat/jupyterlab_OSIRIM/models/BIOS_occupations_prediction/{modeltype}_occBIOS_{nb_epochs}epochs_ng1\"  # predict occ\n",
    "\n",
    "else:\n",
    "  print(\"Baseline not found\")"
   ]
  },
  {
   "cell_type": "code",
   "execution_count": 4,
   "metadata": {},
   "outputs": [],
   "source": [
    "device = torch.device(\"cuda\") if torch.cuda.is_available() else torch.device(\"cpu\")\n",
    "\n",
    "dt_X, gender_names, occ_names = load_dataset(datafolder, baseline=baseline)\n",
    "splits, genders = create_splits(dt_X)\n",
    "model, tokenizer = get_model(model_path, model_type = modeltype)\n",
    "dt_X_train, dt_X_val, dt_X_test = splits\n",
    "gender_train, gender_val, gender_test = genders"
   ]
  },
  {
   "cell_type": "code",
   "execution_count": 5,
   "metadata": {},
   "outputs": [
    {
     "data": {
      "text/html": [
       "<div>\n",
       "<style scoped>\n",
       "    .dataframe tbody tr th:only-of-type {\n",
       "        vertical-align: middle;\n",
       "    }\n",
       "\n",
       "    .dataframe tbody tr th {\n",
       "        vertical-align: top;\n",
       "    }\n",
       "\n",
       "    .dataframe thead th {\n",
       "        text-align: right;\n",
       "    }\n",
       "</style>\n",
       "<table border=\"1\" class=\"dataframe\">\n",
       "  <thead>\n",
       "    <tr style=\"text-align: right;\">\n",
       "      <th></th>\n",
       "      <th>sentence</th>\n",
       "      <th>gender</th>\n",
       "      <th>label</th>\n",
       "    </tr>\n",
       "  </thead>\n",
       "  <tbody>\n",
       "    <tr>\n",
       "      <th>0</th>\n",
       "      <td>They is also a Sam D. Asmus Policy Entreprene...</td>\n",
       "      <td>0</td>\n",
       "      <td>3</td>\n",
       "    </tr>\n",
       "    <tr>\n",
       "      <th>1</th>\n",
       "      <td>They is a member of the AICPA and WICPA. Sam ...</td>\n",
       "      <td>1</td>\n",
       "      <td>23</td>\n",
       "    </tr>\n",
       "    <tr>\n",
       "      <th>2</th>\n",
       "      <td>Dr Aster has held teaching and research posit...</td>\n",
       "      <td>1</td>\n",
       "      <td>3</td>\n",
       "    </tr>\n",
       "    <tr>\n",
       "      <th>3</th>\n",
       "      <td>They currently works on CNN’s newest primetim...</td>\n",
       "      <td>0</td>\n",
       "      <td>12</td>\n",
       "    </tr>\n",
       "    <tr>\n",
       "      <th>4</th>\n",
       "      <td>They runs a boutique design studio attending ...</td>\n",
       "      <td>1</td>\n",
       "      <td>13</td>\n",
       "    </tr>\n",
       "    <tr>\n",
       "      <th>...</th>\n",
       "      <td>...</td>\n",
       "      <td>...</td>\n",
       "      <td>...</td>\n",
       "    </tr>\n",
       "    <tr>\n",
       "      <th>388857</th>\n",
       "      <td>Sam focuses theirs practice in all forms of E...</td>\n",
       "      <td>1</td>\n",
       "      <td>14</td>\n",
       "    </tr>\n",
       "    <tr>\n",
       "      <th>388858</th>\n",
       "      <td>They maintains the trade policy site url. Sam...</td>\n",
       "      <td>1</td>\n",
       "      <td>3</td>\n",
       "    </tr>\n",
       "    <tr>\n",
       "      <th>388859</th>\n",
       "      <td>They teaches courses in Technical Writing, Co...</td>\n",
       "      <td>0</td>\n",
       "      <td>3</td>\n",
       "    </tr>\n",
       "    <tr>\n",
       "      <th>388860</th>\n",
       "      <td>They has been responsible for many facets of ...</td>\n",
       "      <td>1</td>\n",
       "      <td>23</td>\n",
       "    </tr>\n",
       "    <tr>\n",
       "      <th>388861</th>\n",
       "      <td>They is also a martial artist. They entered m...</td>\n",
       "      <td>0</td>\n",
       "      <td>18</td>\n",
       "    </tr>\n",
       "  </tbody>\n",
       "</table>\n",
       "<p>388862 rows × 3 columns</p>\n",
       "</div>"
      ],
      "text/plain": [
       "                                                 sentence  gender  label\n",
       "0        They is also a Sam D. Asmus Policy Entreprene...       0      3\n",
       "1        They is a member of the AICPA and WICPA. Sam ...       1     23\n",
       "2        Dr Aster has held teaching and research posit...       1      3\n",
       "3        They currently works on CNN’s newest primetim...       0     12\n",
       "4        They runs a boutique design studio attending ...       1     13\n",
       "...                                                   ...     ...    ...\n",
       "388857   Sam focuses theirs practice in all forms of E...       1     14\n",
       "388858   They maintains the trade policy site url. Sam...       1      3\n",
       "388859   They teaches courses in Technical Writing, Co...       0      3\n",
       "388860   They has been responsible for many facets of ...       1     23\n",
       "388861   They is also a martial artist. They entered m...       0     18\n",
       "\n",
       "[388862 rows x 3 columns]"
      ]
     },
     "execution_count": 5,
     "metadata": {},
     "output_type": "execute_result"
    }
   ],
   "source": [
    "dt_X"
   ]
  },
  {
   "cell_type": "code",
   "execution_count": 6,
   "metadata": {},
   "outputs": [
    {
     "name": "stderr",
     "output_type": "stream",
     "text": [
      "100%|██████████| 2/2 [00:06<00:00,  3.40s/it]\n",
      "100%|██████████| 2/2 [00:06<00:00,  3.20s/it]"
     ]
    },
    {
     "name": "stdout",
     "output_type": "stream",
     "text": [
      "accuracy for classic model: tensor(0.8600)\n",
      "accuracy for model in 'two parts': tensor(0.8400)\n"
     ]
    },
    {
     "name": "stderr",
     "output_type": "stream",
     "text": [
      "\n"
     ]
    }
   ],
   "source": [
    "from utils import batch_predict\n",
    "\n",
    "ntest = 50\n",
    "features_ntest, labels_ntest = batch_predict(model.features, tokenizer, dt_X_test[:ntest], 32, device)\n",
    "ypred_bis_ntest = model.end_model(features_ntest)\n",
    "\n",
    "ypred_ntest, labels_ntest = batch_predict(model.forward, tokenizer, dt_X_test[:ntest], 32, device)\n",
    "\n",
    "print(\"accuracy for classic model:\", torch.mean((torch.argmax(ypred_ntest, -1) == labels_ntest).float()))\n",
    "print(\"accuracy for model in 'two parts':\", torch.mean((torch.argmax(ypred_bis_ntest, -1) == labels_ntest).float()))"
   ]
  },
  {
   "cell_type": "code",
   "execution_count": 6,
   "metadata": {},
   "outputs": [],
   "source": [
    "datasets = dt_X_train, dt_X_val, dt_X_test\n",
    "train_val_test_features, train_val_test_labels = load_embeddings(datasets,\n",
    "                                                                 model=model,\n",
    "                                                                 tokenizer=tokenizer,\n",
    "                                                                 baseline=baseline,\n",
    "                                                                 regenerate=False,\n",
    "                                                                 model_type=modeltype,\n",
    "                                                                 device=device)\n",
    "train_features, val_features, test_features = train_val_test_features\n",
    "train_labels, val_labels, test_labels = train_val_test_labels\n",
    "\n",
    "\n",
    "train_labels, val_labels, test_labels = get_occupation_labels(dt_X_train, dt_X_val, dt_X_test, device)"
   ]
  },
  {
   "cell_type": "code",
   "execution_count": 7,
   "metadata": {},
   "outputs": [
    {
     "name": "stdout",
     "output_type": "stream",
     "text": [
      "accuracy for classic model: tensor(0.8585)\n"
     ]
    }
   ],
   "source": [
    "ypred_test = model.end_model(test_features)\n",
    "print(\"accuracy for classic model:\", torch.mean((torch.argmax(ypred_test, -1) == test_labels).float()))"
   ]
  },
  {
   "cell_type": "code",
   "execution_count": 8,
   "metadata": {},
   "outputs": [
    {
     "data": {
      "text/plain": [
       "(tensor([[ 1.8146e+00,  8.9212e-01,  5.2053e-02,  ..., -1.0579e+00,\n",
       "           5.7263e-02,  5.1630e-01],\n",
       "         [-9.9912e-01,  4.3090e-02, -1.3322e+00,  ...,  1.9820e-01,\n",
       "           1.1620e-01,  1.4018e+00],\n",
       "         [-5.8983e-01,  3.3331e-02, -2.3407e-01,  ...,  7.7193e-01,\n",
       "          -2.3055e-01,  2.6949e-01],\n",
       "         ...,\n",
       "         [ 2.0132e+00,  1.0809e+00,  2.8374e-01,  ..., -1.1021e+00,\n",
       "           6.6346e-02,  2.3365e-01],\n",
       "         [-1.2931e+00,  6.3404e-01, -7.8956e-01,  ...,  2.5000e-01,\n",
       "          -1.7089e-01,  7.9918e-01],\n",
       "         [-7.7213e-02, -1.6140e-04, -1.4897e-01,  ...,  1.2889e+00,\n",
       "           6.7771e-01, -6.6150e-01]]),\n",
       " torch.Size([272203, 768]))"
      ]
     },
     "execution_count": 8,
     "metadata": {},
     "output_type": "execute_result"
    }
   ],
   "source": [
    "train_features, train_features.shape"
   ]
  },
  {
   "cell_type": "code",
   "execution_count": 9,
   "metadata": {},
   "outputs": [
    {
     "data": {
      "text/plain": [
       "(torch.Size([38886, 768]), torch.Size([77773, 768]))"
      ]
     },
     "execution_count": 9,
     "metadata": {},
     "output_type": "execute_result"
    }
   ],
   "source": [
    "val_features.shape, test_features.shape"
   ]
  },
  {
   "cell_type": "code",
   "execution_count": 10,
   "metadata": {},
   "outputs": [
    {
     "data": {
      "text/plain": [
       "(torch.Size([272203]), torch.Size([38886]), torch.Size([77773]))"
      ]
     },
     "execution_count": 10,
     "metadata": {},
     "output_type": "execute_result"
    }
   ],
   "source": [
    "train_labels.shape, val_labels.shape, test_labels.shape"
   ]
  },
  {
   "cell_type": "code",
   "execution_count": 11,
   "metadata": {},
   "outputs": [
    {
     "data": {
      "text/plain": [
       "((272203,), (38886,), (77773,))"
      ]
     },
     "execution_count": 11,
     "metadata": {},
     "output_type": "execute_result"
    }
   ],
   "source": [
    "gender_train.shape, gender_val.shape, gender_test.shape"
   ]
  },
  {
   "attachments": {},
   "cell_type": "markdown",
   "metadata": {},
   "source": [
    "# Train Model to predict gender"
   ]
  },
  {
   "cell_type": "code",
   "execution_count": 17,
   "metadata": {},
   "outputs": [
    {
     "name": "stdout",
     "output_type": "stream",
     "text": [
      "Epoch 1\n",
      "\n",
      "Val set: Average loss: 0.7003, Accuracy: 35716/77773 (45.923%)\n"
     ]
    },
    {
     "name": "stderr",
     "output_type": "stream",
     "text": [
      "Train Epoch: 1\tAccuracy: 92.787%\tLoss: 0.123993: 100%|██████████| 152/152 [00:01<00:00, 78.33it/s]"
     ]
    },
    {
     "name": "stdout",
     "output_type": "stream",
     "text": [
      "Epoch 2\n"
     ]
    },
    {
     "name": "stderr",
     "output_type": "stream",
     "text": [
      "\n"
     ]
    },
    {
     "name": "stdout",
     "output_type": "stream",
     "text": [
      "\n",
      "Val set: Average loss: 0.1153, Accuracy: 74475/77773 (95.759%)\n"
     ]
    },
    {
     "name": "stderr",
     "output_type": "stream",
     "text": [
      "Train Epoch: 2\tAccuracy: 96.207%\tLoss: 0.099933: 100%|██████████| 152/152 [00:01<00:00, 82.71it/s]"
     ]
    },
    {
     "name": "stdout",
     "output_type": "stream",
     "text": [
      "Epoch 3\n"
     ]
    },
    {
     "name": "stderr",
     "output_type": "stream",
     "text": [
      "\n"
     ]
    },
    {
     "name": "stdout",
     "output_type": "stream",
     "text": [
      "\n",
      "Val set: Average loss: 0.0935, Accuracy: 75156/77773 (96.635%)\n"
     ]
    },
    {
     "name": "stderr",
     "output_type": "stream",
     "text": [
      "Train Epoch: 3\tAccuracy: 96.758%\tLoss: 0.086384: 100%|██████████| 152/152 [00:01<00:00, 82.08it/s]"
     ]
    },
    {
     "name": "stdout",
     "output_type": "stream",
     "text": [
      "Epoch 4\n"
     ]
    },
    {
     "name": "stderr",
     "output_type": "stream",
     "text": [
      "\n"
     ]
    },
    {
     "name": "stdout",
     "output_type": "stream",
     "text": [
      "\n",
      "Val set: Average loss: 0.0826, Accuracy: 75473/77773 (97.043%)\n"
     ]
    },
    {
     "name": "stderr",
     "output_type": "stream",
     "text": [
      "Train Epoch: 4\tAccuracy: 97.120%\tLoss: 0.078536: 100%|██████████| 152/152 [00:01<00:00, 81.68it/s]"
     ]
    },
    {
     "name": "stdout",
     "output_type": "stream",
     "text": [
      "Epoch 5\n"
     ]
    },
    {
     "name": "stderr",
     "output_type": "stream",
     "text": [
      "\n"
     ]
    },
    {
     "name": "stdout",
     "output_type": "stream",
     "text": [
      "\n",
      "Val set: Average loss: 0.0754, Accuracy: 75627/77773 (97.241%)\n"
     ]
    },
    {
     "name": "stderr",
     "output_type": "stream",
     "text": [
      "Train Epoch: 5\tAccuracy: 97.350%\tLoss: 0.072410: 100%|██████████| 152/152 [00:01<00:00, 82.45it/s]"
     ]
    },
    {
     "name": "stdout",
     "output_type": "stream",
     "text": [
      "Epoch 6\n"
     ]
    },
    {
     "name": "stderr",
     "output_type": "stream",
     "text": [
      "\n"
     ]
    },
    {
     "name": "stdout",
     "output_type": "stream",
     "text": [
      "\n",
      "Val set: Average loss: 0.0701, Accuracy: 75792/77773 (97.453%)\n"
     ]
    },
    {
     "name": "stderr",
     "output_type": "stream",
     "text": [
      "Train Epoch: 6\tAccuracy: 97.530%\tLoss: 0.067800: 100%|██████████| 152/152 [00:01<00:00, 82.41it/s]"
     ]
    },
    {
     "name": "stdout",
     "output_type": "stream",
     "text": [
      "Epoch 7\n"
     ]
    },
    {
     "name": "stderr",
     "output_type": "stream",
     "text": [
      "\n"
     ]
    },
    {
     "name": "stdout",
     "output_type": "stream",
     "text": [
      "\n",
      "Val set: Average loss: 0.0664, Accuracy: 75910/77773 (97.605%)\n"
     ]
    },
    {
     "name": "stderr",
     "output_type": "stream",
     "text": [
      "Train Epoch: 7\tAccuracy: 97.674%\tLoss: 0.064164: 100%|██████████| 152/152 [00:01<00:00, 81.29it/s]"
     ]
    },
    {
     "name": "stdout",
     "output_type": "stream",
     "text": [
      "Epoch 8\n"
     ]
    },
    {
     "name": "stderr",
     "output_type": "stream",
     "text": [
      "\n"
     ]
    },
    {
     "name": "stdout",
     "output_type": "stream",
     "text": [
      "\n",
      "Val set: Average loss: 0.0636, Accuracy: 75988/77773 (97.705%)\n"
     ]
    },
    {
     "name": "stderr",
     "output_type": "stream",
     "text": [
      "Train Epoch: 8\tAccuracy: 97.799%\tLoss: 0.060951: 100%|██████████| 152/152 [00:01<00:00, 82.11it/s]"
     ]
    },
    {
     "name": "stdout",
     "output_type": "stream",
     "text": [
      "Epoch 9\n"
     ]
    },
    {
     "name": "stderr",
     "output_type": "stream",
     "text": [
      "\n"
     ]
    },
    {
     "name": "stdout",
     "output_type": "stream",
     "text": [
      "\n",
      "Val set: Average loss: 0.0612, Accuracy: 76078/77773 (97.821%)\n"
     ]
    },
    {
     "name": "stderr",
     "output_type": "stream",
     "text": [
      "Train Epoch: 9\tAccuracy: 97.903%\tLoss: 0.058051: 100%|██████████| 152/152 [00:01<00:00, 82.38it/s]"
     ]
    },
    {
     "name": "stdout",
     "output_type": "stream",
     "text": [
      "Epoch 10\n"
     ]
    },
    {
     "name": "stderr",
     "output_type": "stream",
     "text": [
      "\n"
     ]
    },
    {
     "name": "stdout",
     "output_type": "stream",
     "text": [
      "\n",
      "Val set: Average loss: 0.0595, Accuracy: 76133/77773 (97.891%)\n"
     ]
    },
    {
     "name": "stderr",
     "output_type": "stream",
     "text": [
      "Train Epoch: 10\tAccuracy: 97.995%\tLoss: 0.056051: 100%|██████████| 152/152 [00:01<00:00, 82.07it/s]"
     ]
    },
    {
     "name": "stdout",
     "output_type": "stream",
     "text": [
      "Epoch 11\n"
     ]
    },
    {
     "name": "stderr",
     "output_type": "stream",
     "text": [
      "\n"
     ]
    },
    {
     "name": "stdout",
     "output_type": "stream",
     "text": [
      "\n",
      "Val set: Average loss: 0.0580, Accuracy: 76170/77773 (97.939%)\n"
     ]
    },
    {
     "name": "stderr",
     "output_type": "stream",
     "text": [
      "Train Epoch: 11\tAccuracy: 98.091%\tLoss: 0.053710: 100%|██████████| 152/152 [00:01<00:00, 81.35it/s]"
     ]
    },
    {
     "name": "stdout",
     "output_type": "stream",
     "text": [
      "Epoch 12\n"
     ]
    },
    {
     "name": "stderr",
     "output_type": "stream",
     "text": [
      "\n"
     ]
    },
    {
     "name": "stdout",
     "output_type": "stream",
     "text": [
      "\n",
      "Val set: Average loss: 0.0566, Accuracy: 76223/77773 (98.007%)\n"
     ]
    },
    {
     "name": "stderr",
     "output_type": "stream",
     "text": [
      "Train Epoch: 12\tAccuracy: 98.173%\tLoss: 0.052107: 100%|██████████| 152/152 [00:01<00:00, 77.35it/s]"
     ]
    },
    {
     "name": "stdout",
     "output_type": "stream",
     "text": [
      "Epoch 13\n"
     ]
    },
    {
     "name": "stderr",
     "output_type": "stream",
     "text": [
      "\n"
     ]
    },
    {
     "name": "stdout",
     "output_type": "stream",
     "text": [
      "\n",
      "Val set: Average loss: 0.0554, Accuracy: 76262/77773 (98.057%)\n"
     ]
    },
    {
     "name": "stderr",
     "output_type": "stream",
     "text": [
      "Train Epoch: 13\tAccuracy: 98.243%\tLoss: 0.050471: 100%|██████████| 152/152 [00:01<00:00, 81.56it/s]"
     ]
    },
    {
     "name": "stdout",
     "output_type": "stream",
     "text": [
      "Epoch 14\n"
     ]
    },
    {
     "name": "stderr",
     "output_type": "stream",
     "text": [
      "\n"
     ]
    },
    {
     "name": "stdout",
     "output_type": "stream",
     "text": [
      "\n",
      "Val set: Average loss: 0.0543, Accuracy: 76299/77773 (98.105%)\n"
     ]
    },
    {
     "name": "stderr",
     "output_type": "stream",
     "text": [
      "Train Epoch: 14\tAccuracy: 98.299%\tLoss: 0.049224: 100%|██████████| 152/152 [00:01<00:00, 81.58it/s]"
     ]
    },
    {
     "name": "stdout",
     "output_type": "stream",
     "text": [
      "Epoch 15\n"
     ]
    },
    {
     "name": "stderr",
     "output_type": "stream",
     "text": [
      "\n"
     ]
    },
    {
     "name": "stdout",
     "output_type": "stream",
     "text": [
      "\n",
      "Val set: Average loss: 0.0533, Accuracy: 76333/77773 (98.148%)\n"
     ]
    },
    {
     "name": "stderr",
     "output_type": "stream",
     "text": [
      "Train Epoch: 15\tAccuracy: 98.350%\tLoss: 0.048305: 100%|██████████| 152/152 [00:01<00:00, 82.56it/s]"
     ]
    },
    {
     "name": "stdout",
     "output_type": "stream",
     "text": [
      "Epoch 16\n"
     ]
    },
    {
     "name": "stderr",
     "output_type": "stream",
     "text": [
      "\n"
     ]
    },
    {
     "name": "stdout",
     "output_type": "stream",
     "text": [
      "\n",
      "Val set: Average loss: 0.0525, Accuracy: 76363/77773 (98.187%)\n"
     ]
    },
    {
     "name": "stderr",
     "output_type": "stream",
     "text": [
      "Train Epoch: 16\tAccuracy: 98.406%\tLoss: 0.047141: 100%|██████████| 152/152 [00:01<00:00, 80.86it/s]"
     ]
    },
    {
     "name": "stdout",
     "output_type": "stream",
     "text": [
      "Epoch 17\n"
     ]
    },
    {
     "name": "stderr",
     "output_type": "stream",
     "text": [
      "\n"
     ]
    },
    {
     "name": "stdout",
     "output_type": "stream",
     "text": [
      "\n",
      "Val set: Average loss: 0.0517, Accuracy: 76390/77773 (98.222%)\n"
     ]
    },
    {
     "name": "stderr",
     "output_type": "stream",
     "text": [
      "Train Epoch: 17\tAccuracy: 98.454%\tLoss: 0.045871: 100%|██████████| 152/152 [00:01<00:00, 81.08it/s]"
     ]
    },
    {
     "name": "stdout",
     "output_type": "stream",
     "text": [
      "Epoch 18\n"
     ]
    },
    {
     "name": "stderr",
     "output_type": "stream",
     "text": [
      "\n"
     ]
    },
    {
     "name": "stdout",
     "output_type": "stream",
     "text": [
      "\n",
      "Val set: Average loss: 0.0511, Accuracy: 76408/77773 (98.245%)\n"
     ]
    },
    {
     "name": "stderr",
     "output_type": "stream",
     "text": [
      "Train Epoch: 18\tAccuracy: 98.499%\tLoss: 0.045101: 100%|██████████| 152/152 [00:01<00:00, 81.83it/s]"
     ]
    },
    {
     "name": "stdout",
     "output_type": "stream",
     "text": [
      "Epoch 19\n"
     ]
    },
    {
     "name": "stderr",
     "output_type": "stream",
     "text": [
      "\n"
     ]
    },
    {
     "name": "stdout",
     "output_type": "stream",
     "text": [
      "\n",
      "Val set: Average loss: 0.0505, Accuracy: 76429/77773 (98.272%)\n"
     ]
    },
    {
     "name": "stderr",
     "output_type": "stream",
     "text": [
      "Train Epoch: 19\tAccuracy: 98.548%\tLoss: 0.044433: 100%|██████████| 152/152 [00:01<00:00, 82.21it/s]"
     ]
    },
    {
     "name": "stdout",
     "output_type": "stream",
     "text": [
      "Epoch 20\n"
     ]
    },
    {
     "name": "stderr",
     "output_type": "stream",
     "text": [
      "\n"
     ]
    },
    {
     "name": "stdout",
     "output_type": "stream",
     "text": [
      "\n",
      "Val set: Average loss: 0.0500, Accuracy: 76435/77773 (98.280%)\n"
     ]
    },
    {
     "name": "stderr",
     "output_type": "stream",
     "text": [
      "Train Epoch: 20\tAccuracy: 98.588%\tLoss: 0.043948: 100%|██████████| 152/152 [00:01<00:00, 80.91it/s]"
     ]
    },
    {
     "name": "stdout",
     "output_type": "stream",
     "text": [
      "Epoch 21\n"
     ]
    },
    {
     "name": "stderr",
     "output_type": "stream",
     "text": [
      "\n"
     ]
    },
    {
     "name": "stdout",
     "output_type": "stream",
     "text": [
      "\n",
      "Val set: Average loss: 0.0497, Accuracy: 76444/77773 (98.291%)\n"
     ]
    },
    {
     "name": "stderr",
     "output_type": "stream",
     "text": [
      "Train Epoch: 21\tAccuracy: 98.615%\tLoss: 0.042713: 100%|██████████| 152/152 [00:01<00:00, 81.35it/s]"
     ]
    },
    {
     "name": "stdout",
     "output_type": "stream",
     "text": [
      "Epoch 22\n"
     ]
    },
    {
     "name": "stderr",
     "output_type": "stream",
     "text": [
      "\n"
     ]
    },
    {
     "name": "stdout",
     "output_type": "stream",
     "text": [
      "\n",
      "Val set: Average loss: 0.0493, Accuracy: 76451/77773 (98.300%)\n"
     ]
    },
    {
     "name": "stderr",
     "output_type": "stream",
     "text": [
      "Train Epoch: 22\tAccuracy: 98.651%\tLoss: 0.041974: 100%|██████████| 152/152 [00:01<00:00, 81.24it/s]"
     ]
    },
    {
     "name": "stdout",
     "output_type": "stream",
     "text": [
      "Epoch 23\n"
     ]
    },
    {
     "name": "stderr",
     "output_type": "stream",
     "text": [
      "\n"
     ]
    },
    {
     "name": "stdout",
     "output_type": "stream",
     "text": [
      "\n",
      "Val set: Average loss: 0.0492, Accuracy: 76473/77773 (98.328%)\n"
     ]
    },
    {
     "name": "stderr",
     "output_type": "stream",
     "text": [
      "Train Epoch: 23\tAccuracy: 98.692%\tLoss: 0.041863: 100%|██████████| 152/152 [00:01<00:00, 81.82it/s]"
     ]
    },
    {
     "name": "stdout",
     "output_type": "stream",
     "text": [
      "Epoch 24\n"
     ]
    },
    {
     "name": "stderr",
     "output_type": "stream",
     "text": [
      "\n"
     ]
    },
    {
     "name": "stdout",
     "output_type": "stream",
     "text": [
      "\n",
      "Val set: Average loss: 0.0489, Accuracy: 76472/77773 (98.327%)\n"
     ]
    },
    {
     "name": "stderr",
     "output_type": "stream",
     "text": [
      "Train Epoch: 24\tAccuracy: 98.713%\tLoss: 0.041104: 100%|██████████| 152/152 [00:01<00:00, 82.08it/s]"
     ]
    },
    {
     "name": "stdout",
     "output_type": "stream",
     "text": [
      "Epoch 25\n"
     ]
    },
    {
     "name": "stderr",
     "output_type": "stream",
     "text": [
      "\n"
     ]
    },
    {
     "name": "stdout",
     "output_type": "stream",
     "text": [
      "\n",
      "Val set: Average loss: 0.0486, Accuracy: 76480/77773 (98.337%)\n"
     ]
    },
    {
     "name": "stderr",
     "output_type": "stream",
     "text": [
      "Train Epoch: 25\tAccuracy: 98.739%\tLoss: 0.040669: 100%|██████████| 152/152 [00:01<00:00, 81.00it/s]"
     ]
    },
    {
     "name": "stdout",
     "output_type": "stream",
     "text": [
      "Epoch 26\n"
     ]
    },
    {
     "name": "stderr",
     "output_type": "stream",
     "text": [
      "\n"
     ]
    },
    {
     "name": "stdout",
     "output_type": "stream",
     "text": [
      "\n",
      "Val set: Average loss: 0.0485, Accuracy: 76482/77773 (98.340%)\n"
     ]
    },
    {
     "name": "stderr",
     "output_type": "stream",
     "text": [
      "Train Epoch: 26\tAccuracy: 98.773%\tLoss: 0.040145: 100%|██████████| 152/152 [00:01<00:00, 81.24it/s]"
     ]
    },
    {
     "name": "stdout",
     "output_type": "stream",
     "text": [
      "Epoch 27\n"
     ]
    },
    {
     "name": "stderr",
     "output_type": "stream",
     "text": [
      "\n"
     ]
    },
    {
     "name": "stdout",
     "output_type": "stream",
     "text": [
      "\n",
      "Val set: Average loss: 0.0483, Accuracy: 76488/77773 (98.348%)\n"
     ]
    },
    {
     "name": "stderr",
     "output_type": "stream",
     "text": [
      "Train Epoch: 27\tAccuracy: 98.795%\tLoss: 0.039949: 100%|██████████| 152/152 [00:01<00:00, 78.13it/s]"
     ]
    },
    {
     "name": "stdout",
     "output_type": "stream",
     "text": [
      "Epoch 28\n"
     ]
    },
    {
     "name": "stderr",
     "output_type": "stream",
     "text": [
      "\n"
     ]
    },
    {
     "name": "stdout",
     "output_type": "stream",
     "text": [
      "\n",
      "Val set: Average loss: 0.0480, Accuracy: 76503/77773 (98.367%)\n"
     ]
    },
    {
     "name": "stderr",
     "output_type": "stream",
     "text": [
      "Train Epoch: 28\tAccuracy: 98.822%\tLoss: 0.039601: 100%|██████████| 152/152 [00:01<00:00, 81.88it/s]"
     ]
    },
    {
     "name": "stdout",
     "output_type": "stream",
     "text": [
      "Epoch 29\n"
     ]
    },
    {
     "name": "stderr",
     "output_type": "stream",
     "text": [
      "\n"
     ]
    },
    {
     "name": "stdout",
     "output_type": "stream",
     "text": [
      "\n",
      "Val set: Average loss: 0.0479, Accuracy: 76513/77773 (98.380%)\n"
     ]
    },
    {
     "name": "stderr",
     "output_type": "stream",
     "text": [
      "Train Epoch: 29\tAccuracy: 98.839%\tLoss: 0.039138: 100%|██████████| 152/152 [00:01<00:00, 80.92it/s]"
     ]
    },
    {
     "name": "stdout",
     "output_type": "stream",
     "text": [
      "Epoch 30\n"
     ]
    },
    {
     "name": "stderr",
     "output_type": "stream",
     "text": [
      "\n"
     ]
    },
    {
     "name": "stdout",
     "output_type": "stream",
     "text": [
      "\n",
      "Val set: Average loss: 0.0479, Accuracy: 76515/77773 (98.382%)\n"
     ]
    },
    {
     "name": "stderr",
     "output_type": "stream",
     "text": [
      "Train Epoch: 30\tAccuracy: 98.848%\tLoss: 0.039246: 100%|██████████| 152/152 [00:01<00:00, 80.88it/s]"
     ]
    },
    {
     "name": "stdout",
     "output_type": "stream",
     "text": [
      "Epoch 31\n"
     ]
    },
    {
     "name": "stderr",
     "output_type": "stream",
     "text": [
      "\n"
     ]
    },
    {
     "name": "stdout",
     "output_type": "stream",
     "text": [
      "\n",
      "Val set: Average loss: 0.0476, Accuracy: 76535/77773 (98.408%)\n"
     ]
    },
    {
     "name": "stderr",
     "output_type": "stream",
     "text": [
      "Train Epoch: 31\tAccuracy: 98.866%\tLoss: 0.039111: 100%|██████████| 152/152 [00:01<00:00, 81.11it/s]"
     ]
    },
    {
     "name": "stdout",
     "output_type": "stream",
     "text": [
      "Epoch 32\n"
     ]
    },
    {
     "name": "stderr",
     "output_type": "stream",
     "text": [
      "\n"
     ]
    },
    {
     "name": "stdout",
     "output_type": "stream",
     "text": [
      "\n",
      "Val set: Average loss: 0.0479, Accuracy: 76529/77773 (98.400%)\n"
     ]
    },
    {
     "name": "stderr",
     "output_type": "stream",
     "text": [
      "Train Epoch: 32\tAccuracy: 98.868%\tLoss: 0.038986: 100%|██████████| 152/152 [00:01<00:00, 81.67it/s]"
     ]
    },
    {
     "name": "stdout",
     "output_type": "stream",
     "text": [
      "Epoch 33\n"
     ]
    },
    {
     "name": "stderr",
     "output_type": "stream",
     "text": [
      "\n"
     ]
    },
    {
     "name": "stdout",
     "output_type": "stream",
     "text": [
      "\n",
      "Val set: Average loss: 0.0476, Accuracy: 76539/77773 (98.413%)\n"
     ]
    },
    {
     "name": "stderr",
     "output_type": "stream",
     "text": [
      "Train Epoch: 33\tAccuracy: 98.888%\tLoss: 0.038639: 100%|██████████| 152/152 [00:01<00:00, 79.28it/s]"
     ]
    },
    {
     "name": "stdout",
     "output_type": "stream",
     "text": [
      "Epoch 34\n"
     ]
    },
    {
     "name": "stderr",
     "output_type": "stream",
     "text": [
      "\n"
     ]
    },
    {
     "name": "stdout",
     "output_type": "stream",
     "text": [
      "\n",
      "Val set: Average loss: 0.0475, Accuracy: 76546/77773 (98.422%)\n"
     ]
    },
    {
     "name": "stderr",
     "output_type": "stream",
     "text": [
      "Train Epoch: 34\tAccuracy: 98.906%\tLoss: 0.037970: 100%|██████████| 152/152 [00:01<00:00, 80.21it/s]"
     ]
    },
    {
     "name": "stdout",
     "output_type": "stream",
     "text": [
      "Epoch 35\n"
     ]
    },
    {
     "name": "stderr",
     "output_type": "stream",
     "text": [
      "\n"
     ]
    },
    {
     "name": "stdout",
     "output_type": "stream",
     "text": [
      "\n",
      "Val set: Average loss: 0.0479, Accuracy: 76529/77773 (98.400%)\n"
     ]
    },
    {
     "name": "stderr",
     "output_type": "stream",
     "text": [
      "Train Epoch: 35\tAccuracy: 98.927%\tLoss: 0.036327: 100%|██████████| 152/152 [00:01<00:00, 79.11it/s]"
     ]
    },
    {
     "name": "stdout",
     "output_type": "stream",
     "text": [
      "Epoch 36\n"
     ]
    },
    {
     "name": "stderr",
     "output_type": "stream",
     "text": [
      "\n"
     ]
    },
    {
     "name": "stdout",
     "output_type": "stream",
     "text": [
      "\n",
      "Val set: Average loss: 0.0480, Accuracy: 76527/77773 (98.398%)\n"
     ]
    },
    {
     "name": "stderr",
     "output_type": "stream",
     "text": [
      "Train Epoch: 36\tAccuracy: 98.945%\tLoss: 0.035618: 100%|██████████| 152/152 [00:01<00:00, 81.16it/s]"
     ]
    },
    {
     "name": "stdout",
     "output_type": "stream",
     "text": [
      "Epoch 37\n"
     ]
    },
    {
     "name": "stderr",
     "output_type": "stream",
     "text": [
      "\n"
     ]
    },
    {
     "name": "stdout",
     "output_type": "stream",
     "text": [
      "\n",
      "Val set: Average loss: 0.0481, Accuracy: 76530/77773 (98.402%)\n"
     ]
    },
    {
     "name": "stderr",
     "output_type": "stream",
     "text": [
      "Train Epoch: 37\tAccuracy: 98.944%\tLoss: 0.034858: 100%|██████████| 152/152 [00:01<00:00, 82.01it/s]"
     ]
    },
    {
     "name": "stdout",
     "output_type": "stream",
     "text": [
      "Epoch 38\n"
     ]
    },
    {
     "name": "stderr",
     "output_type": "stream",
     "text": [
      "\n"
     ]
    },
    {
     "name": "stdout",
     "output_type": "stream",
     "text": [
      "\n",
      "Val set: Average loss: 0.0482, Accuracy: 76527/77773 (98.398%)\n"
     ]
    },
    {
     "name": "stderr",
     "output_type": "stream",
     "text": [
      "Train Epoch: 38\tAccuracy: 98.943%\tLoss: 0.035467: 100%|██████████| 152/152 [00:01<00:00, 82.07it/s]"
     ]
    },
    {
     "name": "stdout",
     "output_type": "stream",
     "text": [
      "Epoch 39\n"
     ]
    },
    {
     "name": "stderr",
     "output_type": "stream",
     "text": [
      "\n"
     ]
    },
    {
     "name": "stdout",
     "output_type": "stream",
     "text": [
      "\n",
      "Val set: Average loss: 0.0477, Accuracy: 76545/77773 (98.421%)\n"
     ]
    },
    {
     "name": "stderr",
     "output_type": "stream",
     "text": [
      "Train Epoch: 39\tAccuracy: 98.917%\tLoss: 0.040632: 100%|██████████| 152/152 [00:01<00:00, 81.01it/s]"
     ]
    },
    {
     "name": "stdout",
     "output_type": "stream",
     "text": [
      "Epoch 40\n"
     ]
    },
    {
     "name": "stderr",
     "output_type": "stream",
     "text": [
      "\n"
     ]
    },
    {
     "name": "stdout",
     "output_type": "stream",
     "text": [
      "\n",
      "Val set: Average loss: 0.0478, Accuracy: 76549/77773 (98.426%)\n"
     ]
    },
    {
     "name": "stderr",
     "output_type": "stream",
     "text": [
      "Train Epoch: 40\tAccuracy: 98.953%\tLoss: 0.039544: 100%|██████████| 152/152 [00:01<00:00, 80.95it/s]"
     ]
    },
    {
     "name": "stdout",
     "output_type": "stream",
     "text": [
      "Epoch 41\n"
     ]
    },
    {
     "name": "stderr",
     "output_type": "stream",
     "text": [
      "\n"
     ]
    },
    {
     "name": "stdout",
     "output_type": "stream",
     "text": [
      "\n",
      "Val set: Average loss: 0.0494, Accuracy: 76528/77773 (98.399%)\n"
     ]
    },
    {
     "name": "stderr",
     "output_type": "stream",
     "text": [
      "Train Epoch: 41\tAccuracy: 99.001%\tLoss: 0.034962: 100%|██████████| 152/152 [00:01<00:00, 81.07it/s]\n"
     ]
    },
    {
     "name": "stdout",
     "output_type": "stream",
     "text": [
      "Epoch 42\n",
      "\n",
      "Val set: Average loss: 0.0505, Accuracy: 76483/77773 (98.341%)\n"
     ]
    },
    {
     "name": "stderr",
     "output_type": "stream",
     "text": [
      "Train Epoch: 42\tAccuracy: 99.049%\tLoss: 0.032720: 100%|██████████| 152/152 [00:01<00:00, 80.63it/s]"
     ]
    },
    {
     "name": "stdout",
     "output_type": "stream",
     "text": [
      "Epoch 43\n"
     ]
    },
    {
     "name": "stderr",
     "output_type": "stream",
     "text": [
      "\n"
     ]
    },
    {
     "name": "stdout",
     "output_type": "stream",
     "text": [
      "\n",
      "Val set: Average loss: 0.0500, Accuracy: 76503/77773 (98.367%)\n"
     ]
    },
    {
     "name": "stderr",
     "output_type": "stream",
     "text": [
      "Train Epoch: 43\tAccuracy: 99.070%\tLoss: 0.032600: 100%|██████████| 152/152 [00:01<00:00, 79.20it/s]"
     ]
    },
    {
     "name": "stdout",
     "output_type": "stream",
     "text": [
      "Epoch 44\n"
     ]
    },
    {
     "name": "stderr",
     "output_type": "stream",
     "text": [
      "\n"
     ]
    },
    {
     "name": "stdout",
     "output_type": "stream",
     "text": [
      "\n",
      "Val set: Average loss: 0.0495, Accuracy: 76512/77773 (98.379%)\n"
     ]
    },
    {
     "name": "stderr",
     "output_type": "stream",
     "text": [
      "Train Epoch: 44\tAccuracy: 99.096%\tLoss: 0.030955: 100%|██████████| 152/152 [00:01<00:00, 81.36it/s]"
     ]
    },
    {
     "name": "stdout",
     "output_type": "stream",
     "text": [
      "Epoch 45\n"
     ]
    },
    {
     "name": "stderr",
     "output_type": "stream",
     "text": [
      "\n"
     ]
    },
    {
     "name": "stdout",
     "output_type": "stream",
     "text": [
      "\n",
      "Val set: Average loss: 0.0493, Accuracy: 76534/77773 (98.407%)\n"
     ]
    },
    {
     "name": "stderr",
     "output_type": "stream",
     "text": [
      "Train Epoch: 45\tAccuracy: 99.112%\tLoss: 0.031925: 100%|██████████| 152/152 [00:01<00:00, 80.85it/s]"
     ]
    },
    {
     "name": "stdout",
     "output_type": "stream",
     "text": [
      "Epoch 46\n"
     ]
    },
    {
     "name": "stderr",
     "output_type": "stream",
     "text": [
      "\n"
     ]
    },
    {
     "name": "stdout",
     "output_type": "stream",
     "text": [
      "\n",
      "Val set: Average loss: 0.0481, Accuracy: 76564/77773 (98.445%)\n"
     ]
    },
    {
     "name": "stderr",
     "output_type": "stream",
     "text": [
      "Train Epoch: 46\tAccuracy: 99.130%\tLoss: 0.032270: 100%|██████████| 152/152 [00:01<00:00, 81.27it/s]"
     ]
    },
    {
     "name": "stdout",
     "output_type": "stream",
     "text": [
      "Epoch 47\n"
     ]
    },
    {
     "name": "stderr",
     "output_type": "stream",
     "text": [
      "\n"
     ]
    },
    {
     "name": "stdout",
     "output_type": "stream",
     "text": [
      "\n",
      "Val set: Average loss: 0.0482, Accuracy: 76564/77773 (98.445%)\n"
     ]
    },
    {
     "name": "stderr",
     "output_type": "stream",
     "text": [
      "Train Epoch: 47\tAccuracy: 99.139%\tLoss: 0.030609: 100%|██████████| 152/152 [00:01<00:00, 81.31it/s]"
     ]
    },
    {
     "name": "stdout",
     "output_type": "stream",
     "text": [
      "Epoch 48\n"
     ]
    },
    {
     "name": "stderr",
     "output_type": "stream",
     "text": [
      "\n"
     ]
    },
    {
     "name": "stdout",
     "output_type": "stream",
     "text": [
      "\n",
      "Val set: Average loss: 0.0480, Accuracy: 76581/77773 (98.467%)\n"
     ]
    },
    {
     "name": "stderr",
     "output_type": "stream",
     "text": [
      "Train Epoch: 48\tAccuracy: 99.162%\tLoss: 0.029939: 100%|██████████| 152/152 [00:01<00:00, 80.34it/s]"
     ]
    },
    {
     "name": "stdout",
     "output_type": "stream",
     "text": [
      "Epoch 49\n"
     ]
    },
    {
     "name": "stderr",
     "output_type": "stream",
     "text": [
      "\n"
     ]
    },
    {
     "name": "stdout",
     "output_type": "stream",
     "text": [
      "\n",
      "Val set: Average loss: 0.0483, Accuracy: 76579/77773 (98.465%)\n"
     ]
    },
    {
     "name": "stderr",
     "output_type": "stream",
     "text": [
      "Train Epoch: 49\tAccuracy: 99.162%\tLoss: 0.029151: 100%|██████████| 152/152 [00:01<00:00, 80.42it/s]"
     ]
    },
    {
     "name": "stdout",
     "output_type": "stream",
     "text": [
      "Epoch 50\n"
     ]
    },
    {
     "name": "stderr",
     "output_type": "stream",
     "text": [
      "\n"
     ]
    },
    {
     "name": "stdout",
     "output_type": "stream",
     "text": [
      "\n",
      "Val set: Average loss: 0.0479, Accuracy: 76595/77773 (98.485%)\n"
     ]
    },
    {
     "name": "stderr",
     "output_type": "stream",
     "text": [
      "Train Epoch: 50\tAccuracy: 99.183%\tLoss: 0.027786: 100%|██████████| 152/152 [00:01<00:00, 81.16it/s]"
     ]
    },
    {
     "name": "stdout",
     "output_type": "stream",
     "text": [
      "Epoch 51\n"
     ]
    },
    {
     "name": "stderr",
     "output_type": "stream",
     "text": [
      "\n"
     ]
    },
    {
     "name": "stdout",
     "output_type": "stream",
     "text": [
      "\n",
      "Val set: Average loss: 0.0481, Accuracy: 76600/77773 (98.492%)\n"
     ]
    },
    {
     "name": "stderr",
     "output_type": "stream",
     "text": [
      "Train Epoch: 51\tAccuracy: 99.194%\tLoss: 0.023166: 100%|██████████| 152/152 [00:01<00:00, 81.90it/s]"
     ]
    },
    {
     "name": "stdout",
     "output_type": "stream",
     "text": [
      "Epoch 52\n"
     ]
    },
    {
     "name": "stderr",
     "output_type": "stream",
     "text": [
      "\n"
     ]
    },
    {
     "name": "stdout",
     "output_type": "stream",
     "text": [
      "\n",
      "Val set: Average loss: 0.0479, Accuracy: 76610/77773 (98.505%)\n"
     ]
    },
    {
     "name": "stderr",
     "output_type": "stream",
     "text": [
      "Train Epoch: 52\tAccuracy: 99.209%\tLoss: 0.022736: 100%|██████████| 152/152 [00:01<00:00, 82.50it/s]"
     ]
    },
    {
     "name": "stdout",
     "output_type": "stream",
     "text": [
      "Epoch 53\n"
     ]
    },
    {
     "name": "stderr",
     "output_type": "stream",
     "text": [
      "\n"
     ]
    },
    {
     "name": "stdout",
     "output_type": "stream",
     "text": [
      "\n",
      "Val set: Average loss: 0.0486, Accuracy: 76579/77773 (98.465%)\n"
     ]
    },
    {
     "name": "stderr",
     "output_type": "stream",
     "text": [
      "Train Epoch: 53\tAccuracy: 99.215%\tLoss: 0.021513: 100%|██████████| 152/152 [00:01<00:00, 81.71it/s]"
     ]
    },
    {
     "name": "stdout",
     "output_type": "stream",
     "text": [
      "Epoch 54\n"
     ]
    },
    {
     "name": "stderr",
     "output_type": "stream",
     "text": [
      "\n"
     ]
    },
    {
     "name": "stdout",
     "output_type": "stream",
     "text": [
      "\n",
      "Val set: Average loss: 0.0479, Accuracy: 76615/77773 (98.511%)\n"
     ]
    },
    {
     "name": "stderr",
     "output_type": "stream",
     "text": [
      "Train Epoch: 54\tAccuracy: 99.234%\tLoss: 0.021507: 100%|██████████| 152/152 [00:01<00:00, 81.40it/s]"
     ]
    },
    {
     "name": "stdout",
     "output_type": "stream",
     "text": [
      "Epoch 55\n"
     ]
    },
    {
     "name": "stderr",
     "output_type": "stream",
     "text": [
      "\n"
     ]
    },
    {
     "name": "stdout",
     "output_type": "stream",
     "text": [
      "\n",
      "Val set: Average loss: 0.0482, Accuracy: 76592/77773 (98.481%)\n"
     ]
    },
    {
     "name": "stderr",
     "output_type": "stream",
     "text": [
      "Train Epoch: 55\tAccuracy: 99.241%\tLoss: 0.020603: 100%|██████████| 152/152 [00:01<00:00, 81.73it/s]"
     ]
    },
    {
     "name": "stdout",
     "output_type": "stream",
     "text": [
      "Epoch 56\n"
     ]
    },
    {
     "name": "stderr",
     "output_type": "stream",
     "text": [
      "\n"
     ]
    },
    {
     "name": "stdout",
     "output_type": "stream",
     "text": [
      "\n",
      "Val set: Average loss: 0.0487, Accuracy: 76603/77773 (98.496%)\n"
     ]
    },
    {
     "name": "stderr",
     "output_type": "stream",
     "text": [
      "Train Epoch: 56\tAccuracy: 99.290%\tLoss: 0.015392:  20%|██        | 31/152 [00:00<00:01, 83.62it/s]"
     ]
    }
   ],
   "source": [
    "from train import train_genders\n",
    "from train import LogisticMLP\n",
    "\n",
    "\n",
    "retrain_gender_model = False\n",
    "mlp_or_lin = 'mlp'\n",
    "real_dataset = (train_features, val_features, test_features)\n",
    "save_name = f'gender_pred/{modeltype}_{mlp_or_lin}_baseline_{baseline}.pt'\n",
    "if retrain_gender_model:\n",
    "  pg_model = train_genders(real_dataset, genders,\n",
    "                          batch_size=2048, test_batch_size=8192,\n",
    "                          learning_rate=1e-3, epochs=200,\n",
    "                          train_on_validation_set=True,\n",
    "                          model_type=mlp_or_lin,\n",
    "                          save_path_and_name=save_name)\n",
    "else:\n",
    "  device = torch.device('cuda' if torch.cuda.is_available() else 'cpu')\n",
    "  in_features = train_features.shape[1]\n",
    "  state_dict = torch.load(save_name)\n",
    "  pg_model = train_genders(real_dataset, genders,\n",
    "                          batch_size=2048, test_batch_size=8192,\n",
    "                          learning_rate=1e-3, epochs=0,\n",
    "                          train_on_validation_set=True,\n",
    "                          model_type=mlp_or_lin,\n",
    "                          state_dict=state_dict)"
   ]
  },
  {
   "attachments": {},
   "cell_type": "markdown",
   "metadata": {},
   "source": [
    "Train to predict gender from occupation"
   ]
  },
  {
   "cell_type": "code",
   "execution_count": null,
   "metadata": {},
   "outputs": [
    {
     "ename": "IndentationError",
     "evalue": "unindent does not match any outer indentation level (train.py, line 301)",
     "output_type": "error",
     "traceback": [
      "Traceback \u001b[0;36m(most recent call last)\u001b[0m:\n",
      "\u001b[0m  File \u001b[1;32m~/python_environements/pytorch_venv/lib/python3.11/site-packages/IPython/core/interactiveshell.py:3508\u001b[0m in \u001b[1;35mrun_code\u001b[0m\n    exec(code_obj, self.user_global_ns, self.user_ns)\u001b[0m\n",
      "\u001b[0;36m  Cell \u001b[0;32mIn[14], line 2\u001b[0;36m\n\u001b[0;31m    from train import predict_gender_from_occupation\u001b[0;36m\n",
      "\u001b[0;36m  File \u001b[0;32m~/Documents/doctorat/GITHUB/TaCo/train.py:301\u001b[0;36m\u001b[0m\n\u001b[0;31m    labels, val_labels, _ = occupation_dataset\u001b[0m\n\u001b[0m                                              ^\u001b[0m\n\u001b[0;31mIndentationError\u001b[0m\u001b[0;31m:\u001b[0m unindent does not match any outer indentation level\n"
     ]
    }
   ],
   "source": [
    "import numpy as np\n",
    "from train import predict_gender_from_occupation\n",
    "\n",
    "occupation_dataset = (train_labels, val_labels, test_labels)\n",
    "predict_gender_from_occupation(occupation_dataset, genders)"
   ]
  },
  {
   "attachments": {},
   "cell_type": "markdown",
   "metadata": {},
   "source": [
    "# PART 1: Matrix decomposition"
   ]
  },
  {
   "cell_type": "code",
   "execution_count": 12,
   "metadata": {},
   "outputs": [],
   "source": [
    "features = torch.cat((train_features, val_features, test_features), dim=0)\n",
    "\n",
    "#refill the tensors:\n",
    "n_train, n_val, n_test = len(train_features), len(val_features), len(test_features)\n",
    "#train_features_new, val_features_new, test_features_new = features.split((n_train, n_val, n_test), dim=0)"
   ]
  },
  {
   "cell_type": "code",
   "execution_count": 13,
   "metadata": {},
   "outputs": [
    {
     "name": "stdout",
     "output_type": "stream",
     "text": [
      "num_components: 20\n"
     ]
    }
   ],
   "source": [
    "from decomposition import decompose_choice\n",
    "\n",
    "method_name = \"sSVD\"\n",
    "num_components = 20\n",
    "decomposition_method = decompose_choice(method_name, num_components)\n",
    "\n",
    "\n",
    "U, W = decomposition_method.decompose(features)\n",
    "\n",
    "num_components = U.shape[1]\n",
    "print(\"num_components:\", num_components)"
   ]
  },
  {
   "cell_type": "code",
   "execution_count": 14,
   "metadata": {},
   "outputs": [
    {
     "data": {
      "text/plain": [
       "(torch.Size([388862, 20]), torch.Size([20, 768]))"
      ]
     },
     "execution_count": 14,
     "metadata": {},
     "output_type": "execute_result"
    }
   ],
   "source": [
    "U.shape, W.shape"
   ]
  },
  {
   "cell_type": "code",
   "execution_count": 15,
   "metadata": {},
   "outputs": [],
   "source": [
    "U_train, U_val, U_test = U.split((n_train, n_val, n_test), dim=0)"
   ]
  },
  {
   "attachments": {},
   "cell_type": "markdown",
   "metadata": {},
   "source": [
    "# PART 2: Ranking concepts (Sobol)"
   ]
  },
  {
   "cell_type": "code",
   "execution_count": 16,
   "metadata": {},
   "outputs": [
    {
     "ename": "NameError",
     "evalue": "name 'pg_model' is not defined",
     "output_type": "error",
     "traceback": [
      "\u001b[0;31m---------------------------------------------------------------------------\u001b[0m",
      "\u001b[0;31mNameError\u001b[0m                                 Traceback (most recent call last)",
      "Cell \u001b[0;32mIn[16], line 6\u001b[0m\n\u001b[1;32m      3\u001b[0m sobol_nb_design \u001b[39m=\u001b[39m \u001b[39m50\u001b[39m\n\u001b[1;32m      4\u001b[0m sampled \u001b[39m=\u001b[39m \u001b[39m10_000\u001b[39m\n\u001b[0;32m----> 6\u001b[0m pg_model\u001b[39m.\u001b[39meval() \n\u001b[1;32m      7\u001b[0m global_importance_gender, rel_errors_all_masks \u001b[39m=\u001b[39m sobol_importance_from_sample(train_features, U_train\u001b[39m.\u001b[39mnumpy(),\n\u001b[1;32m      8\u001b[0m                                                                               W\u001b[39m.\u001b[39mnumpy(), pg_model,\n\u001b[1;32m      9\u001b[0m                                                                               sampled\u001b[39m=\u001b[39msampled,\n\u001b[1;32m     10\u001b[0m                                                                               num_components\u001b[39m=\u001b[39mnum_components,\n\u001b[1;32m     11\u001b[0m                                                                               sobol_nb_design\u001b[39m=\u001b[39msobol_nb_design, \n\u001b[1;32m     12\u001b[0m                                                                               device\u001b[39m=\u001b[39mdevice)\n",
      "\u001b[0;31mNameError\u001b[0m: name 'pg_model' is not defined"
     ]
    }
   ],
   "source": [
    "from concept_removal import sobol_importance_from_sample\n",
    "\n",
    "sobol_nb_design = 50\n",
    "sampled = 10_000\n",
    "\n",
    "pg_model.eval() \n",
    "global_importance_gender, rel_errors_all_masks = sobol_importance_from_sample(train_features, U_train.numpy(),\n",
    "                                                                              W.numpy(), pg_model,\n",
    "                                                                              sampled=sampled,\n",
    "                                                                              num_components=num_components,\n",
    "                                                                              sobol_nb_design=sobol_nb_design, \n",
    "                                                                              device=device)"
   ]
  },
  {
   "cell_type": "code",
   "execution_count": 18,
   "metadata": {},
   "outputs": [],
   "source": [
    "import pickle\n",
    "pickle.dump(global_importance_gender, open(f'global_importance/{modeltype}_gi_gender_{method_name}{num_components}_{mlp_or_lin}_baseline_{baseline}.pkl',\"wb\"))\n",
    "#pickle.dump(rel_errors_all_masks, open(f'global_importance/{modeltype}_rel_error_gender_{method_name}{num_components}_{mlp_or_lin}_baseline_{baseline}.pkl',\"wb\"))"
   ]
  },
  {
   "cell_type": "code",
   "execution_count": 19,
   "metadata": {},
   "outputs": [
    {
     "data": {
      "image/png": "[encoded data removed]",
      "text/plain": [
       "<Figure size 640x480 with 1 Axes>"
      ]
     },
     "metadata": {},
     "output_type": "display_data"
    }
   ],
   "source": [
    "from visualization import plot_reconstruction_error\n",
    "import matplotlib.pyplot as plt\n",
    "\n",
    "plot_reconstruction_error(rel_errors_all_masks)"
   ]
  },
  {
   "cell_type": "code",
   "execution_count": 20,
   "metadata": {},
   "outputs": [
    {
     "name": "stderr",
     "output_type": "stream",
     "text": [
      "100%|██████████| 10000/10000 [00:34<00:00, 288.99it/s]\n"
     ]
    }
   ],
   "source": [
    "model.eval()\n",
    "model_occ = lambda x: model.end_model(x)\n",
    "global_importance_occ, _ = sobol_importance_from_sample(train_features, U_train.numpy(),\n",
    "                                                        W.numpy(), model_occ,\n",
    "                                                        sampled=sampled,\n",
    "                                                        num_components=num_components,\n",
    "                                                        sobol_nb_design=sobol_nb_design,\n",
    "                                                        device=device)"
   ]
  },
  {
   "cell_type": "code",
   "execution_count": 21,
   "metadata": {},
   "outputs": [],
   "source": [
    "pickle.dump(global_importance_occ, open(f'global_importance/gi_occupation_{modeltype}_{method_name}{num_components}_{mlp_or_lin}_baseline_{baseline}.pkl',\"wb\"))"
   ]
  },
  {
   "cell_type": "code",
   "execution_count": 22,
   "metadata": {},
   "outputs": [
    {
     "data": {
      "image/png": "[encoded data removed]",
      "text/plain": [
       "<Figure size 640x480 with 2 Axes>"
      ]
     },
     "metadata": {},
     "output_type": "display_data"
    }
   ],
   "source": [
    "from visualization import plot_co_importance\n",
    "plot_co_importance(global_importance_occ, global_importance_gender)"
   ]
  },
  {
   "attachments": {},
   "cell_type": "markdown",
   "metadata": {},
   "source": [
    "# PART 3: Remove concepts"
   ]
  },
  {
   "cell_type": "code",
   "execution_count": 23,
   "metadata": {},
   "outputs": [],
   "source": [
    "import pickle\n",
    "global_importance_gender = pickle.load(open(f'global_importance/gi_gender_{modeltype}_{method_name}{num_components}_{mlp_or_lin}_baseline_{baseline}.pkl',\"rb\"))\n",
    "global_importance_occ = pickle.load(open(f'global_importance/gi_occupation_{modeltype}_{method_name}{num_components}_{mlp_or_lin}_baseline_{baseline}.pkl',\"rb\"))\n"
   ]
  },
  {
   "cell_type": "code",
   "execution_count": 24,
   "metadata": {},
   "outputs": [
    {
     "data": {
      "text/plain": [
       "'idx=15 concepts=[0.0243585  0.07578097 0.01098823 0.01720361 0.04049529 0.01631085\\n 0.01669117 0.06363044 0.00933065 0.01939207 0.04085953 0.04520055\\n 0.05922386 0.04650775 0.04528637 0.32166594 0.08780622 0.06843268\\n 0.15949547 0.11797746]'"
      ]
     },
     "execution_count": 24,
     "metadata": {},
     "output_type": "execute_result"
    }
   ],
   "source": [
    "import numpy as np\n",
    "\n",
    "W_gender_max = np.argmax(global_importance_gender)\n",
    "f\"idx={W_gender_max} concepts={global_importance_gender}\""
   ]
  },
  {
   "cell_type": "code",
   "execution_count": 25,
   "metadata": {},
   "outputs": [
    {
     "data": {
      "text/plain": [
       "'idx=19 concepts=[0.00927795 0.01573761 0.01171252 0.01654688 0.01598535 0.01522195\\n 0.02540553 0.01985011 0.03767457 0.02538735 0.04953621 0.02944961\\n 0.0446679  0.04788776 0.0435529  0.05111797 0.07500111 0.10124696\\n 0.12307485 0.33257133]'"
      ]
     },
     "execution_count": 25,
     "metadata": {},
     "output_type": "execute_result"
    }
   ],
   "source": [
    "W_occ_max = np.argmax(global_importance_occ)\n",
    "f\"idx={W_occ_max} concepts={global_importance_occ}\""
   ]
  },
  {
   "cell_type": "code",
   "execution_count": 97,
   "metadata": {},
   "outputs": [
    {
     "data": {
      "text/plain": [
       "((272203, 768), (38886, 768), (77773, 768))"
      ]
     },
     "execution_count": 97,
     "metadata": {},
     "output_type": "execute_result"
    }
   ],
   "source": [
    "from concept_removal import crop_concepts, build_gender_neutral_features\n",
    "\n",
    "nb_cpt_remov = 1\n",
    "angle = np.arctan(global_importance_occ / global_importance_gender) * 180 / np.pi\n",
    "W_no_gender, to_keep = crop_concepts(W.numpy(), angle, num_or_threshold=num_components-nb_cpt_remov)\n",
    "\n",
    "\n",
    "train_a_no_gender = build_gender_neutral_features(U_train.numpy(), W_no_gender, to_keep)\n",
    "val_a_no_gender = build_gender_neutral_features(U_val.numpy(), W_no_gender, to_keep)\n",
    "test_a_no_gender = build_gender_neutral_features(U_test.numpy(), W_no_gender, to_keep)\n",
    "train_a_no_gender.shape, val_a_no_gender.shape, test_a_no_gender.shape"
   ]
  },
  {
   "attachments": {},
   "cell_type": "markdown",
   "metadata": {},
   "source": [
    "# Training new model without gender information"
   ]
  },
  {
   "cell_type": "code",
   "execution_count": 26,
   "metadata": {},
   "outputs": [
    {
     "name": "stdout",
     "output_type": "stream",
     "text": [
      "Epoch 1\n",
      "\n",
      "Val set: Average loss: 0.7015, Accuracy: 35899/77773 (46.159%)\n"
     ]
    },
    {
     "name": "stderr",
     "output_type": "stream",
     "text": [
      "Train Epoch: 1\tAccuracy: 64.023%\tLoss: 0.615357: 100%|██████████| 152/152 [00:02<00:00, 65.71it/s]"
     ]
    },
    {
     "name": "stdout",
     "output_type": "stream",
     "text": [
      "Epoch 2\n"
     ]
    },
    {
     "name": "stderr",
     "output_type": "stream",
     "text": [
      "\n"
     ]
    },
    {
     "name": "stdout",
     "output_type": "stream",
     "text": [
      "\n",
      "Val set: Average loss: 0.6188, Accuracy: 51128/77773 (65.740%)\n"
     ]
    },
    {
     "name": "stderr",
     "output_type": "stream",
     "text": [
      "Train Epoch: 2\tAccuracy: 66.098%\tLoss: 0.606028: 100%|██████████| 152/152 [00:01<00:00, 77.88it/s]"
     ]
    },
    {
     "name": "stdout",
     "output_type": "stream",
     "text": [
      "Epoch 3\n"
     ]
    },
    {
     "name": "stderr",
     "output_type": "stream",
     "text": [
      "\n"
     ]
    },
    {
     "name": "stdout",
     "output_type": "stream",
     "text": [
      "\n",
      "Val set: Average loss: 0.6127, Accuracy: 51811/77773 (66.618%)\n"
     ]
    },
    {
     "name": "stderr",
     "output_type": "stream",
     "text": [
      "Train Epoch: 3\tAccuracy: 66.576%\tLoss: 0.601804: 100%|██████████| 152/152 [00:02<00:00, 75.76it/s]"
     ]
    },
    {
     "name": "stdout",
     "output_type": "stream",
     "text": [
      "Epoch 4\n"
     ]
    },
    {
     "name": "stderr",
     "output_type": "stream",
     "text": [
      "\n"
     ]
    },
    {
     "name": "stdout",
     "output_type": "stream",
     "text": [
      "\n",
      "Val set: Average loss: 0.6095, Accuracy: 52064/77773 (66.944%)\n"
     ]
    },
    {
     "name": "stderr",
     "output_type": "stream",
     "text": [
      "Train Epoch: 4\tAccuracy: 66.821%\tLoss: 0.599123: 100%|██████████| 152/152 [00:01<00:00, 78.88it/s]"
     ]
    },
    {
     "name": "stdout",
     "output_type": "stream",
     "text": [
      "Epoch 5\n"
     ]
    },
    {
     "name": "stderr",
     "output_type": "stream",
     "text": [
      "\n"
     ]
    },
    {
     "name": "stdout",
     "output_type": "stream",
     "text": [
      "\n",
      "Val set: Average loss: 0.6074, Accuracy: 52177/77773 (67.089%)\n"
     ]
    },
    {
     "name": "stderr",
     "output_type": "stream",
     "text": [
      "Train Epoch: 5\tAccuracy: 66.959%\tLoss: 0.596678: 100%|██████████| 152/152 [00:01<00:00, 79.08it/s]"
     ]
    },
    {
     "name": "stdout",
     "output_type": "stream",
     "text": [
      "Epoch 6\n"
     ]
    },
    {
     "name": "stderr",
     "output_type": "stream",
     "text": [
      "\n"
     ]
    },
    {
     "name": "stdout",
     "output_type": "stream",
     "text": [
      "\n",
      "Val set: Average loss: 0.6058, Accuracy: 52254/77773 (67.188%)\n"
     ]
    },
    {
     "name": "stderr",
     "output_type": "stream",
     "text": [
      "Train Epoch: 6\tAccuracy: 67.090%\tLoss: 0.594696: 100%|██████████| 152/152 [00:01<00:00, 76.44it/s]"
     ]
    },
    {
     "name": "stdout",
     "output_type": "stream",
     "text": [
      "Epoch 7\n"
     ]
    },
    {
     "name": "stderr",
     "output_type": "stream",
     "text": [
      "\n"
     ]
    },
    {
     "name": "stdout",
     "output_type": "stream",
     "text": [
      "\n",
      "Val set: Average loss: 0.6043, Accuracy: 52319/77773 (67.271%)\n"
     ]
    },
    {
     "name": "stderr",
     "output_type": "stream",
     "text": [
      "Train Epoch: 7\tAccuracy: 67.204%\tLoss: 0.592963: 100%|██████████| 152/152 [00:01<00:00, 76.93it/s]"
     ]
    },
    {
     "name": "stdout",
     "output_type": "stream",
     "text": [
      "Epoch 8\n"
     ]
    },
    {
     "name": "stderr",
     "output_type": "stream",
     "text": [
      "\n"
     ]
    },
    {
     "name": "stdout",
     "output_type": "stream",
     "text": [
      "\n",
      "Val set: Average loss: 0.6031, Accuracy: 52403/77773 (67.379%)\n"
     ]
    },
    {
     "name": "stderr",
     "output_type": "stream",
     "text": [
      "Train Epoch: 8\tAccuracy: 67.239%\tLoss: 0.591797: 100%|██████████| 152/152 [00:01<00:00, 79.56it/s]"
     ]
    },
    {
     "name": "stdout",
     "output_type": "stream",
     "text": [
      "Epoch 9\n"
     ]
    },
    {
     "name": "stderr",
     "output_type": "stream",
     "text": [
      "\n"
     ]
    },
    {
     "name": "stdout",
     "output_type": "stream",
     "text": [
      "\n",
      "Val set: Average loss: 0.6020, Accuracy: 52436/77773 (67.422%)\n"
     ]
    },
    {
     "name": "stderr",
     "output_type": "stream",
     "text": [
      "Train Epoch: 9\tAccuracy: 67.277%\tLoss: 0.590733: 100%|██████████| 152/152 [00:01<00:00, 78.52it/s]"
     ]
    },
    {
     "name": "stdout",
     "output_type": "stream",
     "text": [
      "Epoch 10\n"
     ]
    },
    {
     "name": "stderr",
     "output_type": "stream",
     "text": [
      "\n"
     ]
    },
    {
     "name": "stdout",
     "output_type": "stream",
     "text": [
      "\n",
      "Val set: Average loss: 0.6011, Accuracy: 52495/77773 (67.498%)\n"
     ]
    },
    {
     "name": "stderr",
     "output_type": "stream",
     "text": [
      "Train Epoch: 10\tAccuracy: 67.356%\tLoss: 0.589475: 100%|██████████| 152/152 [00:01<00:00, 76.53it/s]"
     ]
    },
    {
     "name": "stdout",
     "output_type": "stream",
     "text": [
      "Epoch 11\n"
     ]
    },
    {
     "name": "stderr",
     "output_type": "stream",
     "text": [
      "\n"
     ]
    },
    {
     "name": "stdout",
     "output_type": "stream",
     "text": [
      "\n",
      "Val set: Average loss: 0.6001, Accuracy: 52495/77773 (67.498%)\n"
     ]
    },
    {
     "name": "stderr",
     "output_type": "stream",
     "text": [
      "Train Epoch: 11\tAccuracy: 67.399%\tLoss: 0.588675: 100%|██████████| 152/152 [00:02<00:00, 75.87it/s]"
     ]
    },
    {
     "name": "stdout",
     "output_type": "stream",
     "text": [
      "Epoch 12\n"
     ]
    },
    {
     "name": "stderr",
     "output_type": "stream",
     "text": [
      "\n"
     ]
    },
    {
     "name": "stdout",
     "output_type": "stream",
     "text": [
      "\n",
      "Val set: Average loss: 0.5993, Accuracy: 52520/77773 (67.530%)\n"
     ]
    },
    {
     "name": "stderr",
     "output_type": "stream",
     "text": [
      "Train Epoch: 12\tAccuracy: 67.468%\tLoss: 0.587871: 100%|██████████| 152/152 [00:01<00:00, 78.47it/s]"
     ]
    },
    {
     "name": "stdout",
     "output_type": "stream",
     "text": [
      "Epoch 13\n"
     ]
    },
    {
     "name": "stderr",
     "output_type": "stream",
     "text": [
      "\n"
     ]
    },
    {
     "name": "stdout",
     "output_type": "stream",
     "text": [
      "\n",
      "Val set: Average loss: 0.5986, Accuracy: 52555/77773 (67.575%)\n"
     ]
    },
    {
     "name": "stderr",
     "output_type": "stream",
     "text": [
      "Train Epoch: 13\tAccuracy: 67.546%\tLoss: 0.587388: 100%|██████████| 152/152 [00:01<00:00, 79.07it/s]"
     ]
    },
    {
     "name": "stdout",
     "output_type": "stream",
     "text": [
      "Epoch 14\n"
     ]
    },
    {
     "name": "stderr",
     "output_type": "stream",
     "text": [
      "\n"
     ]
    },
    {
     "name": "stdout",
     "output_type": "stream",
     "text": [
      "\n",
      "Val set: Average loss: 0.5980, Accuracy: 52578/77773 (67.604%)\n"
     ]
    },
    {
     "name": "stderr",
     "output_type": "stream",
     "text": [
      "Train Epoch: 14\tAccuracy: 67.577%\tLoss: 0.586348: 100%|██████████| 152/152 [00:01<00:00, 76.54it/s]"
     ]
    },
    {
     "name": "stdout",
     "output_type": "stream",
     "text": [
      "Epoch 15\n"
     ]
    },
    {
     "name": "stderr",
     "output_type": "stream",
     "text": [
      "\n"
     ]
    },
    {
     "name": "stdout",
     "output_type": "stream",
     "text": [
      "\n",
      "Val set: Average loss: 0.5973, Accuracy: 52626/77773 (67.666%)\n"
     ]
    },
    {
     "name": "stderr",
     "output_type": "stream",
     "text": [
      "Train Epoch: 15\tAccuracy: 67.619%\tLoss: 0.585338: 100%|██████████| 152/152 [00:01<00:00, 79.61it/s]"
     ]
    },
    {
     "name": "stdout",
     "output_type": "stream",
     "text": [
      "Epoch 16\n"
     ]
    },
    {
     "name": "stderr",
     "output_type": "stream",
     "text": [
      "\n"
     ]
    },
    {
     "name": "stdout",
     "output_type": "stream",
     "text": [
      "\n",
      "Val set: Average loss: 0.5966, Accuracy: 52657/77773 (67.706%)\n"
     ]
    },
    {
     "name": "stderr",
     "output_type": "stream",
     "text": [
      "Train Epoch: 16\tAccuracy: 67.659%\tLoss: 0.584818: 100%|██████████| 152/152 [00:01<00:00, 79.33it/s]"
     ]
    },
    {
     "name": "stdout",
     "output_type": "stream",
     "text": [
      "Epoch 17\n"
     ]
    },
    {
     "name": "stderr",
     "output_type": "stream",
     "text": [
      "\n"
     ]
    },
    {
     "name": "stdout",
     "output_type": "stream",
     "text": [
      "\n",
      "Val set: Average loss: 0.5961, Accuracy: 52716/77773 (67.782%)\n"
     ]
    },
    {
     "name": "stderr",
     "output_type": "stream",
     "text": [
      "Train Epoch: 17\tAccuracy: 67.706%\tLoss: 0.584335: 100%|██████████| 152/152 [00:01<00:00, 78.03it/s]"
     ]
    },
    {
     "name": "stdout",
     "output_type": "stream",
     "text": [
      "Epoch 18\n"
     ]
    },
    {
     "name": "stderr",
     "output_type": "stream",
     "text": [
      "\n"
     ]
    },
    {
     "name": "stdout",
     "output_type": "stream",
     "text": [
      "\n",
      "Val set: Average loss: 0.5956, Accuracy: 52752/77773 (67.828%)\n"
     ]
    },
    {
     "name": "stderr",
     "output_type": "stream",
     "text": [
      "Train Epoch: 18\tAccuracy: 67.731%\tLoss: 0.583675: 100%|██████████| 152/152 [00:01<00:00, 79.47it/s]"
     ]
    },
    {
     "name": "stdout",
     "output_type": "stream",
     "text": [
      "Epoch 19\n"
     ]
    },
    {
     "name": "stderr",
     "output_type": "stream",
     "text": [
      "\n"
     ]
    },
    {
     "name": "stdout",
     "output_type": "stream",
     "text": [
      "\n",
      "Val set: Average loss: 0.5952, Accuracy: 52735/77773 (67.806%)\n"
     ]
    },
    {
     "name": "stderr",
     "output_type": "stream",
     "text": [
      "Train Epoch: 19\tAccuracy: 67.768%\tLoss: 0.584253: 100%|██████████| 152/152 [00:01<00:00, 78.71it/s]"
     ]
    },
    {
     "name": "stdout",
     "output_type": "stream",
     "text": [
      "Epoch 20\n"
     ]
    },
    {
     "name": "stderr",
     "output_type": "stream",
     "text": [
      "\n"
     ]
    },
    {
     "name": "stdout",
     "output_type": "stream",
     "text": [
      "\n",
      "Val set: Average loss: 0.5953, Accuracy: 52721/77773 (67.788%)\n"
     ]
    },
    {
     "name": "stderr",
     "output_type": "stream",
     "text": [
      "Train Epoch: 20\tAccuracy: 67.823%\tLoss: 0.583309: 100%|██████████| 152/152 [00:01<00:00, 77.04it/s]"
     ]
    },
    {
     "name": "stdout",
     "output_type": "stream",
     "text": [
      "Epoch 21\n"
     ]
    },
    {
     "name": "stderr",
     "output_type": "stream",
     "text": [
      "\n"
     ]
    },
    {
     "name": "stdout",
     "output_type": "stream",
     "text": [
      "\n",
      "Val set: Average loss: 0.5943, Accuracy: 52809/77773 (67.901%)\n"
     ]
    },
    {
     "name": "stderr",
     "output_type": "stream",
     "text": [
      "Train Epoch: 21\tAccuracy: 67.857%\tLoss: 0.583026: 100%|██████████| 152/152 [00:01<00:00, 76.95it/s]"
     ]
    },
    {
     "name": "stdout",
     "output_type": "stream",
     "text": [
      "Epoch 22\n"
     ]
    },
    {
     "name": "stderr",
     "output_type": "stream",
     "text": [
      "\n"
     ]
    },
    {
     "name": "stdout",
     "output_type": "stream",
     "text": [
      "\n",
      "Val set: Average loss: 0.5938, Accuracy: 52802/77773 (67.892%)\n"
     ]
    },
    {
     "name": "stderr",
     "output_type": "stream",
     "text": [
      "Train Epoch: 22\tAccuracy: 67.927%\tLoss: 0.583031: 100%|██████████| 152/152 [00:01<00:00, 78.54it/s]"
     ]
    },
    {
     "name": "stdout",
     "output_type": "stream",
     "text": [
      "Epoch 23\n"
     ]
    },
    {
     "name": "stderr",
     "output_type": "stream",
     "text": [
      "\n"
     ]
    },
    {
     "name": "stdout",
     "output_type": "stream",
     "text": [
      "\n",
      "Val set: Average loss: 0.5936, Accuracy: 52802/77773 (67.892%)\n"
     ]
    },
    {
     "name": "stderr",
     "output_type": "stream",
     "text": [
      "Train Epoch: 23\tAccuracy: 67.973%\tLoss: 0.582375: 100%|██████████| 152/152 [00:01<00:00, 79.78it/s]"
     ]
    },
    {
     "name": "stdout",
     "output_type": "stream",
     "text": [
      "Epoch 24\n"
     ]
    },
    {
     "name": "stderr",
     "output_type": "stream",
     "text": [
      "\n"
     ]
    },
    {
     "name": "stdout",
     "output_type": "stream",
     "text": [
      "\n",
      "Val set: Average loss: 0.5932, Accuracy: 52788/77773 (67.874%)\n"
     ]
    },
    {
     "name": "stderr",
     "output_type": "stream",
     "text": [
      "Train Epoch: 24\tAccuracy: 68.032%\tLoss: 0.582116: 100%|██████████| 152/152 [00:01<00:00, 76.50it/s]"
     ]
    },
    {
     "name": "stdout",
     "output_type": "stream",
     "text": [
      "Epoch 25\n"
     ]
    },
    {
     "name": "stderr",
     "output_type": "stream",
     "text": [
      "\n"
     ]
    },
    {
     "name": "stdout",
     "output_type": "stream",
     "text": [
      "\n",
      "Val set: Average loss: 0.5927, Accuracy: 52831/77773 (67.930%)\n"
     ]
    },
    {
     "name": "stderr",
     "output_type": "stream",
     "text": [
      "Train Epoch: 25\tAccuracy: 68.064%\tLoss: 0.582600: 100%|██████████| 152/152 [00:01<00:00, 78.54it/s]"
     ]
    },
    {
     "name": "stdout",
     "output_type": "stream",
     "text": [
      "Epoch 26\n"
     ]
    },
    {
     "name": "stderr",
     "output_type": "stream",
     "text": [
      "\n"
     ]
    },
    {
     "name": "stdout",
     "output_type": "stream",
     "text": [
      "\n",
      "Val set: Average loss: 0.5927, Accuracy: 52875/77773 (67.986%)\n"
     ]
    },
    {
     "name": "stderr",
     "output_type": "stream",
     "text": [
      "Train Epoch: 26\tAccuracy: 68.104%\tLoss: 0.581885: 100%|██████████| 152/152 [00:01<00:00, 78.77it/s]"
     ]
    },
    {
     "name": "stdout",
     "output_type": "stream",
     "text": [
      "Epoch 27\n"
     ]
    },
    {
     "name": "stderr",
     "output_type": "stream",
     "text": [
      "\n"
     ]
    },
    {
     "name": "stdout",
     "output_type": "stream",
     "text": [
      "\n",
      "Val set: Average loss: 0.5923, Accuracy: 52866/77773 (67.975%)\n"
     ]
    },
    {
     "name": "stderr",
     "output_type": "stream",
     "text": [
      "Train Epoch: 27\tAccuracy: 68.128%\tLoss: 0.580877: 100%|██████████| 152/152 [00:01<00:00, 79.38it/s]"
     ]
    },
    {
     "name": "stdout",
     "output_type": "stream",
     "text": [
      "Epoch 28\n"
     ]
    },
    {
     "name": "stderr",
     "output_type": "stream",
     "text": [
      "\n"
     ]
    },
    {
     "name": "stdout",
     "output_type": "stream",
     "text": [
      "\n",
      "Val set: Average loss: 0.5918, Accuracy: 52915/77773 (68.038%)\n"
     ]
    },
    {
     "name": "stderr",
     "output_type": "stream",
     "text": [
      "Train Epoch: 28\tAccuracy: 68.146%\tLoss: 0.580854: 100%|██████████| 152/152 [00:01<00:00, 79.13it/s]"
     ]
    },
    {
     "name": "stdout",
     "output_type": "stream",
     "text": [
      "Epoch 29\n"
     ]
    },
    {
     "name": "stderr",
     "output_type": "stream",
     "text": [
      "\n"
     ]
    },
    {
     "name": "stdout",
     "output_type": "stream",
     "text": [
      "\n",
      "Val set: Average loss: 0.5916, Accuracy: 52939/77773 (68.069%)\n"
     ]
    },
    {
     "name": "stderr",
     "output_type": "stream",
     "text": [
      "Train Epoch: 29\tAccuracy: 68.168%\tLoss: 0.580778: 100%|██████████| 152/152 [00:01<00:00, 79.58it/s]"
     ]
    },
    {
     "name": "stdout",
     "output_type": "stream",
     "text": [
      "Epoch 30\n"
     ]
    },
    {
     "name": "stderr",
     "output_type": "stream",
     "text": [
      "\n"
     ]
    },
    {
     "name": "stdout",
     "output_type": "stream",
     "text": [
      "\n",
      "Val set: Average loss: 0.5914, Accuracy: 52926/77773 (68.052%)\n"
     ]
    },
    {
     "name": "stderr",
     "output_type": "stream",
     "text": [
      "Train Epoch: 30\tAccuracy: 68.222%\tLoss: 0.580452: 100%|██████████| 152/152 [00:01<00:00, 77.04it/s]"
     ]
    },
    {
     "name": "stdout",
     "output_type": "stream",
     "text": [
      "Epoch 31\n"
     ]
    },
    {
     "name": "stderr",
     "output_type": "stream",
     "text": [
      "\n"
     ]
    },
    {
     "name": "stdout",
     "output_type": "stream",
     "text": [
      "\n",
      "Val set: Average loss: 0.5911, Accuracy: 52984/77773 (68.126%)\n"
     ]
    },
    {
     "name": "stderr",
     "output_type": "stream",
     "text": [
      "Train Epoch: 31\tAccuracy: 68.260%\tLoss: 0.580143: 100%|██████████| 152/152 [00:01<00:00, 77.63it/s]"
     ]
    },
    {
     "name": "stdout",
     "output_type": "stream",
     "text": [
      "Epoch 32\n"
     ]
    },
    {
     "name": "stderr",
     "output_type": "stream",
     "text": [
      "\n"
     ]
    },
    {
     "name": "stdout",
     "output_type": "stream",
     "text": [
      "\n",
      "Val set: Average loss: 0.5906, Accuracy: 53009/77773 (68.159%)\n"
     ]
    },
    {
     "name": "stderr",
     "output_type": "stream",
     "text": [
      "Train Epoch: 32\tAccuracy: 68.288%\tLoss: 0.579651: 100%|██████████| 152/152 [00:01<00:00, 78.78it/s]"
     ]
    },
    {
     "name": "stdout",
     "output_type": "stream",
     "text": [
      "Epoch 33\n"
     ]
    },
    {
     "name": "stderr",
     "output_type": "stream",
     "text": [
      "\n"
     ]
    },
    {
     "name": "stdout",
     "output_type": "stream",
     "text": [
      "\n",
      "Val set: Average loss: 0.5905, Accuracy: 53031/77773 (68.187%)\n"
     ]
    },
    {
     "name": "stderr",
     "output_type": "stream",
     "text": [
      "Train Epoch: 33\tAccuracy: 68.325%\tLoss: 0.579243: 100%|██████████| 152/152 [00:02<00:00, 56.28it/s]"
     ]
    },
    {
     "name": "stdout",
     "output_type": "stream",
     "text": [
      "Epoch 34\n"
     ]
    },
    {
     "name": "stderr",
     "output_type": "stream",
     "text": [
      "\n"
     ]
    },
    {
     "name": "stdout",
     "output_type": "stream",
     "text": [
      "\n",
      "Val set: Average loss: 0.5902, Accuracy: 53031/77773 (68.187%)\n"
     ]
    },
    {
     "name": "stderr",
     "output_type": "stream",
     "text": [
      "Train Epoch: 34\tAccuracy: 68.361%\tLoss: 0.579685: 100%|██████████| 152/152 [00:02<00:00, 70.58it/s]"
     ]
    },
    {
     "name": "stdout",
     "output_type": "stream",
     "text": [
      "Epoch 35\n"
     ]
    },
    {
     "name": "stderr",
     "output_type": "stream",
     "text": [
      "\n"
     ]
    },
    {
     "name": "stdout",
     "output_type": "stream",
     "text": [
      "\n",
      "Val set: Average loss: 0.5901, Accuracy: 53063/77773 (68.228%)\n"
     ]
    },
    {
     "name": "stderr",
     "output_type": "stream",
     "text": [
      "Train Epoch: 35\tAccuracy: 68.385%\tLoss: 0.579207: 100%|██████████| 152/152 [00:01<00:00, 78.84it/s]"
     ]
    },
    {
     "name": "stdout",
     "output_type": "stream",
     "text": [
      "Epoch 36\n"
     ]
    },
    {
     "name": "stderr",
     "output_type": "stream",
     "text": [
      "\n"
     ]
    },
    {
     "name": "stdout",
     "output_type": "stream",
     "text": [
      "\n",
      "Val set: Average loss: 0.5897, Accuracy: 53087/77773 (68.259%)\n"
     ]
    },
    {
     "name": "stderr",
     "output_type": "stream",
     "text": [
      "Train Epoch: 36\tAccuracy: 68.428%\tLoss: 0.579674: 100%|██████████| 152/152 [00:01<00:00, 79.04it/s]\n"
     ]
    },
    {
     "name": "stdout",
     "output_type": "stream",
     "text": [
      "Epoch 37\n",
      "\n",
      "Val set: Average loss: 0.5896, Accuracy: 53133/77773 (68.318%)\n"
     ]
    },
    {
     "name": "stderr",
     "output_type": "stream",
     "text": [
      "Train Epoch: 37\tAccuracy: 68.453%\tLoss: 0.578817: 100%|██████████| 152/152 [00:01<00:00, 78.03it/s]"
     ]
    },
    {
     "name": "stdout",
     "output_type": "stream",
     "text": [
      "Epoch 38\n"
     ]
    },
    {
     "name": "stderr",
     "output_type": "stream",
     "text": [
      "\n"
     ]
    },
    {
     "name": "stdout",
     "output_type": "stream",
     "text": [
      "\n",
      "Val set: Average loss: 0.5891, Accuracy: 53129/77773 (68.313%)\n"
     ]
    },
    {
     "name": "stderr",
     "output_type": "stream",
     "text": [
      "Train Epoch: 38\tAccuracy: 68.485%\tLoss: 0.577901: 100%|██████████| 152/152 [00:01<00:00, 77.86it/s]"
     ]
    },
    {
     "name": "stdout",
     "output_type": "stream",
     "text": [
      "Epoch 39\n"
     ]
    },
    {
     "name": "stderr",
     "output_type": "stream",
     "text": [
      "\n"
     ]
    },
    {
     "name": "stdout",
     "output_type": "stream",
     "text": [
      "\n",
      "Val set: Average loss: 0.5888, Accuracy: 53158/77773 (68.350%)\n"
     ]
    },
    {
     "name": "stderr",
     "output_type": "stream",
     "text": [
      "Train Epoch: 39\tAccuracy: 68.524%\tLoss: 0.578814: 100%|██████████| 152/152 [00:01<00:00, 77.92it/s]"
     ]
    },
    {
     "name": "stdout",
     "output_type": "stream",
     "text": [
      "Epoch 40\n"
     ]
    },
    {
     "name": "stderr",
     "output_type": "stream",
     "text": [
      "\n"
     ]
    },
    {
     "name": "stdout",
     "output_type": "stream",
     "text": [
      "\n",
      "Val set: Average loss: 0.5886, Accuracy: 53173/77773 (68.369%)\n"
     ]
    },
    {
     "name": "stderr",
     "output_type": "stream",
     "text": [
      "Train Epoch: 40\tAccuracy: 68.576%\tLoss: 0.577365: 100%|██████████| 152/152 [00:01<00:00, 77.11it/s]"
     ]
    },
    {
     "name": "stdout",
     "output_type": "stream",
     "text": [
      "Epoch 41\n"
     ]
    },
    {
     "name": "stderr",
     "output_type": "stream",
     "text": [
      "\n"
     ]
    },
    {
     "name": "stdout",
     "output_type": "stream",
     "text": [
      "\n",
      "Val set: Average loss: 0.5883, Accuracy: 53182/77773 (68.381%)\n"
     ]
    },
    {
     "name": "stderr",
     "output_type": "stream",
     "text": [
      "Train Epoch: 41\tAccuracy: 68.586%\tLoss: 0.578537: 100%|██████████| 152/152 [00:01<00:00, 76.41it/s]"
     ]
    },
    {
     "name": "stdout",
     "output_type": "stream",
     "text": [
      "Epoch 42\n"
     ]
    },
    {
     "name": "stderr",
     "output_type": "stream",
     "text": [
      "\n"
     ]
    },
    {
     "name": "stdout",
     "output_type": "stream",
     "text": [
      "\n",
      "Val set: Average loss: 0.5879, Accuracy: 53199/77773 (68.403%)\n"
     ]
    },
    {
     "name": "stderr",
     "output_type": "stream",
     "text": [
      "Train Epoch: 42\tAccuracy: 68.600%\tLoss: 0.577190: 100%|██████████| 152/152 [00:01<00:00, 78.93it/s]"
     ]
    },
    {
     "name": "stdout",
     "output_type": "stream",
     "text": [
      "Epoch 43\n"
     ]
    },
    {
     "name": "stderr",
     "output_type": "stream",
     "text": [
      "\n"
     ]
    },
    {
     "name": "stdout",
     "output_type": "stream",
     "text": [
      "\n",
      "Val set: Average loss: 0.5878, Accuracy: 53202/77773 (68.407%)\n"
     ]
    },
    {
     "name": "stderr",
     "output_type": "stream",
     "text": [
      "Train Epoch: 43\tAccuracy: 68.613%\tLoss: 0.576382: 100%|██████████| 152/152 [00:01<00:00, 78.14it/s]"
     ]
    },
    {
     "name": "stdout",
     "output_type": "stream",
     "text": [
      "Epoch 44\n"
     ]
    },
    {
     "name": "stderr",
     "output_type": "stream",
     "text": [
      "\n"
     ]
    },
    {
     "name": "stdout",
     "output_type": "stream",
     "text": [
      "\n",
      "Val set: Average loss: 0.5874, Accuracy: 53229/77773 (68.441%)\n"
     ]
    },
    {
     "name": "stderr",
     "output_type": "stream",
     "text": [
      "Train Epoch: 44\tAccuracy: 68.649%\tLoss: 0.576136: 100%|██████████| 152/152 [00:02<00:00, 75.63it/s]"
     ]
    },
    {
     "name": "stdout",
     "output_type": "stream",
     "text": [
      "Epoch 45\n"
     ]
    },
    {
     "name": "stderr",
     "output_type": "stream",
     "text": [
      "\n"
     ]
    },
    {
     "name": "stdout",
     "output_type": "stream",
     "text": [
      "\n",
      "Val set: Average loss: 0.5873, Accuracy: 53242/77773 (68.458%)\n"
     ]
    },
    {
     "name": "stderr",
     "output_type": "stream",
     "text": [
      "Train Epoch: 45\tAccuracy: 68.704%\tLoss: 0.576346: 100%|██████████| 152/152 [00:01<00:00, 78.17it/s]"
     ]
    },
    {
     "name": "stdout",
     "output_type": "stream",
     "text": [
      "Epoch 46\n"
     ]
    },
    {
     "name": "stderr",
     "output_type": "stream",
     "text": [
      "\n"
     ]
    },
    {
     "name": "stdout",
     "output_type": "stream",
     "text": [
      "\n",
      "Val set: Average loss: 0.5871, Accuracy: 53225/77773 (68.436%)\n"
     ]
    },
    {
     "name": "stderr",
     "output_type": "stream",
     "text": [
      "Train Epoch: 46\tAccuracy: 68.730%\tLoss: 0.575489: 100%|██████████| 152/152 [00:01<00:00, 79.38it/s]"
     ]
    },
    {
     "name": "stdout",
     "output_type": "stream",
     "text": [
      "Epoch 47\n"
     ]
    },
    {
     "name": "stderr",
     "output_type": "stream",
     "text": [
      "\n"
     ]
    },
    {
     "name": "stdout",
     "output_type": "stream",
     "text": [
      "\n",
      "Val set: Average loss: 0.5870, Accuracy: 53238/77773 (68.453%)\n"
     ]
    },
    {
     "name": "stderr",
     "output_type": "stream",
     "text": [
      "Train Epoch: 47\tAccuracy: 68.752%\tLoss: 0.575615: 100%|██████████| 152/152 [00:01<00:00, 78.48it/s]"
     ]
    },
    {
     "name": "stdout",
     "output_type": "stream",
     "text": [
      "Epoch 48\n"
     ]
    },
    {
     "name": "stderr",
     "output_type": "stream",
     "text": [
      "\n"
     ]
    },
    {
     "name": "stdout",
     "output_type": "stream",
     "text": [
      "\n",
      "Val set: Average loss: 0.5868, Accuracy: 53255/77773 (68.475%)\n"
     ]
    },
    {
     "name": "stderr",
     "output_type": "stream",
     "text": [
      "Train Epoch: 48\tAccuracy: 68.780%\tLoss: 0.575200: 100%|██████████| 152/152 [00:01<00:00, 77.90it/s]"
     ]
    },
    {
     "name": "stdout",
     "output_type": "stream",
     "text": [
      "Epoch 49\n"
     ]
    },
    {
     "name": "stderr",
     "output_type": "stream",
     "text": [
      "\n"
     ]
    },
    {
     "name": "stdout",
     "output_type": "stream",
     "text": [
      "\n",
      "Val set: Average loss: 0.5865, Accuracy: 53274/77773 (68.499%)\n"
     ]
    },
    {
     "name": "stderr",
     "output_type": "stream",
     "text": [
      "Train Epoch: 49\tAccuracy: 68.799%\tLoss: 0.575292: 100%|██████████| 152/152 [00:01<00:00, 79.53it/s]"
     ]
    },
    {
     "name": "stdout",
     "output_type": "stream",
     "text": [
      "Epoch 50\n"
     ]
    },
    {
     "name": "stderr",
     "output_type": "stream",
     "text": [
      "\n"
     ]
    },
    {
     "name": "stdout",
     "output_type": "stream",
     "text": [
      "\n",
      "Val set: Average loss: 0.5862, Accuracy: 53292/77773 (68.522%)\n"
     ]
    },
    {
     "name": "stderr",
     "output_type": "stream",
     "text": [
      "Train Epoch: 50\tAccuracy: 68.819%\tLoss: 0.575625: 100%|██████████| 152/152 [00:01<00:00, 76.62it/s]"
     ]
    },
    {
     "name": "stdout",
     "output_type": "stream",
     "text": [
      "Epoch 51\n"
     ]
    },
    {
     "name": "stderr",
     "output_type": "stream",
     "text": [
      "\n"
     ]
    },
    {
     "name": "stdout",
     "output_type": "stream",
     "text": [
      "\n",
      "Val set: Average loss: 0.5859, Accuracy: 53285/77773 (68.513%)\n"
     ]
    },
    {
     "name": "stderr",
     "output_type": "stream",
     "text": [
      "Train Epoch: 51\tAccuracy: 68.839%\tLoss: 0.575402: 100%|██████████| 152/152 [00:01<00:00, 76.09it/s]"
     ]
    },
    {
     "name": "stdout",
     "output_type": "stream",
     "text": [
      "Epoch 52\n"
     ]
    },
    {
     "name": "stderr",
     "output_type": "stream",
     "text": [
      "\n"
     ]
    },
    {
     "name": "stdout",
     "output_type": "stream",
     "text": [
      "\n",
      "Val set: Average loss: 0.5861, Accuracy: 53320/77773 (68.558%)\n"
     ]
    },
    {
     "name": "stderr",
     "output_type": "stream",
     "text": [
      "Train Epoch: 52\tAccuracy: 68.829%\tLoss: 0.575232: 100%|██████████| 152/152 [00:01<00:00, 77.82it/s]"
     ]
    },
    {
     "name": "stdout",
     "output_type": "stream",
     "text": [
      "Epoch 53\n"
     ]
    },
    {
     "name": "stderr",
     "output_type": "stream",
     "text": [
      "\n"
     ]
    },
    {
     "name": "stdout",
     "output_type": "stream",
     "text": [
      "\n",
      "Val set: Average loss: 0.5859, Accuracy: 53324/77773 (68.564%)\n"
     ]
    },
    {
     "name": "stderr",
     "output_type": "stream",
     "text": [
      "Train Epoch: 53\tAccuracy: 68.840%\tLoss: 0.574530: 100%|██████████| 152/152 [00:01<00:00, 78.08it/s]"
     ]
    },
    {
     "name": "stdout",
     "output_type": "stream",
     "text": [
      "Epoch 54\n"
     ]
    },
    {
     "name": "stderr",
     "output_type": "stream",
     "text": [
      "\n"
     ]
    },
    {
     "name": "stdout",
     "output_type": "stream",
     "text": [
      "\n",
      "Val set: Average loss: 0.5856, Accuracy: 53320/77773 (68.558%)\n"
     ]
    },
    {
     "name": "stderr",
     "output_type": "stream",
     "text": [
      "Train Epoch: 54\tAccuracy: 68.861%\tLoss: 0.574818: 100%|██████████| 152/152 [00:01<00:00, 76.01it/s]"
     ]
    },
    {
     "name": "stdout",
     "output_type": "stream",
     "text": [
      "Epoch 55\n"
     ]
    },
    {
     "name": "stderr",
     "output_type": "stream",
     "text": [
      "\n"
     ]
    },
    {
     "name": "stdout",
     "output_type": "stream",
     "text": [
      "\n",
      "Val set: Average loss: 0.5853, Accuracy: 53348/77773 (68.594%)\n"
     ]
    },
    {
     "name": "stderr",
     "output_type": "stream",
     "text": [
      "Train Epoch: 55\tAccuracy: 68.862%\tLoss: 0.574739: 100%|██████████| 152/152 [00:01<00:00, 78.32it/s]"
     ]
    },
    {
     "name": "stdout",
     "output_type": "stream",
     "text": [
      "Epoch 56\n"
     ]
    },
    {
     "name": "stderr",
     "output_type": "stream",
     "text": [
      "\n"
     ]
    },
    {
     "name": "stdout",
     "output_type": "stream",
     "text": [
      "\n",
      "Val set: Average loss: 0.5852, Accuracy: 53361/77773 (68.611%)\n"
     ]
    },
    {
     "name": "stderr",
     "output_type": "stream",
     "text": [
      "Train Epoch: 56\tAccuracy: 68.897%\tLoss: 0.574205: 100%|██████████| 152/152 [00:01<00:00, 78.79it/s]"
     ]
    },
    {
     "name": "stdout",
     "output_type": "stream",
     "text": [
      "Epoch 57\n"
     ]
    },
    {
     "name": "stderr",
     "output_type": "stream",
     "text": [
      "\n"
     ]
    },
    {
     "name": "stdout",
     "output_type": "stream",
     "text": [
      "\n",
      "Val set: Average loss: 0.5851, Accuracy: 53349/77773 (68.596%)\n"
     ]
    },
    {
     "name": "stderr",
     "output_type": "stream",
     "text": [
      "Train Epoch: 57\tAccuracy: 68.901%\tLoss: 0.574203: 100%|██████████| 152/152 [00:01<00:00, 78.41it/s]"
     ]
    },
    {
     "name": "stdout",
     "output_type": "stream",
     "text": [
      "Epoch 58\n"
     ]
    },
    {
     "name": "stderr",
     "output_type": "stream",
     "text": [
      "\n"
     ]
    },
    {
     "name": "stdout",
     "output_type": "stream",
     "text": [
      "\n",
      "Val set: Average loss: 0.5849, Accuracy: 53358/77773 (68.607%)\n"
     ]
    },
    {
     "name": "stderr",
     "output_type": "stream",
     "text": [
      "Train Epoch: 58\tAccuracy: 68.942%\tLoss: 0.573508: 100%|██████████| 152/152 [00:01<00:00, 77.87it/s]"
     ]
    },
    {
     "name": "stdout",
     "output_type": "stream",
     "text": [
      "Epoch 59\n"
     ]
    },
    {
     "name": "stderr",
     "output_type": "stream",
     "text": [
      "\n"
     ]
    },
    {
     "name": "stdout",
     "output_type": "stream",
     "text": [
      "\n",
      "Val set: Average loss: 0.5851, Accuracy: 53350/77773 (68.597%)\n"
     ]
    },
    {
     "name": "stderr",
     "output_type": "stream",
     "text": [
      "Train Epoch: 59\tAccuracy: 68.963%\tLoss: 0.573569: 100%|██████████| 152/152 [00:01<00:00, 77.46it/s]"
     ]
    },
    {
     "name": "stdout",
     "output_type": "stream",
     "text": [
      "Epoch 60\n"
     ]
    },
    {
     "name": "stderr",
     "output_type": "stream",
     "text": [
      "\n"
     ]
    },
    {
     "name": "stdout",
     "output_type": "stream",
     "text": [
      "\n",
      "Val set: Average loss: 0.5848, Accuracy: 53349/77773 (68.596%)\n"
     ]
    },
    {
     "name": "stderr",
     "output_type": "stream",
     "text": [
      "Train Epoch: 60\tAccuracy: 68.968%\tLoss: 0.572866: 100%|██████████| 152/152 [00:01<00:00, 76.44it/s]"
     ]
    },
    {
     "name": "stdout",
     "output_type": "stream",
     "text": [
      "Epoch 61\n"
     ]
    },
    {
     "name": "stderr",
     "output_type": "stream",
     "text": [
      "\n"
     ]
    },
    {
     "name": "stdout",
     "output_type": "stream",
     "text": [
      "\n",
      "Val set: Average loss: 0.5847, Accuracy: 53366/77773 (68.618%)\n"
     ]
    },
    {
     "name": "stderr",
     "output_type": "stream",
     "text": [
      "Train Epoch: 61\tAccuracy: 68.989%\tLoss: 0.572859: 100%|██████████| 152/152 [00:02<00:00, 75.28it/s]"
     ]
    },
    {
     "name": "stdout",
     "output_type": "stream",
     "text": [
      "Epoch 62\n"
     ]
    },
    {
     "name": "stderr",
     "output_type": "stream",
     "text": [
      "\n"
     ]
    },
    {
     "name": "stdout",
     "output_type": "stream",
     "text": [
      "\n",
      "Val set: Average loss: 0.5845, Accuracy: 53363/77773 (68.614%)\n"
     ]
    },
    {
     "name": "stderr",
     "output_type": "stream",
     "text": [
      "Train Epoch: 62\tAccuracy: 68.979%\tLoss: 0.572895: 100%|██████████| 152/152 [00:01<00:00, 76.84it/s]"
     ]
    },
    {
     "name": "stdout",
     "output_type": "stream",
     "text": [
      "Epoch 63\n"
     ]
    },
    {
     "name": "stderr",
     "output_type": "stream",
     "text": [
      "\n"
     ]
    },
    {
     "name": "stdout",
     "output_type": "stream",
     "text": [
      "\n",
      "Val set: Average loss: 0.5844, Accuracy: 53377/77773 (68.632%)\n"
     ]
    },
    {
     "name": "stderr",
     "output_type": "stream",
     "text": [
      "Train Epoch: 63\tAccuracy: 69.002%\tLoss: 0.572916: 100%|██████████| 152/152 [00:02<00:00, 72.67it/s]"
     ]
    },
    {
     "name": "stdout",
     "output_type": "stream",
     "text": [
      "Epoch 64\n"
     ]
    },
    {
     "name": "stderr",
     "output_type": "stream",
     "text": [
      "\n"
     ]
    },
    {
     "name": "stdout",
     "output_type": "stream",
     "text": [
      "\n",
      "Val set: Average loss: 0.5843, Accuracy: 53400/77773 (68.661%)\n"
     ]
    },
    {
     "name": "stderr",
     "output_type": "stream",
     "text": [
      "Train Epoch: 64\tAccuracy: 68.977%\tLoss: 0.572428: 100%|██████████| 152/152 [00:02<00:00, 71.90it/s]"
     ]
    },
    {
     "name": "stdout",
     "output_type": "stream",
     "text": [
      "Epoch 65\n"
     ]
    },
    {
     "name": "stderr",
     "output_type": "stream",
     "text": [
      "\n"
     ]
    },
    {
     "name": "stdout",
     "output_type": "stream",
     "text": [
      "\n",
      "Val set: Average loss: 0.5839, Accuracy: 53413/77773 (68.678%)\n"
     ]
    },
    {
     "name": "stderr",
     "output_type": "stream",
     "text": [
      "Train Epoch: 65\tAccuracy: 69.010%\tLoss: 0.571909: 100%|██████████| 152/152 [00:02<00:00, 72.70it/s]"
     ]
    },
    {
     "name": "stdout",
     "output_type": "stream",
     "text": [
      "Epoch 66\n"
     ]
    },
    {
     "name": "stderr",
     "output_type": "stream",
     "text": [
      "\n"
     ]
    },
    {
     "name": "stdout",
     "output_type": "stream",
     "text": [
      "\n",
      "Val set: Average loss: 0.5839, Accuracy: 53425/77773 (68.694%)\n"
     ]
    },
    {
     "name": "stderr",
     "output_type": "stream",
     "text": [
      "Train Epoch: 66\tAccuracy: 69.015%\tLoss: 0.572010: 100%|██████████| 152/152 [00:02<00:00, 74.12it/s]"
     ]
    },
    {
     "name": "stdout",
     "output_type": "stream",
     "text": [
      "Epoch 67\n"
     ]
    },
    {
     "name": "stderr",
     "output_type": "stream",
     "text": [
      "\n"
     ]
    },
    {
     "name": "stdout",
     "output_type": "stream",
     "text": [
      "\n",
      "Val set: Average loss: 0.5837, Accuracy: 53393/77773 (68.652%)\n"
     ]
    },
    {
     "name": "stderr",
     "output_type": "stream",
     "text": [
      "Train Epoch: 67\tAccuracy: 69.019%\tLoss: 0.571804: 100%|██████████| 152/152 [00:02<00:00, 75.51it/s]"
     ]
    },
    {
     "name": "stdout",
     "output_type": "stream",
     "text": [
      "Epoch 68\n"
     ]
    },
    {
     "name": "stderr",
     "output_type": "stream",
     "text": [
      "\n"
     ]
    },
    {
     "name": "stdout",
     "output_type": "stream",
     "text": [
      "\n",
      "Val set: Average loss: 0.5836, Accuracy: 53432/77773 (68.703%)\n"
     ]
    },
    {
     "name": "stderr",
     "output_type": "stream",
     "text": [
      "Train Epoch: 68\tAccuracy: 69.043%\tLoss: 0.571497: 100%|██████████| 152/152 [00:02<00:00, 73.96it/s]"
     ]
    },
    {
     "name": "stdout",
     "output_type": "stream",
     "text": [
      "Epoch 69\n"
     ]
    },
    {
     "name": "stderr",
     "output_type": "stream",
     "text": [
      "\n"
     ]
    },
    {
     "name": "stdout",
     "output_type": "stream",
     "text": [
      "\n",
      "Val set: Average loss: 0.5836, Accuracy: 53434/77773 (68.705%)\n"
     ]
    },
    {
     "name": "stderr",
     "output_type": "stream",
     "text": [
      "Train Epoch: 69\tAccuracy: 69.044%\tLoss: 0.571119: 100%|██████████| 152/152 [00:02<00:00, 75.61it/s]"
     ]
    },
    {
     "name": "stdout",
     "output_type": "stream",
     "text": [
      "Epoch 70\n"
     ]
    },
    {
     "name": "stderr",
     "output_type": "stream",
     "text": [
      "\n"
     ]
    },
    {
     "name": "stdout",
     "output_type": "stream",
     "text": [
      "\n",
      "Val set: Average loss: 0.5836, Accuracy: 53426/77773 (68.695%)\n"
     ]
    },
    {
     "name": "stderr",
     "output_type": "stream",
     "text": [
      "Train Epoch: 70\tAccuracy: 69.068%\tLoss: 0.570929: 100%|██████████| 152/152 [00:02<00:00, 75.49it/s]"
     ]
    },
    {
     "name": "stdout",
     "output_type": "stream",
     "text": [
      "Epoch 71\n"
     ]
    },
    {
     "name": "stderr",
     "output_type": "stream",
     "text": [
      "\n"
     ]
    },
    {
     "name": "stdout",
     "output_type": "stream",
     "text": [
      "\n",
      "Val set: Average loss: 0.5835, Accuracy: 53415/77773 (68.681%)\n"
     ]
    },
    {
     "name": "stderr",
     "output_type": "stream",
     "text": [
      "Train Epoch: 71\tAccuracy: 69.088%\tLoss: 0.570659: 100%|██████████| 152/152 [00:02<00:00, 75.04it/s]"
     ]
    },
    {
     "name": "stdout",
     "output_type": "stream",
     "text": [
      "Epoch 72\n"
     ]
    },
    {
     "name": "stderr",
     "output_type": "stream",
     "text": [
      "\n"
     ]
    },
    {
     "name": "stdout",
     "output_type": "stream",
     "text": [
      "\n",
      "Val set: Average loss: 0.5833, Accuracy: 53440/77773 (68.713%)\n"
     ]
    },
    {
     "name": "stderr",
     "output_type": "stream",
     "text": [
      "Train Epoch: 72\tAccuracy: 69.084%\tLoss: 0.570509: 100%|██████████| 152/152 [00:01<00:00, 77.68it/s]"
     ]
    },
    {
     "name": "stdout",
     "output_type": "stream",
     "text": [
      "Epoch 73\n"
     ]
    },
    {
     "name": "stderr",
     "output_type": "stream",
     "text": [
      "\n"
     ]
    },
    {
     "name": "stdout",
     "output_type": "stream",
     "text": [
      "\n",
      "Val set: Average loss: 0.5833, Accuracy: 53464/77773 (68.744%)\n"
     ]
    },
    {
     "name": "stderr",
     "output_type": "stream",
     "text": [
      "Train Epoch: 73\tAccuracy: 69.120%\tLoss: 0.570648: 100%|██████████| 152/152 [00:01<00:00, 78.31it/s]"
     ]
    },
    {
     "name": "stdout",
     "output_type": "stream",
     "text": [
      "Epoch 74\n"
     ]
    },
    {
     "name": "stderr",
     "output_type": "stream",
     "text": [
      "\n"
     ]
    },
    {
     "name": "stdout",
     "output_type": "stream",
     "text": [
      "\n",
      "Val set: Average loss: 0.5831, Accuracy: 53502/77773 (68.793%)\n"
     ]
    },
    {
     "name": "stderr",
     "output_type": "stream",
     "text": [
      "Train Epoch: 74\tAccuracy: 69.120%\tLoss: 0.570634: 100%|██████████| 152/152 [00:01<00:00, 76.45it/s]\n"
     ]
    },
    {
     "name": "stdout",
     "output_type": "stream",
     "text": [
      "Epoch 75\n",
      "\n",
      "Val set: Average loss: 0.5831, Accuracy: 53514/77773 (68.808%)\n"
     ]
    },
    {
     "name": "stderr",
     "output_type": "stream",
     "text": [
      "Train Epoch: 75\tAccuracy: 69.130%\tLoss: 0.570100: 100%|██████████| 152/152 [00:01<00:00, 78.00it/s]"
     ]
    },
    {
     "name": "stdout",
     "output_type": "stream",
     "text": [
      "Epoch 76\n"
     ]
    },
    {
     "name": "stderr",
     "output_type": "stream",
     "text": [
      "\n"
     ]
    },
    {
     "name": "stdout",
     "output_type": "stream",
     "text": [
      "\n",
      "Val set: Average loss: 0.5829, Accuracy: 53514/77773 (68.808%)\n"
     ]
    },
    {
     "name": "stderr",
     "output_type": "stream",
     "text": [
      "Train Epoch: 76\tAccuracy: 69.162%\tLoss: 0.570106: 100%|██████████| 152/152 [00:01<00:00, 77.28it/s]"
     ]
    },
    {
     "name": "stdout",
     "output_type": "stream",
     "text": [
      "Epoch 77\n"
     ]
    },
    {
     "name": "stderr",
     "output_type": "stream",
     "text": [
      "\n"
     ]
    },
    {
     "name": "stdout",
     "output_type": "stream",
     "text": [
      "\n",
      "Val set: Average loss: 0.5827, Accuracy: 53528/77773 (68.826%)\n"
     ]
    },
    {
     "name": "stderr",
     "output_type": "stream",
     "text": [
      "Train Epoch: 77\tAccuracy: 69.174%\tLoss: 0.569510: 100%|██████████| 152/152 [00:01<00:00, 78.17it/s]"
     ]
    },
    {
     "name": "stdout",
     "output_type": "stream",
     "text": [
      "Epoch 78\n"
     ]
    },
    {
     "name": "stderr",
     "output_type": "stream",
     "text": [
      "\n"
     ]
    },
    {
     "name": "stdout",
     "output_type": "stream",
     "text": [
      "\n",
      "Val set: Average loss: 0.5825, Accuracy: 53553/77773 (68.858%)\n"
     ]
    },
    {
     "name": "stderr",
     "output_type": "stream",
     "text": [
      "Train Epoch: 78\tAccuracy: 69.189%\tLoss: 0.569675: 100%|██████████| 152/152 [00:01<00:00, 78.07it/s]"
     ]
    },
    {
     "name": "stdout",
     "output_type": "stream",
     "text": [
      "Epoch 79\n"
     ]
    },
    {
     "name": "stderr",
     "output_type": "stream",
     "text": [
      "\n"
     ]
    },
    {
     "name": "stdout",
     "output_type": "stream",
     "text": [
      "\n",
      "Val set: Average loss: 0.5825, Accuracy: 53528/77773 (68.826%)\n"
     ]
    },
    {
     "name": "stderr",
     "output_type": "stream",
     "text": [
      "Train Epoch: 79\tAccuracy: 69.186%\tLoss: 0.569568: 100%|██████████| 152/152 [00:01<00:00, 77.96it/s]"
     ]
    },
    {
     "name": "stdout",
     "output_type": "stream",
     "text": [
      "Epoch 80\n"
     ]
    },
    {
     "name": "stderr",
     "output_type": "stream",
     "text": [
      "\n"
     ]
    },
    {
     "name": "stdout",
     "output_type": "stream",
     "text": [
      "\n",
      "Val set: Average loss: 0.5823, Accuracy: 53549/77773 (68.853%)\n"
     ]
    },
    {
     "name": "stderr",
     "output_type": "stream",
     "text": [
      "Train Epoch: 80\tAccuracy: 69.194%\tLoss: 0.569452: 100%|██████████| 152/152 [00:02<00:00, 75.47it/s]"
     ]
    },
    {
     "name": "stdout",
     "output_type": "stream",
     "text": [
      "Epoch 81\n"
     ]
    },
    {
     "name": "stderr",
     "output_type": "stream",
     "text": [
      "\n"
     ]
    },
    {
     "name": "stdout",
     "output_type": "stream",
     "text": [
      "\n",
      "Val set: Average loss: 0.5824, Accuracy: 53545/77773 (68.848%)\n"
     ]
    },
    {
     "name": "stderr",
     "output_type": "stream",
     "text": [
      "Train Epoch: 81\tAccuracy: 69.231%\tLoss: 0.573923:  84%|████████▍ | 128/152 [00:01<00:00, 73.82it/s]"
     ]
    }
   ],
   "source": [
    "retrain = True\n",
    "save_name = f'no_gender/pred_g_{method_name}{num_components}_cr{nb_cpt_remov}_b_{baseline}_{modeltype}.pt'\n",
    "real_dataset = train_a_no_gender, val_a_no_gender, test_a_no_gender\n",
    "\n",
    "\n",
    "def to_cuda_tensor(arr):\n",
    "    return torch.Tensor(arr).type(torch.FloatTensor).to(device)\n",
    "real_dataset = tuple(map(to_cuda_tensor, real_dataset))\n",
    "if retrain:\n",
    "  pg_no_gender_model = train_genders(real_dataset, genders,\n",
    "                                     batch_size=2048, test_batch_size=8192,\n",
    "                                     learning_rate=5e-4, epochs=100,\n",
    "                                     train_on_validation_set=True,\n",
    "                                     model_type='mlp',\n",
    "                                     save_path_and_name=save_name)\n",
    "else:\n",
    "  state_dict = torch.load(save_name)\n",
    "  pg_no_gender_model = train_genders(real_dataset, genders,\n",
    "                                     batch_size=2048, test_batch_size=8192,\n",
    "                                     learning_rate=5e-4, epochs=0,\n",
    "                                     train_on_validation_set=True,\n",
    "                                     model_type='mlp',\n",
    "                                     state_dict=state_dict,\n",
    "                                     save_path_and_name=save_name)"
   ]
  },
  {
   "cell_type": "code",
   "execution_count": null,
   "metadata": {},
   "outputs": [
    {
     "name": "stdout",
     "output_type": "stream",
     "text": [
      "Epoch 1\n",
      "\n",
      "Val set: Average loss: 3.3346, Accuracy: 4987/38886 (12.825%)\n"
     ]
    },
    {
     "name": "stderr",
     "output_type": "stream",
     "text": [
      "Train Epoch: 1\tAccuracy: 65.860%\tLoss: 0.987321: 100%|██████████| 133/133 [00:01<00:00, 69.49it/s]\n"
     ]
    },
    {
     "name": "stdout",
     "output_type": "stream",
     "text": [
      "Epoch 2\n",
      "\n",
      "Val set: Average loss: 1.1283, Accuracy: 26225/38886 (67.441%)\n"
     ]
    },
    {
     "name": "stderr",
     "output_type": "stream",
     "text": [
      "Train Epoch: 2\tAccuracy: 71.363%\tLoss: 0.885971: 100%|██████████| 133/133 [00:01<00:00, 81.01it/s]\n"
     ]
    },
    {
     "name": "stdout",
     "output_type": "stream",
     "text": [
      "Epoch 3\n",
      "\n",
      "Val set: Average loss: 1.0301, Accuracy: 27406/38886 (70.478%)\n"
     ]
    },
    {
     "name": "stderr",
     "output_type": "stream",
     "text": [
      "Train Epoch: 3\tAccuracy: 74.797%\tLoss: 0.811797: 100%|██████████| 133/133 [00:01<00:00, 83.29it/s]\n"
     ]
    },
    {
     "name": "stdout",
     "output_type": "stream",
     "text": [
      "Epoch 4\n",
      "\n",
      "Val set: Average loss: 0.9553, Accuracy: 28864/38886 (74.227%)\n"
     ]
    },
    {
     "name": "stderr",
     "output_type": "stream",
     "text": [
      "Train Epoch: 4\tAccuracy: 78.136%\tLoss: 0.755364: 100%|██████████| 133/133 [00:01<00:00, 83.01it/s]\n"
     ]
    },
    {
     "name": "stdout",
     "output_type": "stream",
     "text": [
      "Epoch 5\n",
      "\n",
      "Val set: Average loss: 0.8981, Accuracy: 29922/38886 (76.948%)\n"
     ]
    },
    {
     "name": "stderr",
     "output_type": "stream",
     "text": [
      "Train Epoch: 5\tAccuracy: 80.049%\tLoss: 0.714700: 100%|██████████| 133/133 [00:01<00:00, 81.25it/s]\n"
     ]
    },
    {
     "name": "stdout",
     "output_type": "stream",
     "text": [
      "Epoch 6\n",
      "\n",
      "Val set: Average loss: 0.8582, Accuracy: 30397/38886 (78.170%)\n"
     ]
    },
    {
     "name": "stderr",
     "output_type": "stream",
     "text": [
      "Train Epoch: 6\tAccuracy: 80.812%\tLoss: 0.686875: 100%|██████████| 133/133 [00:01<00:00, 84.37it/s]\n"
     ]
    },
    {
     "name": "stdout",
     "output_type": "stream",
     "text": [
      "Epoch 7\n",
      "\n",
      "Val set: Average loss: 0.8295, Accuracy: 30623/38886 (78.751%)\n"
     ]
    },
    {
     "name": "stderr",
     "output_type": "stream",
     "text": [
      "Train Epoch: 7\tAccuracy: 81.317%\tLoss: 0.667103: 100%|██████████| 133/133 [00:01<00:00, 83.56it/s]\n"
     ]
    },
    {
     "name": "stdout",
     "output_type": "stream",
     "text": [
      "Epoch 8\n",
      "\n",
      "Val set: Average loss: 0.8080, Accuracy: 30802/38886 (79.211%)\n"
     ]
    },
    {
     "name": "stderr",
     "output_type": "stream",
     "text": [
      "Train Epoch: 8\tAccuracy: 81.674%\tLoss: 0.650600: 100%|██████████| 133/133 [00:01<00:00, 83.35it/s]\n"
     ]
    },
    {
     "name": "stdout",
     "output_type": "stream",
     "text": [
      "Epoch 9\n",
      "\n",
      "Val set: Average loss: 0.7916, Accuracy: 30899/38886 (79.460%)\n"
     ]
    },
    {
     "name": "stderr",
     "output_type": "stream",
     "text": [
      "Train Epoch: 9\tAccuracy: 81.974%\tLoss: 0.638061: 100%|██████████| 133/133 [00:01<00:00, 84.40it/s]\n"
     ]
    },
    {
     "name": "stdout",
     "output_type": "stream",
     "text": [
      "Epoch 10\n",
      "\n",
      "Val set: Average loss: 0.7789, Accuracy: 30975/38886 (79.656%)\n"
     ]
    },
    {
     "name": "stderr",
     "output_type": "stream",
     "text": [
      "Train Epoch: 10\tAccuracy: 82.224%\tLoss: 0.627033: 100%|██████████| 133/133 [00:01<00:00, 83.18it/s]\n"
     ]
    },
    {
     "name": "stdout",
     "output_type": "stream",
     "text": [
      "Epoch 11\n",
      "\n",
      "Val set: Average loss: 0.7683, Accuracy: 31052/38886 (79.854%)\n"
     ]
    },
    {
     "name": "stderr",
     "output_type": "stream",
     "text": [
      "Train Epoch: 11\tAccuracy: 82.432%\tLoss: 0.617025: 100%|██████████| 133/133 [00:01<00:00, 84.32it/s]\n"
     ]
    },
    {
     "name": "stdout",
     "output_type": "stream",
     "text": [
      "Epoch 12\n",
      "\n",
      "Val set: Average loss: 0.7597, Accuracy: 31138/38886 (80.075%)\n"
     ]
    },
    {
     "name": "stderr",
     "output_type": "stream",
     "text": [
      "Train Epoch: 12\tAccuracy: 82.605%\tLoss: 0.608662: 100%|██████████| 133/133 [00:01<00:00, 82.33it/s]\n"
     ]
    },
    {
     "name": "stdout",
     "output_type": "stream",
     "text": [
      "Epoch 13\n",
      "\n",
      "Val set: Average loss: 0.7522, Accuracy: 31180/38886 (80.183%)\n"
     ]
    },
    {
     "name": "stderr",
     "output_type": "stream",
     "text": [
      "Train Epoch: 13\tAccuracy: 82.798%\tLoss: 0.601305: 100%|██████████| 133/133 [00:01<00:00, 83.37it/s]\n"
     ]
    },
    {
     "name": "stdout",
     "output_type": "stream",
     "text": [
      "Epoch 14\n",
      "\n",
      "Val set: Average loss: 0.7464, Accuracy: 31250/38886 (80.363%)\n"
     ]
    },
    {
     "name": "stderr",
     "output_type": "stream",
     "text": [
      "Train Epoch: 14\tAccuracy: 82.935%\tLoss: 0.595106: 100%|██████████| 133/133 [00:01<00:00, 84.32it/s]\n"
     ]
    },
    {
     "name": "stdout",
     "output_type": "stream",
     "text": [
      "Epoch 15\n",
      "\n",
      "Val set: Average loss: 0.7411, Accuracy: 31299/38886 (80.489%)\n"
     ]
    },
    {
     "name": "stderr",
     "output_type": "stream",
     "text": [
      "Train Epoch: 15\tAccuracy: 83.064%\tLoss: 0.590359: 100%|██████████| 133/133 [00:01<00:00, 83.56it/s]\n"
     ]
    },
    {
     "name": "stdout",
     "output_type": "stream",
     "text": [
      "Epoch 16\n",
      "\n",
      "Val set: Average loss: 0.7363, Accuracy: 31350/38886 (80.620%)\n"
     ]
    },
    {
     "name": "stderr",
     "output_type": "stream",
     "text": [
      "Train Epoch: 16\tAccuracy: 83.188%\tLoss: 0.585786: 100%|██████████| 133/133 [00:01<00:00, 84.06it/s]\n"
     ]
    },
    {
     "name": "stdout",
     "output_type": "stream",
     "text": [
      "Epoch 17\n",
      "\n",
      "Val set: Average loss: 0.7322, Accuracy: 31410/38886 (80.775%)\n"
     ]
    },
    {
     "name": "stderr",
     "output_type": "stream",
     "text": [
      "Train Epoch: 17\tAccuracy: 83.311%\tLoss: 0.581715: 100%|██████████| 133/133 [00:01<00:00, 83.21it/s]\n"
     ]
    },
    {
     "name": "stdout",
     "output_type": "stream",
     "text": [
      "Epoch 18\n",
      "\n",
      "Val set: Average loss: 0.7286, Accuracy: 31448/38886 (80.872%)\n"
     ]
    },
    {
     "name": "stderr",
     "output_type": "stream",
     "text": [
      "Train Epoch: 18\tAccuracy: 83.418%\tLoss: 0.577665: 100%|██████████| 133/133 [00:01<00:00, 83.78it/s]\n"
     ]
    },
    {
     "name": "stdout",
     "output_type": "stream",
     "text": [
      "Epoch 19\n",
      "\n",
      "Val set: Average loss: 0.7253, Accuracy: 31454/38886 (80.888%)\n"
     ]
    },
    {
     "name": "stderr",
     "output_type": "stream",
     "text": [
      "Train Epoch: 19\tAccuracy: 83.494%\tLoss: 0.574459: 100%|██████████| 133/133 [00:01<00:00, 83.91it/s]\n"
     ]
    },
    {
     "name": "stdout",
     "output_type": "stream",
     "text": [
      "Epoch 20\n",
      "\n",
      "Val set: Average loss: 0.7224, Accuracy: 31498/38886 (81.001%)\n"
     ]
    },
    {
     "name": "stderr",
     "output_type": "stream",
     "text": [
      "Train Epoch: 20\tAccuracy: 83.578%\tLoss: 0.571677: 100%|██████████| 133/133 [00:01<00:00, 82.70it/s]\n"
     ]
    },
    {
     "name": "stdout",
     "output_type": "stream",
     "text": [
      "Epoch 21\n",
      "\n",
      "Val set: Average loss: 0.7196, Accuracy: 31528/38886 (81.078%)\n"
     ]
    },
    {
     "name": "stderr",
     "output_type": "stream",
     "text": [
      "Train Epoch: 21\tAccuracy: 83.656%\tLoss: 0.569231: 100%|██████████| 133/133 [00:01<00:00, 84.23it/s]\n"
     ]
    },
    {
     "name": "stdout",
     "output_type": "stream",
     "text": [
      "Epoch 22\n",
      "\n",
      "Val set: Average loss: 0.7173, Accuracy: 31563/38886 (81.168%)\n"
     ]
    },
    {
     "name": "stderr",
     "output_type": "stream",
     "text": [
      "Train Epoch: 22\tAccuracy: 83.722%\tLoss: 0.566855: 100%|██████████| 133/133 [00:01<00:00, 84.47it/s]\n"
     ]
    },
    {
     "name": "stdout",
     "output_type": "stream",
     "text": [
      "Epoch 23\n",
      "\n",
      "Val set: Average loss: 0.7149, Accuracy: 31586/38886 (81.227%)\n"
     ]
    },
    {
     "name": "stderr",
     "output_type": "stream",
     "text": [
      "Train Epoch: 23\tAccuracy: 83.774%\tLoss: 0.564522: 100%|██████████| 133/133 [00:01<00:00, 83.39it/s]\n"
     ]
    },
    {
     "name": "stdout",
     "output_type": "stream",
     "text": [
      "Epoch 24\n",
      "\n",
      "Val set: Average loss: 0.7129, Accuracy: 31601/38886 (81.266%)\n"
     ]
    },
    {
     "name": "stderr",
     "output_type": "stream",
     "text": [
      "Train Epoch: 24\tAccuracy: 83.822%\tLoss: 0.562660: 100%|██████████| 133/133 [00:01<00:00, 83.85it/s]\n"
     ]
    },
    {
     "name": "stdout",
     "output_type": "stream",
     "text": [
      "Epoch 25\n",
      "\n",
      "Val set: Average loss: 0.7109, Accuracy: 31609/38886 (81.286%)\n"
     ]
    },
    {
     "name": "stderr",
     "output_type": "stream",
     "text": [
      "Train Epoch: 25\tAccuracy: 83.860%\tLoss: 0.560829: 100%|██████████| 133/133 [00:01<00:00, 82.81it/s]\n"
     ]
    },
    {
     "name": "stdout",
     "output_type": "stream",
     "text": [
      "Epoch 26\n",
      "\n",
      "Val set: Average loss: 0.7090, Accuracy: 31618/38886 (81.309%)\n"
     ]
    },
    {
     "name": "stderr",
     "output_type": "stream",
     "text": [
      "Train Epoch: 26\tAccuracy: 83.909%\tLoss: 0.559233: 100%|██████████| 133/133 [00:01<00:00, 83.17it/s]\n"
     ]
    },
    {
     "name": "stdout",
     "output_type": "stream",
     "text": [
      "Epoch 27\n",
      "\n",
      "Val set: Average loss: 0.7074, Accuracy: 31648/38886 (81.387%)\n"
     ]
    },
    {
     "name": "stderr",
     "output_type": "stream",
     "text": [
      "Train Epoch: 27\tAccuracy: 83.965%\tLoss: 0.557791: 100%|██████████| 133/133 [00:01<00:00, 84.42it/s]\n"
     ]
    },
    {
     "name": "stdout",
     "output_type": "stream",
     "text": [
      "Epoch 28\n",
      "\n",
      "Val set: Average loss: 0.7059, Accuracy: 31648/38886 (81.387%)\n"
     ]
    },
    {
     "name": "stderr",
     "output_type": "stream",
     "text": [
      "Train Epoch: 28\tAccuracy: 84.013%\tLoss: 0.557006: 100%|██████████| 133/133 [00:01<00:00, 83.08it/s]\n"
     ]
    },
    {
     "name": "stdout",
     "output_type": "stream",
     "text": [
      "Epoch 29\n",
      "\n",
      "Val set: Average loss: 0.7043, Accuracy: 31674/38886 (81.453%)\n"
     ]
    },
    {
     "name": "stderr",
     "output_type": "stream",
     "text": [
      "Train Epoch: 29\tAccuracy: 84.063%\tLoss: 0.556272: 100%|██████████| 133/133 [00:01<00:00, 84.37it/s]\n"
     ]
    },
    {
     "name": "stdout",
     "output_type": "stream",
     "text": [
      "Epoch 30\n",
      "\n",
      "Val set: Average loss: 0.7029, Accuracy: 31679/38886 (81.466%)\n"
     ]
    },
    {
     "name": "stderr",
     "output_type": "stream",
     "text": [
      "Train Epoch: 30\tAccuracy: 84.106%\tLoss: 0.554985: 100%|██████████| 133/133 [00:01<00:00, 83.60it/s]\n"
     ]
    },
    {
     "name": "stdout",
     "output_type": "stream",
     "text": [
      "Epoch 31\n",
      "\n",
      "Val set: Average loss: 0.7015, Accuracy: 31710/38886 (81.546%)\n"
     ]
    },
    {
     "name": "stderr",
     "output_type": "stream",
     "text": [
      "Train Epoch: 31\tAccuracy: 84.135%\tLoss: 0.554139: 100%|██████████| 133/133 [00:01<00:00, 83.73it/s]\n"
     ]
    },
    {
     "name": "stdout",
     "output_type": "stream",
     "text": [
      "Epoch 32\n",
      "\n",
      "Val set: Average loss: 0.7000, Accuracy: 31725/38886 (81.585%)\n"
     ]
    },
    {
     "name": "stderr",
     "output_type": "stream",
     "text": [
      "Train Epoch: 32\tAccuracy: 84.171%\tLoss: 0.553304: 100%|██████████| 133/133 [00:01<00:00, 84.96it/s]\n"
     ]
    },
    {
     "name": "stdout",
     "output_type": "stream",
     "text": [
      "Epoch 33\n",
      "\n",
      "Val set: Average loss: 0.6988, Accuracy: 31721/38886 (81.574%)\n"
     ]
    },
    {
     "name": "stderr",
     "output_type": "stream",
     "text": [
      "Train Epoch: 33\tAccuracy: 84.205%\tLoss: 0.552713: 100%|██████████| 133/133 [00:01<00:00, 83.48it/s]\n"
     ]
    },
    {
     "name": "stdout",
     "output_type": "stream",
     "text": [
      "Epoch 34\n",
      "\n",
      "Val set: Average loss: 0.6975, Accuracy: 31747/38886 (81.641%)\n"
     ]
    },
    {
     "name": "stderr",
     "output_type": "stream",
     "text": [
      "Train Epoch: 34\tAccuracy: 84.243%\tLoss: 0.551563: 100%|██████████| 133/133 [00:01<00:00, 84.19it/s]\n"
     ]
    },
    {
     "name": "stdout",
     "output_type": "stream",
     "text": [
      "Epoch 35\n",
      "\n",
      "Val set: Average loss: 0.6964, Accuracy: 31746/38886 (81.639%)\n"
     ]
    },
    {
     "name": "stderr",
     "output_type": "stream",
     "text": [
      "Train Epoch: 35\tAccuracy: 84.279%\tLoss: 0.550602: 100%|██████████| 133/133 [00:01<00:00, 84.16it/s]\n"
     ]
    },
    {
     "name": "stdout",
     "output_type": "stream",
     "text": [
      "Epoch 36\n",
      "\n",
      "Val set: Average loss: 0.6954, Accuracy: 31744/38886 (81.633%)\n"
     ]
    },
    {
     "name": "stderr",
     "output_type": "stream",
     "text": [
      "Train Epoch: 36\tAccuracy: 84.302%\tLoss: 0.549323: 100%|██████████| 133/133 [00:01<00:00, 83.89it/s]\n"
     ]
    },
    {
     "name": "stdout",
     "output_type": "stream",
     "text": [
      "Epoch 37\n",
      "\n",
      "Val set: Average loss: 0.6943, Accuracy: 31762/38886 (81.680%)\n"
     ]
    },
    {
     "name": "stderr",
     "output_type": "stream",
     "text": [
      "Train Epoch: 37\tAccuracy: 84.333%\tLoss: 0.548267: 100%|██████████| 133/133 [00:01<00:00, 84.15it/s]\n"
     ]
    },
    {
     "name": "stdout",
     "output_type": "stream",
     "text": [
      "Epoch 38\n",
      "\n",
      "Val set: Average loss: 0.6933, Accuracy: 31769/38886 (81.698%)\n"
     ]
    },
    {
     "name": "stderr",
     "output_type": "stream",
     "text": [
      "Train Epoch: 38\tAccuracy: 84.364%\tLoss: 0.547337: 100%|██████████| 133/133 [00:01<00:00, 84.03it/s]\n"
     ]
    },
    {
     "name": "stdout",
     "output_type": "stream",
     "text": [
      "Epoch 39\n",
      "\n",
      "Val set: Average loss: 0.6923, Accuracy: 31761/38886 (81.677%)\n"
     ]
    },
    {
     "name": "stderr",
     "output_type": "stream",
     "text": [
      "Train Epoch: 39\tAccuracy: 84.392%\tLoss: 0.546153: 100%|██████████| 133/133 [00:01<00:00, 83.82it/s]\n"
     ]
    },
    {
     "name": "stdout",
     "output_type": "stream",
     "text": [
      "Epoch 40\n",
      "\n",
      "Val set: Average loss: 0.6914, Accuracy: 31773/38886 (81.708%)\n"
     ]
    },
    {
     "name": "stderr",
     "output_type": "stream",
     "text": [
      "Train Epoch: 40\tAccuracy: 84.406%\tLoss: 0.545178: 100%|██████████| 133/133 [00:01<00:00, 84.11it/s]\n"
     ]
    },
    {
     "name": "stdout",
     "output_type": "stream",
     "text": [
      "Epoch 41\n",
      "\n",
      "Val set: Average loss: 0.6906, Accuracy: 31780/38886 (81.726%)\n"
     ]
    },
    {
     "name": "stderr",
     "output_type": "stream",
     "text": [
      "Train Epoch: 41\tAccuracy: 84.424%\tLoss: 0.544939: 100%|██████████| 133/133 [00:01<00:00, 83.27it/s]\n"
     ]
    },
    {
     "name": "stdout",
     "output_type": "stream",
     "text": [
      "Epoch 42\n",
      "\n",
      "Val set: Average loss: 0.6897, Accuracy: 31791/38886 (81.754%)\n"
     ]
    },
    {
     "name": "stderr",
     "output_type": "stream",
     "text": [
      "Train Epoch: 42\tAccuracy: 84.452%\tLoss: 0.544038: 100%|██████████| 133/133 [00:01<00:00, 83.89it/s]\n"
     ]
    },
    {
     "name": "stdout",
     "output_type": "stream",
     "text": [
      "Epoch 43\n",
      "\n",
      "Val set: Average loss: 0.6889, Accuracy: 31803/38886 (81.785%)\n"
     ]
    },
    {
     "name": "stderr",
     "output_type": "stream",
     "text": [
      "Train Epoch: 43\tAccuracy: 84.484%\tLoss: 0.543393: 100%|██████████| 133/133 [00:01<00:00, 83.12it/s]\n"
     ]
    },
    {
     "name": "stdout",
     "output_type": "stream",
     "text": [
      "Epoch 44\n",
      "\n",
      "Val set: Average loss: 0.6881, Accuracy: 31809/38886 (81.801%)\n"
     ]
    },
    {
     "name": "stderr",
     "output_type": "stream",
     "text": [
      "Train Epoch: 44\tAccuracy: 84.507%\tLoss: 0.542204: 100%|██████████| 133/133 [00:01<00:00, 82.92it/s]\n"
     ]
    },
    {
     "name": "stdout",
     "output_type": "stream",
     "text": [
      "Epoch 45\n",
      "\n",
      "Val set: Average loss: 0.6875, Accuracy: 31814/38886 (81.814%)\n"
     ]
    },
    {
     "name": "stderr",
     "output_type": "stream",
     "text": [
      "Train Epoch: 45\tAccuracy: 84.516%\tLoss: 0.541472: 100%|██████████| 133/133 [00:01<00:00, 83.71it/s]\n"
     ]
    },
    {
     "name": "stdout",
     "output_type": "stream",
     "text": [
      "Epoch 46\n",
      "\n",
      "Val set: Average loss: 0.6867, Accuracy: 31820/38886 (81.829%)\n"
     ]
    },
    {
     "name": "stderr",
     "output_type": "stream",
     "text": [
      "Train Epoch: 46\tAccuracy: 84.541%\tLoss: 0.540936: 100%|██████████| 133/133 [00:01<00:00, 83.29it/s]\n"
     ]
    },
    {
     "name": "stdout",
     "output_type": "stream",
     "text": [
      "Epoch 47\n",
      "\n",
      "Val set: Average loss: 0.6862, Accuracy: 31838/38886 (81.875%)\n"
     ]
    },
    {
     "name": "stderr",
     "output_type": "stream",
     "text": [
      "Train Epoch: 47\tAccuracy: 84.555%\tLoss: 0.540511: 100%|██████████| 133/133 [00:01<00:00, 84.33it/s]\n"
     ]
    },
    {
     "name": "stdout",
     "output_type": "stream",
     "text": [
      "Epoch 48\n",
      "\n",
      "Val set: Average loss: 0.6856, Accuracy: 31843/38886 (81.888%)\n"
     ]
    },
    {
     "name": "stderr",
     "output_type": "stream",
     "text": [
      "Train Epoch: 48\tAccuracy: 84.572%\tLoss: 0.539564: 100%|██████████| 133/133 [00:01<00:00, 83.42it/s]\n"
     ]
    },
    {
     "name": "stdout",
     "output_type": "stream",
     "text": [
      "Epoch 49\n",
      "\n",
      "Val set: Average loss: 0.6848, Accuracy: 31854/38886 (81.916%)\n"
     ]
    },
    {
     "name": "stderr",
     "output_type": "stream",
     "text": [
      "Train Epoch: 49\tAccuracy: 84.599%\tLoss: 0.538838: 100%|██████████| 133/133 [00:01<00:00, 83.67it/s]\n"
     ]
    },
    {
     "name": "stdout",
     "output_type": "stream",
     "text": [
      "Epoch 50\n",
      "\n",
      "Val set: Average loss: 0.6841, Accuracy: 31870/38886 (81.958%)\n"
     ]
    },
    {
     "name": "stderr",
     "output_type": "stream",
     "text": [
      "Train Epoch: 50\tAccuracy: 84.627%\tLoss: 0.537830: 100%|██████████| 133/133 [00:01<00:00, 84.07it/s]\n"
     ]
    },
    {
     "name": "stdout",
     "output_type": "stream",
     "text": [
      "Epoch 51\n",
      "\n",
      "Val set: Average loss: 0.6834, Accuracy: 31867/38886 (81.950%)\n"
     ]
    },
    {
     "name": "stderr",
     "output_type": "stream",
     "text": [
      "Train Epoch: 51\tAccuracy: 84.645%\tLoss: 0.537237: 100%|██████████| 133/133 [00:01<00:00, 82.87it/s]\n"
     ]
    },
    {
     "name": "stdout",
     "output_type": "stream",
     "text": [
      "Epoch 52\n",
      "\n",
      "Val set: Average loss: 0.6828, Accuracy: 31883/38886 (81.991%)\n"
     ]
    },
    {
     "name": "stderr",
     "output_type": "stream",
     "text": [
      "Train Epoch: 52\tAccuracy: 84.665%\tLoss: 0.536795: 100%|██████████| 133/133 [00:01<00:00, 83.56it/s]\n"
     ]
    },
    {
     "name": "stdout",
     "output_type": "stream",
     "text": [
      "Epoch 53\n",
      "\n",
      "Val set: Average loss: 0.6822, Accuracy: 31885/38886 (81.996%)\n"
     ]
    },
    {
     "name": "stderr",
     "output_type": "stream",
     "text": [
      "Train Epoch: 53\tAccuracy: 84.672%\tLoss: 0.535989: 100%|██████████| 133/133 [00:01<00:00, 83.58it/s]\n"
     ]
    },
    {
     "name": "stdout",
     "output_type": "stream",
     "text": [
      "Epoch 54\n",
      "\n",
      "Val set: Average loss: 0.6817, Accuracy: 31889/38886 (82.006%)\n"
     ]
    },
    {
     "name": "stderr",
     "output_type": "stream",
     "text": [
      "Train Epoch: 54\tAccuracy: 84.701%\tLoss: 0.535213: 100%|██████████| 133/133 [00:01<00:00, 83.40it/s]\n"
     ]
    },
    {
     "name": "stdout",
     "output_type": "stream",
     "text": [
      "Epoch 55\n",
      "\n",
      "Val set: Average loss: 0.6811, Accuracy: 31899/38886 (82.032%)\n"
     ]
    },
    {
     "name": "stderr",
     "output_type": "stream",
     "text": [
      "Train Epoch: 55\tAccuracy: 84.715%\tLoss: 0.534441: 100%|██████████| 133/133 [00:01<00:00, 84.00it/s]\n"
     ]
    },
    {
     "name": "stdout",
     "output_type": "stream",
     "text": [
      "Epoch 56\n",
      "\n",
      "Val set: Average loss: 0.6806, Accuracy: 31902/38886 (82.040%)\n"
     ]
    },
    {
     "name": "stderr",
     "output_type": "stream",
     "text": [
      "Train Epoch: 56\tAccuracy: 84.723%\tLoss: 0.533898: 100%|██████████| 133/133 [00:01<00:00, 83.83it/s]\n"
     ]
    },
    {
     "name": "stdout",
     "output_type": "stream",
     "text": [
      "Epoch 57\n",
      "\n",
      "Val set: Average loss: 0.6801, Accuracy: 31904/38886 (82.045%)\n"
     ]
    },
    {
     "name": "stderr",
     "output_type": "stream",
     "text": [
      "Train Epoch: 57\tAccuracy: 84.733%\tLoss: 0.533300: 100%|██████████| 133/133 [00:01<00:00, 82.87it/s]\n"
     ]
    },
    {
     "name": "stdout",
     "output_type": "stream",
     "text": [
      "Epoch 58\n",
      "\n",
      "Val set: Average loss: 0.6795, Accuracy: 31918/38886 (82.081%)\n"
     ]
    },
    {
     "name": "stderr",
     "output_type": "stream",
     "text": [
      "Train Epoch: 58\tAccuracy: 84.750%\tLoss: 0.532883: 100%|██████████| 133/133 [00:01<00:00, 83.23it/s]\n"
     ]
    },
    {
     "name": "stdout",
     "output_type": "stream",
     "text": [
      "Epoch 59\n",
      "\n",
      "Val set: Average loss: 0.6790, Accuracy: 31914/38886 (82.071%)\n"
     ]
    },
    {
     "name": "stderr",
     "output_type": "stream",
     "text": [
      "Train Epoch: 59\tAccuracy: 84.764%\tLoss: 0.532299: 100%|██████████| 133/133 [00:01<00:00, 83.03it/s]\n"
     ]
    },
    {
     "name": "stdout",
     "output_type": "stream",
     "text": [
      "Epoch 60\n",
      "\n",
      "Val set: Average loss: 0.6785, Accuracy: 31914/38886 (82.071%)\n"
     ]
    },
    {
     "name": "stderr",
     "output_type": "stream",
     "text": [
      "Train Epoch: 60\tAccuracy: 84.767%\tLoss: 0.531856: 100%|██████████| 133/133 [00:01<00:00, 82.75it/s]\n"
     ]
    },
    {
     "name": "stdout",
     "output_type": "stream",
     "text": [
      "Epoch 61\n",
      "\n",
      "Val set: Average loss: 0.6781, Accuracy: 31923/38886 (82.094%)\n"
     ]
    },
    {
     "name": "stderr",
     "output_type": "stream",
     "text": [
      "Train Epoch: 61\tAccuracy: 84.769%\tLoss: 0.531301: 100%|██████████| 133/133 [00:01<00:00, 83.42it/s]\n"
     ]
    },
    {
     "name": "stdout",
     "output_type": "stream",
     "text": [
      "Epoch 62\n",
      "\n",
      "Val set: Average loss: 0.6777, Accuracy: 31917/38886 (82.078%)\n"
     ]
    },
    {
     "name": "stderr",
     "output_type": "stream",
     "text": [
      "Train Epoch: 62\tAccuracy: 84.790%\tLoss: 0.530854: 100%|██████████| 133/133 [00:01<00:00, 83.20it/s]\n"
     ]
    },
    {
     "name": "stdout",
     "output_type": "stream",
     "text": [
      "Epoch 63\n",
      "\n",
      "Val set: Average loss: 0.6773, Accuracy: 31911/38886 (82.063%)\n"
     ]
    },
    {
     "name": "stderr",
     "output_type": "stream",
     "text": [
      "Train Epoch: 63\tAccuracy: 84.805%\tLoss: 0.530431: 100%|██████████| 133/133 [00:01<00:00, 83.84it/s]\n"
     ]
    },
    {
     "name": "stdout",
     "output_type": "stream",
     "text": [
      "Epoch 64\n",
      "\n",
      "Val set: Average loss: 0.6769, Accuracy: 31916/38886 (82.076%)\n"
     ]
    },
    {
     "name": "stderr",
     "output_type": "stream",
     "text": [
      "Train Epoch: 64\tAccuracy: 84.817%\tLoss: 0.530034: 100%|██████████| 133/133 [00:01<00:00, 83.35it/s]\n"
     ]
    },
    {
     "name": "stdout",
     "output_type": "stream",
     "text": [
      "Epoch 65\n",
      "\n",
      "Val set: Average loss: 0.6765, Accuracy: 31920/38886 (82.086%)\n"
     ]
    },
    {
     "name": "stderr",
     "output_type": "stream",
     "text": [
      "Train Epoch: 65\tAccuracy: 84.822%\tLoss: 0.529769: 100%|██████████| 133/133 [00:01<00:00, 82.64it/s]\n"
     ]
    },
    {
     "name": "stdout",
     "output_type": "stream",
     "text": [
      "Epoch 66\n",
      "\n",
      "Val set: Average loss: 0.6760, Accuracy: 31916/38886 (82.076%)\n"
     ]
    },
    {
     "name": "stderr",
     "output_type": "stream",
     "text": [
      "Train Epoch: 66\tAccuracy: 84.828%\tLoss: 0.529385: 100%|██████████| 133/133 [00:01<00:00, 83.83it/s]\n"
     ]
    },
    {
     "name": "stdout",
     "output_type": "stream",
     "text": [
      "Epoch 67\n",
      "\n",
      "Val set: Average loss: 0.6757, Accuracy: 31920/38886 (82.086%)\n"
     ]
    },
    {
     "name": "stderr",
     "output_type": "stream",
     "text": [
      "Train Epoch: 67\tAccuracy: 84.856%\tLoss: 0.528941: 100%|██████████| 133/133 [00:01<00:00, 82.53it/s]\n"
     ]
    },
    {
     "name": "stdout",
     "output_type": "stream",
     "text": [
      "Epoch 68\n",
      "\n",
      "Val set: Average loss: 0.6755, Accuracy: 31924/38886 (82.096%)\n"
     ]
    },
    {
     "name": "stderr",
     "output_type": "stream",
     "text": [
      "Train Epoch: 68\tAccuracy: 84.864%\tLoss: 0.528353: 100%|██████████| 133/133 [00:01<00:00, 82.59it/s]\n"
     ]
    },
    {
     "name": "stdout",
     "output_type": "stream",
     "text": [
      "Epoch 69\n",
      "\n",
      "Val set: Average loss: 0.6752, Accuracy: 31920/38886 (82.086%)\n"
     ]
    },
    {
     "name": "stderr",
     "output_type": "stream",
     "text": [
      "Train Epoch: 69\tAccuracy: 84.862%\tLoss: 0.527930: 100%|██████████| 133/133 [00:01<00:00, 82.73it/s]\n"
     ]
    },
    {
     "name": "stdout",
     "output_type": "stream",
     "text": [
      "Epoch 70\n",
      "\n",
      "Val set: Average loss: 0.6748, Accuracy: 31931/38886 (82.114%)\n"
     ]
    },
    {
     "name": "stderr",
     "output_type": "stream",
     "text": [
      "Train Epoch: 70\tAccuracy: 84.865%\tLoss: 0.527025: 100%|██████████| 133/133 [00:01<00:00, 82.57it/s]\n"
     ]
    },
    {
     "name": "stdout",
     "output_type": "stream",
     "text": [
      "Epoch 71\n",
      "\n",
      "Val set: Average loss: 0.6745, Accuracy: 31929/38886 (82.109%)\n"
     ]
    },
    {
     "name": "stderr",
     "output_type": "stream",
     "text": [
      "Train Epoch: 71\tAccuracy: 84.872%\tLoss: 0.526659: 100%|██████████| 133/133 [00:01<00:00, 83.33it/s]\n"
     ]
    },
    {
     "name": "stdout",
     "output_type": "stream",
     "text": [
      "Epoch 72\n",
      "\n",
      "Val set: Average loss: 0.6742, Accuracy: 31930/38886 (82.112%)\n"
     ]
    },
    {
     "name": "stderr",
     "output_type": "stream",
     "text": [
      "Train Epoch: 72\tAccuracy: 84.867%\tLoss: 0.526318: 100%|██████████| 133/133 [00:01<00:00, 82.56it/s]\n"
     ]
    },
    {
     "name": "stdout",
     "output_type": "stream",
     "text": [
      "Epoch 73\n",
      "\n",
      "Val set: Average loss: 0.6738, Accuracy: 31927/38886 (82.104%)\n"
     ]
    },
    {
     "name": "stderr",
     "output_type": "stream",
     "text": [
      "Train Epoch: 73\tAccuracy: 84.877%\tLoss: 0.525636: 100%|██████████| 133/133 [00:01<00:00, 82.67it/s]\n"
     ]
    },
    {
     "name": "stdout",
     "output_type": "stream",
     "text": [
      "Epoch 74\n",
      "\n",
      "Val set: Average loss: 0.6735, Accuracy: 31927/38886 (82.104%)\n"
     ]
    },
    {
     "name": "stderr",
     "output_type": "stream",
     "text": [
      "Train Epoch: 74\tAccuracy: 84.905%\tLoss: 0.525065: 100%|██████████| 133/133 [00:01<00:00, 83.95it/s]\n"
     ]
    },
    {
     "name": "stdout",
     "output_type": "stream",
     "text": [
      "Epoch 75\n",
      "\n",
      "Val set: Average loss: 0.6732, Accuracy: 31928/38886 (82.107%)\n"
     ]
    },
    {
     "name": "stderr",
     "output_type": "stream",
     "text": [
      "Train Epoch: 75\tAccuracy: 84.896%\tLoss: 0.524865: 100%|██████████| 133/133 [00:01<00:00, 82.49it/s]\n"
     ]
    },
    {
     "name": "stdout",
     "output_type": "stream",
     "text": [
      "Epoch 76\n",
      "\n",
      "Val set: Average loss: 0.6728, Accuracy: 31932/38886 (82.117%)\n"
     ]
    },
    {
     "name": "stderr",
     "output_type": "stream",
     "text": [
      "Train Epoch: 76\tAccuracy: 84.908%\tLoss: 0.524600: 100%|██████████| 133/133 [00:01<00:00, 83.54it/s]\n"
     ]
    },
    {
     "name": "stdout",
     "output_type": "stream",
     "text": [
      "Epoch 77\n",
      "\n",
      "Val set: Average loss: 0.6726, Accuracy: 31935/38886 (82.125%)\n"
     ]
    },
    {
     "name": "stderr",
     "output_type": "stream",
     "text": [
      "Train Epoch: 77\tAccuracy: 84.914%\tLoss: 0.524276: 100%|██████████| 133/133 [00:01<00:00, 83.88it/s]\n"
     ]
    },
    {
     "name": "stdout",
     "output_type": "stream",
     "text": [
      "Epoch 78\n",
      "\n",
      "Val set: Average loss: 0.6722, Accuracy: 31931/38886 (82.114%)\n"
     ]
    },
    {
     "name": "stderr",
     "output_type": "stream",
     "text": [
      "Train Epoch: 78\tAccuracy: 84.926%\tLoss: 0.524075: 100%|██████████| 133/133 [00:01<00:00, 82.76it/s]\n"
     ]
    },
    {
     "name": "stdout",
     "output_type": "stream",
     "text": [
      "Epoch 79\n",
      "\n",
      "Val set: Average loss: 0.6719, Accuracy: 31937/38886 (82.130%)\n"
     ]
    },
    {
     "name": "stderr",
     "output_type": "stream",
     "text": [
      "Train Epoch: 79\tAccuracy: 84.920%\tLoss: 0.524069: 100%|██████████| 133/133 [00:01<00:00, 83.32it/s]\n"
     ]
    },
    {
     "name": "stdout",
     "output_type": "stream",
     "text": [
      "Epoch 80\n",
      "\n",
      "Val set: Average loss: 0.6715, Accuracy: 31940/38886 (82.138%)\n"
     ]
    },
    {
     "name": "stderr",
     "output_type": "stream",
     "text": [
      "Train Epoch: 80\tAccuracy: 84.927%\tLoss: 0.524223: 100%|██████████| 133/133 [00:01<00:00, 82.55it/s]\n"
     ]
    },
    {
     "name": "stdout",
     "output_type": "stream",
     "text": [
      "Epoch 81\n",
      "\n",
      "Val set: Average loss: 0.6712, Accuracy: 31948/38886 (82.158%)\n"
     ]
    },
    {
     "name": "stderr",
     "output_type": "stream",
     "text": [
      "Train Epoch: 81\tAccuracy: 84.939%\tLoss: 0.523819: 100%|██████████| 133/133 [00:01<00:00, 82.24it/s]\n"
     ]
    },
    {
     "name": "stdout",
     "output_type": "stream",
     "text": [
      "Epoch 82\n",
      "\n",
      "Val set: Average loss: 0.6709, Accuracy: 31955/38886 (82.176%)\n"
     ]
    },
    {
     "name": "stderr",
     "output_type": "stream",
     "text": [
      "Train Epoch: 82\tAccuracy: 84.956%\tLoss: 0.523568: 100%|██████████| 133/133 [00:01<00:00, 82.49it/s]\n"
     ]
    },
    {
     "name": "stdout",
     "output_type": "stream",
     "text": [
      "Epoch 83\n",
      "\n",
      "Val set: Average loss: 0.6706, Accuracy: 31950/38886 (82.163%)\n"
     ]
    },
    {
     "name": "stderr",
     "output_type": "stream",
     "text": [
      "Train Epoch: 83\tAccuracy: 84.960%\tLoss: 0.523326: 100%|██████████| 133/133 [00:01<00:00, 82.91it/s]\n"
     ]
    },
    {
     "name": "stdout",
     "output_type": "stream",
     "text": [
      "Epoch 84\n",
      "\n",
      "Val set: Average loss: 0.6704, Accuracy: 31942/38886 (82.143%)\n"
     ]
    },
    {
     "name": "stderr",
     "output_type": "stream",
     "text": [
      "Train Epoch: 84\tAccuracy: 84.973%\tLoss: 0.522888: 100%|██████████| 133/133 [00:01<00:00, 83.72it/s]\n"
     ]
    },
    {
     "name": "stdout",
     "output_type": "stream",
     "text": [
      "Epoch 85\n",
      "\n",
      "Val set: Average loss: 0.6702, Accuracy: 31948/38886 (82.158%)\n"
     ]
    },
    {
     "name": "stderr",
     "output_type": "stream",
     "text": [
      "Train Epoch: 85\tAccuracy: 84.976%\tLoss: 0.522777: 100%|██████████| 133/133 [00:01<00:00, 82.79it/s]\n"
     ]
    },
    {
     "name": "stdout",
     "output_type": "stream",
     "text": [
      "Epoch 86\n",
      "\n",
      "Val set: Average loss: 0.6699, Accuracy: 31955/38886 (82.176%)\n"
     ]
    },
    {
     "name": "stderr",
     "output_type": "stream",
     "text": [
      "Train Epoch: 86\tAccuracy: 84.987%\tLoss: 0.522631: 100%|██████████| 133/133 [00:01<00:00, 83.00it/s]\n"
     ]
    },
    {
     "name": "stdout",
     "output_type": "stream",
     "text": [
      "Epoch 87\n",
      "\n",
      "Val set: Average loss: 0.6698, Accuracy: 31955/38886 (82.176%)\n"
     ]
    },
    {
     "name": "stderr",
     "output_type": "stream",
     "text": [
      "Train Epoch: 87\tAccuracy: 84.990%\tLoss: 0.522403: 100%|██████████| 133/133 [00:01<00:00, 83.03it/s]\n"
     ]
    },
    {
     "name": "stdout",
     "output_type": "stream",
     "text": [
      "Epoch 88\n",
      "\n",
      "Val set: Average loss: 0.6695, Accuracy: 31967/38886 (82.207%)\n"
     ]
    },
    {
     "name": "stderr",
     "output_type": "stream",
     "text": [
      "Train Epoch: 88\tAccuracy: 84.999%\tLoss: 0.522191: 100%|██████████| 133/133 [00:01<00:00, 83.17it/s]\n"
     ]
    },
    {
     "name": "stdout",
     "output_type": "stream",
     "text": [
      "Epoch 89\n",
      "\n",
      "Val set: Average loss: 0.6692, Accuracy: 31976/38886 (82.230%)\n"
     ]
    },
    {
     "name": "stderr",
     "output_type": "stream",
     "text": [
      "Train Epoch: 89\tAccuracy: 85.014%\tLoss: 0.521724: 100%|██████████| 133/133 [00:01<00:00, 83.69it/s]\n"
     ]
    },
    {
     "name": "stdout",
     "output_type": "stream",
     "text": [
      "Epoch 90\n",
      "\n",
      "Val set: Average loss: 0.6691, Accuracy: 31964/38886 (82.199%)\n"
     ]
    },
    {
     "name": "stderr",
     "output_type": "stream",
     "text": [
      "Train Epoch: 90\tAccuracy: 85.012%\tLoss: 0.521800: 100%|██████████| 133/133 [00:01<00:00, 82.52it/s]\n"
     ]
    },
    {
     "name": "stdout",
     "output_type": "stream",
     "text": [
      "Epoch 91\n",
      "\n",
      "Val set: Average loss: 0.6689, Accuracy: 31974/38886 (82.225%)\n"
     ]
    },
    {
     "name": "stderr",
     "output_type": "stream",
     "text": [
      "Train Epoch: 91\tAccuracy: 85.022%\tLoss: 0.521540: 100%|██████████| 133/133 [00:01<00:00, 81.83it/s]\n"
     ]
    },
    {
     "name": "stdout",
     "output_type": "stream",
     "text": [
      "Epoch 92\n",
      "\n",
      "Val set: Average loss: 0.6687, Accuracy: 31962/38886 (82.194%)\n"
     ]
    },
    {
     "name": "stderr",
     "output_type": "stream",
     "text": [
      "Train Epoch: 92\tAccuracy: 85.028%\tLoss: 0.521370: 100%|██████████| 133/133 [00:01<00:00, 83.42it/s]\n"
     ]
    },
    {
     "name": "stdout",
     "output_type": "stream",
     "text": [
      "Epoch 93\n",
      "\n",
      "Val set: Average loss: 0.6685, Accuracy: 31953/38886 (82.171%)\n"
     ]
    },
    {
     "name": "stderr",
     "output_type": "stream",
     "text": [
      "Train Epoch: 93\tAccuracy: 85.030%\tLoss: 0.520795: 100%|██████████| 133/133 [00:01<00:00, 83.14it/s]\n"
     ]
    },
    {
     "name": "stdout",
     "output_type": "stream",
     "text": [
      "Epoch 94\n",
      "\n",
      "Val set: Average loss: 0.6682, Accuracy: 31969/38886 (82.212%)\n"
     ]
    },
    {
     "name": "stderr",
     "output_type": "stream",
     "text": [
      "Train Epoch: 94\tAccuracy: 85.042%\tLoss: 0.520578: 100%|██████████| 133/133 [00:01<00:00, 83.20it/s]\n"
     ]
    },
    {
     "name": "stdout",
     "output_type": "stream",
     "text": [
      "Epoch 95\n",
      "\n",
      "Val set: Average loss: 0.6680, Accuracy: 31958/38886 (82.184%)\n"
     ]
    },
    {
     "name": "stderr",
     "output_type": "stream",
     "text": [
      "Train Epoch: 95\tAccuracy: 85.045%\tLoss: 0.520435: 100%|██████████| 133/133 [00:01<00:00, 82.88it/s]\n"
     ]
    },
    {
     "name": "stdout",
     "output_type": "stream",
     "text": [
      "Epoch 96\n",
      "\n",
      "Val set: Average loss: 0.6678, Accuracy: 31961/38886 (82.192%)\n"
     ]
    },
    {
     "name": "stderr",
     "output_type": "stream",
     "text": [
      "Train Epoch: 96\tAccuracy: 85.051%\tLoss: 0.520173: 100%|██████████| 133/133 [00:01<00:00, 82.35it/s]\n"
     ]
    },
    {
     "name": "stdout",
     "output_type": "stream",
     "text": [
      "Epoch 97\n",
      "\n",
      "Val set: Average loss: 0.6676, Accuracy: 31957/38886 (82.181%)\n"
     ]
    },
    {
     "name": "stderr",
     "output_type": "stream",
     "text": [
      "Train Epoch: 97\tAccuracy: 85.057%\tLoss: 0.519892: 100%|██████████| 133/133 [00:01<00:00, 83.40it/s]\n"
     ]
    },
    {
     "name": "stdout",
     "output_type": "stream",
     "text": [
      "Epoch 98\n",
      "\n",
      "Val set: Average loss: 0.6674, Accuracy: 31957/38886 (82.181%)\n"
     ]
    },
    {
     "name": "stderr",
     "output_type": "stream",
     "text": [
      "Train Epoch: 98\tAccuracy: 85.058%\tLoss: 0.519820: 100%|██████████| 133/133 [00:01<00:00, 82.16it/s]\n"
     ]
    },
    {
     "name": "stdout",
     "output_type": "stream",
     "text": [
      "Epoch 99\n",
      "\n",
      "Val set: Average loss: 0.6672, Accuracy: 31958/38886 (82.184%)\n"
     ]
    },
    {
     "name": "stderr",
     "output_type": "stream",
     "text": [
      "Train Epoch: 99\tAccuracy: 85.070%\tLoss: 0.519465: 100%|██████████| 133/133 [00:01<00:00, 81.84it/s]\n"
     ]
    },
    {
     "name": "stdout",
     "output_type": "stream",
     "text": [
      "Epoch 100\n",
      "\n",
      "Val set: Average loss: 0.6671, Accuracy: 31965/38886 (82.202%)\n"
     ]
    },
    {
     "name": "stderr",
     "output_type": "stream",
     "text": [
      "Train Epoch: 100\tAccuracy: 85.073%\tLoss: 0.519335: 100%|██████████| 133/133 [00:01<00:00, 83.13it/s]\n"
     ]
    },
    {
     "name": "stdout",
     "output_type": "stream",
     "text": [
      "Final evaluation on test set:\n",
      "\n",
      "Val set: Average loss: 0.6763, Accuracy: 63884/77773 (82.142%)\n"
     ]
    }
   ],
   "source": [
    "from train import train_occupations\n",
    "\n",
    "retrain = True\n",
    "save_path = f'no_gender/pred_occ_{method_name}{num_components}_cr{nb_cpt_remov}_b_{baseline}.pt'\n",
    "real_dataset = train_a_no_gender, val_a_no_gender, test_a_no_gender\n",
    "occupations = train_labels, val_labels, test_labels\n",
    "if retrain:\n",
    "  pocc_no_gender_model = train_occupations(real_dataset, occupations,\n",
    "                                           batch_size=2048, val_batch_size=8192,\n",
    "                                           learning_rate=5e-4, epochs=100,\n",
    "                                           train_on_validation_set=False,\n",
    "                                           model_type='mlp',\n",
    "                                           save_path_and_name=save_path)\n",
    "                                          \n",
    "else:\n",
    "  device = torch.device('cuda' if torch.cuda.is_available() else 'cpu')\n",
    "  in_features = train_a_no_gender.shape[1]\n",
    "  state_dict = torch.load(save_path)\n",
    "  pocc_no_gender_model = train_occupations(real_dataset, occupations,\n",
    "                                           batch_size=2048, val_batch_size=8192,\n",
    "                                           learning_rate=5e-4, epochs=0,\n",
    "                                           train_on_validation_set=False,\n",
    "                                           model_type='mlp',\n",
    "                                           state_dict=state_dict,\n",
    "                                           save_path_and_name=None)\n",
    "                                           "
   ]
  },
  {
   "attachments": {},
   "cell_type": "markdown",
   "metadata": {},
   "source": [
    "# Visualisations"
   ]
  },
  {
   "cell_type": "code",
   "execution_count": 85,
   "metadata": {},
   "outputs": [],
   "source": [
    "from matplotlib import pyplot as plt\n",
    "import pandas as pd\n",
    "import seaborn as sns\n",
    "import pickle\n",
    "\n",
    "%matplotlib inline\n",
    "sns.set()\n",
    "\n",
    "#modeltype = \"RoBERTa\"\n",
    "#modeltype = \"DistilBERT\"\n",
    "modeltype = \"DeBERTa\"\n",
    "\n",
    "mlp_or_lin = \"mlp\"\n",
    "method_name = \"sSVD\"\n",
    "num_components = 18\n",
    "\n",
    "min_gender = 0.62679\n",
    "\n",
    "if modeltype == \"RoBERTa\":\n",
    "    acc_gender_baseline1 = 96.013\n",
    "    acc_occ_baseline1 = 86.39\n",
    "    acc_gender_baseline2 = 79.798\n",
    "    acc_occ_baseline2 = 86.08\n",
    "elif modeltype == \"DistilBERT\":\n",
    "    acc_gender_baseline1 = 0.98385\n",
    "    acc_occ_baseline1 = 0.8616\n",
    "    acc_gender_baseline2 = 0.84357\n",
    "    acc_occ_baseline2 = 0.8591\n",
    "elif modeltype == \"DeBERTa\":\n",
    "    acc_gender_baseline1 = 0.69671\n",
    "    acc_occ_baseline1 = 0.8591\n",
    "    acc_gender_baseline2 = 0.70569\n",
    "    acc_occ_baseline2 = 0.8584"
   ]
  },
  {
   "cell_type": "code",
   "execution_count": 86,
   "metadata": {},
   "outputs": [],
   "source": [
    "concept_removed = list(range(0,num_components))\n",
    "save = f\"plot_accuracy_{modeltype}_{method_name}{num_components}_{mlp_or_lin}\"\n",
    "\n",
    "#list created with the run_concepts_remov.py file\n",
    "acc_gender = [acc_gender_baseline1] + pickle.load(open(f'figures/list/l_gender_acc_{modeltype}_{method_name}{num_components}_{mlp_or_lin}_baseline_normal.pkl',\"rb\"))\n",
    "acc_occ = [acc_occ_baseline1] + pickle.load(open(f'figures/list/l_occupation_acc_{modeltype}_{method_name}{num_components}_{mlp_or_lin}_baseline_normal.pkl',\"rb\"))"
   ]
  },
  {
   "cell_type": "code",
   "execution_count": 87,
   "metadata": {},
   "outputs": [
    {
     "data": {
      "image/png": "[encoded data removed]",
      "text/plain": [
       "<Figure size 3600x2400 with 2 Axes>"
      ]
     },
     "metadata": {},
     "output_type": "display_data"
    }
   ],
   "source": [
    "sns.set(font_scale=1.3)\n",
    "nolegend = True\n",
    "\n",
    "if nolegend:\n",
    "  sns.set_style(\"whitegrid\")\n",
    "else:\n",
    "  sns.set_style(\"white\")\n",
    "\n",
    "assert len(acc_gender) == len(concept_removed)\n",
    "assert len(acc_occ) == len(concept_removed)\n",
    "\n",
    "acc_gender_baseline2_line = [acc_gender_baseline2] * len(concept_removed)\n",
    "acc_occ_baseline2_line = [acc_occ_baseline2] * len(concept_removed)\n",
    "min_gender_line = [min_gender] * len(concept_removed)\n",
    "\n",
    "c_removed = \"Number of concepts removed\"\n",
    "val_acc = \"Test Accuracy\"\n",
    "label = \"Method\"\n",
    "metric = \"Metric\"\n",
    "df = {\n",
    "    c_removed: [],\n",
    "    val_acc: [],\n",
    "    label: [],\n",
    "    metric: []\n",
    "}\n",
    "\n",
    "df[c_removed] += concept_removed\n",
    "df[val_acc] += acc_gender\n",
    "df[label] += ['Our method (Bios)'] * len(acc_gender)\n",
    "df[metric] += ['Gender prediction'] * len(acc_gender)\n",
    "\n",
    "df[c_removed] += concept_removed\n",
    "df[val_acc] += acc_occ\n",
    "df[label] += ['Our method (Bios)'] * len(acc_occ)\n",
    "df[metric] += ['Occupation prediction'] * len(acc_occ)\n",
    "\n",
    "df[c_removed] += concept_removed\n",
    "df[val_acc] += acc_gender_baseline2_line\n",
    "df[label] += ['Baseline 2 (Bios-Neutral)'] * len(acc_gender_baseline2_line)\n",
    "df[metric] += ['Gender prediction'] * len(acc_gender_baseline2_line)\n",
    "\n",
    "df[c_removed] += concept_removed\n",
    "df[val_acc] += acc_occ_baseline2_line\n",
    "df[label] += ['Baseline 2 (Bios-Neutral)'] * len(acc_occ_baseline2_line)\n",
    "df[metric] += ['Occupation prediction'] * len(acc_occ_baseline2_line)\n",
    "\n",
    "df[c_removed] += concept_removed\n",
    "df[val_acc] += min_gender_line\n",
    "df[label] += ['Gender prediction from occupation'] * len(min_gender_line)\n",
    "df[metric] += ['Gender prediction'] * len(min_gender_line)\n",
    "\n",
    "df = pd.DataFrame.from_dict(df)\n",
    "isgenderocc = 'isgenderocc'\n",
    "df[isgenderocc] = (df[label] == 'Gender prediction from occupation')\n",
    "\n",
    "fig, axes = plt.subplots(2, 1, figsize=(12, 8), dpi=300, sharex=True)\n",
    "ax1, ax2 = axes.flatten()\n",
    "\n",
    "ylb_num = [40, 50, 60, 70, 80, 90, 100]\n",
    "ylb_num_st = [str(x) for x in ylb_num]\n",
    "\n",
    "df_top = df[df[metric] == 'Gender prediction']\n",
    "df_top_name = \"Gender Accuracy\"\n",
    "df_top = df_top.rename({val_acc: df_top_name}, axis=1)\n",
    "df_bottom = df[df[metric] == 'Occupation prediction']\n",
    "df_bottom_name = \"Occupation Accuracy\"\n",
    "df_bottom = df_bottom.rename({val_acc: df_bottom_name}, axis=1)\n",
    "\n",
    "swap_top_bottom = True\n",
    "if swap_top_bottom:\n",
    "  df_top, df_bottom = df_bottom, df_top\n",
    "  df_top_name, df_bottom_name = df_bottom_name, df_top_name\n",
    "\n",
    "linewidth = 4.0\n",
    "\n",
    "sns.lineplot(df_top,\n",
    "             x=c_removed,\n",
    "             y=df_top_name,\n",
    "             hue=label,\n",
    "             ax=ax1, linewidth=linewidth)\n",
    "# ax1.set_yticks(ylb_num, ylb_num_st)\n",
    "\n",
    "sns.lineplot(df_bottom,\n",
    "             x=c_removed,\n",
    "             y=df_bottom_name,\n",
    "             hue=label,\n",
    "             style=isgenderocc,\n",
    "             ax=ax2, linewidth=linewidth)\n",
    "# ax2.set_yticks(ylb_num, ylb_num_st)\n",
    "\n",
    "handles, labels = ax2.get_legend_handles_labels()\n",
    "ax2.get_legend().remove()\n",
    "if not nolegend:\n",
    "  handles = handles[:-3]\n",
    "  labels = labels[:-3]\n",
    "  color = sns.color_palette(\"deep\")[2]\n",
    "  handles[-1] = plt.Line2D([], [], color=color, linestyle='--', label='Green Line')\n",
    "  ax1.legend(handles, labels, loc='best')\n",
    "else:\n",
    "  ax1.get_legend().remove()\n",
    "\n",
    "\n",
    "plt.xlim(0, concept_removed[-1])\n",
    "xlb_num = [i for i in range(num_components)]\n",
    "xlb_num_st = [str(x) for x in xlb_num]\n",
    "plt.xticks(xlb_num, xlb_num_st)\n",
    "\n",
    "fig.tight_layout()\n",
    "if nolegend:\n",
    "  plt.savefig(\"figures/\"+save+'_nolegend.png')\n",
    "else:\n",
    "  plt.savefig(\"figures/\"+save+'.png')"
   ]
  },
  {
   "cell_type": "code",
   "execution_count": 88,
   "metadata": {},
   "outputs": [
    {
     "data": {
      "image/png": "[encoded data removed]",
      "text/plain": [
       "<Figure size 3600x2400 with 1 Axes>"
      ]
     },
     "metadata": {},
     "output_type": "display_data"
    }
   ],
   "source": [
    "from matplotlib.legend_handler import HandlerBase\n",
    "\n",
    "sns.set_palette(\"dark\")\n",
    "sns.set(font_scale=1.3)\n",
    "\n",
    "\n",
    "nolegend = True\n",
    "if nolegend:\n",
    "  sns.set_style(\"whitegrid\")\n",
    "else:\n",
    "  sns.set_style(\"white\")\n",
    "\n",
    "\n",
    "assert len(acc_gender) == len(concept_removed)\n",
    "assert len(acc_occ) == len(concept_removed)\n",
    "\n",
    "occ_of_min_gender = acc_occ[0]  # arbitrary, kind-of\n",
    "\n",
    "drop_occ = False\n",
    "drop_gender = True\n",
    "green_line = True\n",
    "baseline2_star = True\n",
    "\n",
    "if drop_occ:\n",
    "  max_occ = acc_occ[0]\n",
    "  acc_occ = [max_occ - ao for ao in acc_occ]\n",
    "  occ_of_min_gender = max_occ - occ_of_min_gender\n",
    "  acc_occ_baseline2 = max_occ - acc_occ_baseline2\n",
    "\n",
    "if drop_gender:\n",
    "  max_gender = acc_gender[0]\n",
    "  acc_gender = [max_gender - ag for ag in acc_gender]\n",
    "  min_gender = max_gender - min_gender\n",
    "  acc_gender_baseline2 = max_gender - acc_gender_baseline2\n",
    "\n",
    "c_removed = \"Number of concepts removed\"\n",
    "gen_acc_name = \"Gender Accuracy Drop\" if drop_gender else \"Gender Test Accuracy\"\n",
    "occ_acc_name = \"Occupation Accuracy Drop\" if drop_occ else \"Occupation Test Accuracy\"\n",
    "label = \"Model\"\n",
    "df = {\n",
    "    gen_acc_name: [],\n",
    "    occ_acc_name: [],\n",
    "    label: [],\n",
    "    c_removed: []\n",
    "}\n",
    "\n",
    "df[gen_acc_name] += acc_gender\n",
    "df[occ_acc_name] += acc_occ\n",
    "df[label] += ['Our method (Bios)'] * len(acc_gender)\n",
    "df[c_removed] += concept_removed\n",
    "\n",
    "if not baseline2_star:\n",
    "  df[gen_acc_name] += [acc_gender_baseline2]\n",
    "  df[occ_acc_name] += [acc_occ_baseline2]\n",
    "  df[label] += ['Baseline 2 (Bios-Neutral)']\n",
    "  df[c_removed] += [0]\n",
    "\n",
    "if not green_line:\n",
    "  df[gen_acc_name] += [min_gender]\n",
    "  df[occ_acc_name] += [occ_of_min_gender]\n",
    "  df[label] +=['Gender prediction from occupation']\n",
    "  df[c_removed] += [0]\n",
    "\n",
    "df = pd.DataFrame.from_dict(df)\n",
    "\n",
    "\n",
    "plt.figure(figsize=(12, 8), dpi=300)\n",
    "\n",
    "ax = sns.lineplot(df,\n",
    "             x=gen_acc_name,\n",
    "             y=occ_acc_name,\n",
    "             hue=label,\n",
    "             markersize=10,\n",
    "            legend=None)\n",
    "sns.scatterplot(df,\n",
    "             x=gen_acc_name,\n",
    "             y=occ_acc_name,\n",
    "             hue=label,\n",
    "             s=100,\n",
    "             ax=ax)\n",
    "\n",
    "existing_handles, existing_labels = ax.get_legend_handles_labels()\n",
    "\n",
    "if baseline2_star:\n",
    "  color = sns.color_palette(\"deep\")[1]\n",
    "  sns.scatterplot(x=[acc_gender_baseline2], y=[acc_occ_baseline2], s=220, marker='X', c=[color])\n",
    "  existing_handles.append(plt.Line2D([0], [0], marker='X', markersize=10, color=color, linestyle='None'))\n",
    "  existing_labels.append('Baseline 2 (Bios-Neutral)')\n",
    "\n",
    "if green_line:\n",
    "  color = sns.color_palette(\"deep\")[2]\n",
    "  plt.axvline(x=min_gender, ymin=0, ymax=1, color=color, linestyle='--', linewidth=4.0)\n",
    "  existing_handles.append(plt.Line2D([], [], color=color, linestyle='--', label='Green Line'))\n",
    "  existing_labels.append('Gender prediction from occupation')\n",
    "\n",
    "\n",
    "\n",
    "x_offset = 1 if not drop_gender else -1\n",
    "pos_ha = 'left' if not drop_gender else 'right'\n",
    "pos_va = 'top' if not drop_occ else 'bottom'\n",
    "#keep = [0, 1, 12, 15, 18]\n",
    "keep = [0, 12, 15, 17]\n",
    "for i in range(len(concept_removed)):\n",
    "  if i not in keep:\n",
    "    continue\n",
    "  row = df.iloc[i]\n",
    "  if i == 0:\n",
    "    text = 'k=0 (baseline 1)'\n",
    "    x = row[gen_acc_name]\n",
    "    y = row[occ_acc_name] #- 0.75\n",
    "    ax.text(x, y, text, ha='left', va=pos_va)\n",
    "  else:\n",
    "    text = 'k=' + str(row[c_removed])\n",
    "    x = row[gen_acc_name]\n",
    "    y = row[occ_acc_name] #+ x_offset\n",
    "    ax.text(x, y, text, ha=pos_ha, va=pos_va)\n",
    "\n",
    "\n",
    "ax.legend(existing_handles, existing_labels, title='Method', loc='best')\n",
    "if nolegend:\n",
    "  ax.get_legend().remove()\n",
    "\n",
    "plt.savefig(\"figures/\"+save+f\"{drop_gender}_{drop_occ}_legend{nolegend}\"+'.png')"
   ]
  },
  {
   "attachments": {},
   "cell_type": "markdown",
   "metadata": {},
   "source": [
    "# Explanations"
   ]
  },
  {
   "cell_type": "code",
   "execution_count": 30,
   "metadata": {},
   "outputs": [],
   "source": [
    "import pickle\n",
    "import numpy as np\n",
    "\n",
    "global_importance_gender = pickle.load(open(f'global_importance/gi_gender_{method_name}{num_components}_{mlp_or_lin}_baseline_{baseline}.pkl',\"rb\"))\n",
    "global_importance_occ = pickle.load(open(f'global_importance/gi_occupation_{method_name}{num_components}_{mlp_or_lin}_baseline_{baseline}.pkl',\"rb\"))\n"
   ]
  },
  {
   "cell_type": "code",
   "execution_count": 31,
   "metadata": {},
   "outputs": [],
   "source": [
    "angle = np.arctan(global_importance_occ / global_importance_gender) * 180 / np.pi\n",
    "\n",
    "sentences_train = []\n",
    "\n",
    "for k in range(len(dt_X_train)):\n",
    "    sentences_train.append(dt_X_train[k][0])\n",
    "\n",
    "gender_pred_train = torch.argmax(pg_model(train_features), -1)\n",
    "label_pred_train = torch.argmax(model.end_model(train_features), -1)\n",
    "\n",
    "sentences_train = np.array(sentences_train)\n",
    "train_labels = np.array(train_labels)\n",
    "label_pred_train = np.array(label_pred_train)\n",
    "gender_train = np.array(gender_train)\n",
    "gender_pred_train = np.array(gender_pred_train)\n",
    "\n",
    "\n",
    "names_g = ['F', 'M']\n",
    "names_occ = ['surgeon', 'pastor', 'photographer', 'professor', 'chiropractor', 'software_engineer', 'teacher', 'poet', 'dj', 'rapper', 'paralegal', 'physician', \n",
    "              'journalist', 'architect', 'attorney', 'yoga_teacher', 'nurse', 'painter', 'model', 'composer', 'personal_trainer','filmmaker', 'comedian', 'accountant', \n",
    "              'interior_designer', 'dentist', 'psychologist', 'dietitian']\n"
   ]
  },
  {
   "cell_type": "code",
   "execution_count": 32,
   "metadata": {},
   "outputs": [],
   "source": [
    "n = 5 #number of bios for each concepts\n",
    "\n",
    "l_concept_id = [15, 18, 19]\n",
    "#nb_con = 20 #number of concepts\n",
    "# lookat = \"angle\"  #\"gender\" or \"occupation\" or \"angle\"\n",
    "\n",
    "# if lookat == \"gender\":\n",
    "#   l_concept_id = np.argsort(global_importance_gender)[::-1][:nb_con]\n",
    "# elif lookat == \"occupation\":\n",
    "#   l_concept_id = np.argsort(global_importance_occ)[::-1][:nb_con]\n",
    "# else:\n",
    "#    l_concept_id = np.argsort(angle)[:nb_con]\n",
    "  \n",
    "\n",
    "l_mip_ids, l_mip_sentences, l_mip_label, l_mip_predict_label, l_mip_gender, l_mip_predict_gender = [], [], [], [], [], []\n",
    "\n",
    "for concept_id in l_concept_id:\n",
    "    mip_ids = np.argsort(U_train[:, concept_id].numpy())[::-1][:n]\n",
    "    l_mip_ids.extend(mip_ids)\n",
    "    l_mip_sentences.extend(sentences_train[mip_ids])\n",
    "    l_mip_label.extend(train_labels[mip_ids])\n",
    "    l_mip_predict_label.extend(label_pred_train[mip_ids])\n",
    "    l_mip_gender.extend(gender_train[mip_ids])\n",
    "    l_mip_predict_gender.extend(gender_pred_train[mip_ids])"
   ]
  },
  {
   "cell_type": "code",
   "execution_count": 33,
   "metadata": {},
   "outputs": [],
   "source": [
    "# from explaination import occlusion_concepts, viz_concepts, print_legend\n",
    "\n",
    "# l_ignore_words = [\"’\", \"'\", \",\", \".\", \"...\", \"..\", \"....\", \":\", \"!\", \"?\", \"\", \" \", \"(\", \")\"]\n",
    "\n",
    "# l_concept_id = [15, 18, 19]\n",
    "\n",
    "# print(\"importance gender / importance occupation\")\n",
    "# colors = print_legend(l_concept_id, global_importance_gender, global_importance_occ)\n",
    "\n",
    "# i = 0\n",
    "# for sentence in l_mip_sentences:\n",
    "#   if i%n == 0:\n",
    "#     print(\"\\n\")\n",
    "#     print(str(n) + \" most important bios - concept\" + str(i//n + 1) +\":\")\n",
    "#     print(\"\\n\")\n",
    "#   print('sentence:', l_mip_ids[i])\n",
    "#   print('occupation: true label:', names_occ[int(l_mip_label[i])], '; predicted label:', names_occ[int(l_mip_predict_label[i])])\n",
    "#   print('gender: true label:', names_g[l_mip_gender[i]], '; predicted label:', names_g[l_mip_predict_gender[i]])\n",
    "\n",
    "#   phi = occlusion_concepts(sentence, model, tokenizer, W, l_concept_id, ignore_words = [], device = device)\n",
    "  \n",
    "#   phi /= np.max(np.abs(phi)) + 1e-5\n",
    "#   viz_concepts(sentence, phi, colors, ignore_words = [])\n",
    "#   i += 1"
   ]
  },
  {
   "cell_type": "code",
   "execution_count": 37,
   "metadata": {},
   "outputs": [
    {
     "name": "stdout",
     "output_type": "stream",
     "text": [
      "gender importance / occupation importance\n"
     ]
    },
    {
     "data": {
      "text/html": [
       "<div style='display: flex; width: 400px; flex-wrap: wrap'><span style=\"background-color: rgba(255, 102, 122,  0.5); padding: 1px 5px; border: solid 3px ; border-color: rgba(255, 102, 122,  1); #EFEFEF\">Concept1 </span> <span style=\"background-color: rgba(233,30,99,0);  padding: 1px 5px; border: solid 3px ; border-color:  rgba(233,30,99,0); #EFEFEF\"> <I> 32.17% / 5.11% </I> </span> </div>"
      ],
      "text/plain": [
       "<IPython.core.display.HTML object>"
      ]
     },
     "metadata": {},
     "output_type": "display_data"
    },
    {
     "data": {
      "text/html": [
       "<br><br>"
      ],
      "text/plain": [
       "<IPython.core.display.HTML object>"
      ]
     },
     "metadata": {},
     "output_type": "display_data"
    },
    {
     "data": {
      "text/html": [
       "<div style='display: flex; width: 400px; flex-wrap: wrap'><span style=\"background-color: rgba(179, 174, 54,  0.5); padding: 1px 5px; border: solid 3px ; border-color: rgba(179, 174, 54,  1); #EFEFEF\">Concept8 </span> <span style=\"background-color: rgba(233,30,99,0);  padding: 1px 5px; border: solid 3px ; border-color:  rgba(233,30,99,0); #EFEFEF\"> <I> 15.95% / 12.31% </I> </span> </div>"
      ],
      "text/plain": [
       "<IPython.core.display.HTML object>"
      ]
     },
     "metadata": {},
     "output_type": "display_data"
    },
    {
     "data": {
      "text/html": [
       "<br><br>"
      ],
      "text/plain": [
       "<IPython.core.display.HTML object>"
      ]
     },
     "metadata": {},
     "output_type": "display_data"
    },
    {
     "data": {
      "text/html": [
       "<div style='display: flex; width: 400px; flex-wrap: wrap'><span style=\"background-color: rgba(45, 136, 179,  0.5); padding: 1px 5px; border: solid 3px ; border-color: rgba(45, 136, 179,  1); #EFEFEF\">Concept19 </span> <span style=\"background-color: rgba(233,30,99,0);  padding: 1px 5px; border: solid 3px ; border-color:  rgba(233,30,99,0); #EFEFEF\"> <I> 11.8% / 33.26% </I> </span> </div>"
      ],
      "text/plain": [
       "<IPython.core.display.HTML object>"
      ]
     },
     "metadata": {},
     "output_type": "display_data"
    },
    {
     "data": {
      "text/html": [
       "<br><br>"
      ],
      "text/plain": [
       "<IPython.core.display.HTML object>"
      ]
     },
     "metadata": {},
     "output_type": "display_data"
    },
    {
     "name": "stdout",
     "output_type": "stream",
     "text": [
      "sentence: 230484\n",
      "occupation: true label: professor ; predicted label: dietitian\n",
      "gender: true label: F ; predicted label: F\n"
     ]
    },
    {
     "data": {
      "text/html": [
       "<div style='display: flex; width: 400px; flex-wrap: wrap'><span style=\"background-color: rgba(255, 102, 122,  0.3457582975916726); padding: 1px 5px; border: solid 3px ; border-color: rgba(255, 102, 122,  1); #EFEFEF\">She</span> <span style=\"background-color: rgba(233,30,99,0);  padding: 1px 5px; border: solid 3px ; border-color:  rgba(233,30,99,0); #EFEFEF\">has received</span> <span style=\"background-color: rgba(233,30,99,0);  padding: 1px 5px; border: solid 3px ; border-color:  rgba(233,30,99,0); #EFEFEF\">funds</span> <span style=\"background-color: rgba(233,30,99,0);  padding: 1px 5px; border: solid 3px ; border-color:  rgba(233,30,99,0); #EFEFEF\">from</span> <span style=\"background-color: rgba(233,30,99,0);  padding: 1px 5px; border: solid 3px ; border-color:  rgba(233,30,99,0); #EFEFEF\">General Mills</span> <span style=\"background-color: rgba(233,30,99,0);  padding: 1px 5px; border: solid 3px ; border-color:  rgba(233,30,99,0); #EFEFEF\">Mars</span> <span style=\"background-color: rgba(233,30,99,0);  padding: 1px 5px; border: solid 3px ; border-color:  rgba(233,30,99,0); #EFEFEF\">for</span> <span style=\"background-color: rgba(233,30,99,0);  padding: 1px 5px; border: solid 3px ; border-color:  rgba(233,30,99,0); #EFEFEF\">conference travel</span> <span style=\"background-color: rgba(233,30,99,0);  padding: 1px 5px; border: solid 3px ; border-color:  rgba(233,30,99,0); #EFEFEF\">and</span> <span style=\"background-color: rgba(233,30,99,0);  padding: 1px 5px; border: solid 3px ; border-color:  rgba(233,30,99,0); #EFEFEF\">for</span> <span style=\"background-color: rgba(233,30,99,0);  padding: 1px 5px; border: solid 3px ; border-color:  rgba(233,30,99,0); #EFEFEF\">providing</span> <span style=\"background-color: rgba(233,30,99,0);  padding: 1px 5px; border: solid 3px ; border-color:  rgba(233,30,99,0); #EFEFEF\">an educational webinar</span> <span style=\"background-color: rgba(233,30,99,0);  padding: 1px 5px; border: solid 3px ; border-color:  rgba(233,30,99,0); #EFEFEF\">for</span> <span style=\"background-color: rgba(233,30,99,0);  padding: 1px 5px; border: solid 3px ; border-color:  rgba(233,30,99,0); #EFEFEF\">nutrition and fitness professionals</span> </div>"
      ],
      "text/plain": [
       "<IPython.core.display.HTML object>"
      ]
     },
     "metadata": {},
     "output_type": "display_data"
    },
    {
     "data": {
      "text/html": [
       "<br><br>"
      ],
      "text/plain": [
       "<IPython.core.display.HTML object>"
      ]
     },
     "metadata": {},
     "output_type": "display_data"
    },
    {
     "name": "stdout",
     "output_type": "stream",
     "text": [
      "sentence: 7029\n",
      "occupation: true label: dietitian ; predicted label: dietitian\n",
      "gender: true label: F ; predicted label: F\n"
     ]
    },
    {
     "data": {
      "text/html": [
       "<div style='display: flex; width: 400px; flex-wrap: wrap'><span style=\"background-color: rgba(255, 102, 122,  0.958721003308568); padding: 1px 5px; border: solid 3px ; border-color: rgba(255, 102, 122,  1); #EFEFEF\">She</span> <span style=\"background-color: rgba(233,30,99,0);  padding: 1px 5px; border: solid 3px ; border-color:  rgba(233,30,99,0); #EFEFEF\">has</span> <span style=\"background-color: rgba(179, 174, 54,  0.26599621321572886); padding: 1px 5px; border: solid 3px ; border-color: rgba(179, 174, 54,  1); #EFEFEF\">a dual Bachelor’s degree</span> <span style=\"background-color: rgba(233,30,99,0);  padding: 1px 5px; border: solid 3px ; border-color:  rgba(233,30,99,0); #EFEFEF\">in</span> <span style=\"background-color: rgba(233,30,99,0);  padding: 1px 5px; border: solid 3px ; border-color:  rgba(233,30,99,0); #EFEFEF\">Exercise Science and Dietetics</span> <span style=\"background-color: rgba(233,30,99,0);  padding: 1px 5px; border: solid 3px ; border-color:  rgba(233,30,99,0); #EFEFEF\">from</span> <span style=\"background-color: rgba(233,30,99,0);  padding: 1px 5px; border: solid 3px ; border-color:  rgba(233,30,99,0); #EFEFEF\">the University</span> <span style=\"background-color: rgba(233,30,99,0);  padding: 1px 5px; border: solid 3px ; border-color:  rgba(233,30,99,0); #EFEFEF\">of</span> <span style=\"background-color: rgba(233,30,99,0);  padding: 1px 5px; border: solid 3px ; border-color:  rgba(233,30,99,0); #EFEFEF\">Nebraska-Lincoln</span> <span style=\"background-color: rgba(233,30,99,0);  padding: 1px 5px; border: solid 3px ; border-color:  rgba(233,30,99,0); #EFEFEF\">is</span> <span style=\"background-color: rgba(179, 174, 54,  0.36094773241380584); padding: 1px 5px; border: solid 3px ; border-color: rgba(179, 174, 54,  1); #EFEFEF\">an ACSM Certified Exercise Specialist</span> <span style=\"background-color: rgba(233,30,99,0);  padding: 1px 5px; border: solid 3px ; border-color:  rgba(233,30,99,0); #EFEFEF\">CEP</span> </div>"
      ],
      "text/plain": [
       "<IPython.core.display.HTML object>"
      ]
     },
     "metadata": {},
     "output_type": "display_data"
    },
    {
     "data": {
      "text/html": [
       "<br><br>"
      ],
      "text/plain": [
       "<IPython.core.display.HTML object>"
      ]
     },
     "metadata": {},
     "output_type": "display_data"
    },
    {
     "name": "stdout",
     "output_type": "stream",
     "text": [
      "sentence: 155554\n",
      "occupation: true label: personal_trainer ; predicted label: dietitian\n",
      "gender: true label: F ; predicted label: F\n"
     ]
    },
    {
     "data": {
      "text/html": [
       "<div style='display: flex; width: 400px; flex-wrap: wrap'><span style=\"background-color: rgba(255, 102, 122,  0.3356175727417906); padding: 1px 5px; border: solid 3px ; border-color: rgba(255, 102, 122,  1); #EFEFEF\">She</span> <span style=\"background-color: rgba(233,30,99,0);  padding: 1px 5px; border: solid 3px ; border-color:  rgba(233,30,99,0); #EFEFEF\">has received</span> <span style=\"background-color: rgba(255, 102, 122,  0.987199526598831); padding: 1px 5px; border: solid 3px ; border-color: rgba(255, 102, 122,  1); #EFEFEF\">her Holistic Health Coach Certificate</span> <span style=\"background-color: rgba(233,30,99,0);  padding: 1px 5px; border: solid 3px ; border-color:  rgba(233,30,99,0); #EFEFEF\">through</span> <span style=\"background-color: rgba(233,30,99,0);  padding: 1px 5px; border: solid 3px ; border-color:  rgba(233,30,99,0); #EFEFEF\">Beyond Organic University</span> <span style=\"background-color: rgba(233,30,99,0);  padding: 1px 5px; border: solid 3px ; border-color:  rgba(233,30,99,0); #EFEFEF\">is currently studying</span> <span style=\"background-color: rgba(233,30,99,0);  padding: 1px 5px; border: solid 3px ; border-color:  rgba(233,30,99,0); #EFEFEF\">to obtain</span> <span style=\"background-color: rgba(233,30,99,0);  padding: 1px 5px; border: solid 3px ; border-color:  rgba(233,30,99,0); #EFEFEF\">her degree</span> <span style=\"background-color: rgba(233,30,99,0);  padding: 1px 5px; border: solid 3px ; border-color:  rgba(233,30,99,0); #EFEFEF\">as</span> <span style=\"background-color: rgba(255, 102, 122,  0.3425875989530776); padding: 1px 5px; border: solid 3px ; border-color: rgba(255, 102, 122,  1); #EFEFEF\">a Clinical Licensed Holistic Nutritionist</span> </div>"
      ],
      "text/plain": [
       "<IPython.core.display.HTML object>"
      ]
     },
     "metadata": {},
     "output_type": "display_data"
    },
    {
     "data": {
      "text/html": [
       "<br><br>"
      ],
      "text/plain": [
       "<IPython.core.display.HTML object>"
      ]
     },
     "metadata": {},
     "output_type": "display_data"
    },
    {
     "name": "stdout",
     "output_type": "stream",
     "text": [
      "sentence: 94984\n",
      "occupation: true label: personal_trainer ; predicted label: model\n",
      "gender: true label: F ; predicted label: F\n"
     ]
    },
    {
     "data": {
      "text/html": [
       "<div style='display: flex; width: 400px; flex-wrap: wrap'><span style=\"background-color: rgba(233,30,99,0);  padding: 1px 5px; border: solid 3px ; border-color:  rgba(233,30,99,0); #EFEFEF\">Being</span> <span style=\"background-color: rgba(233,30,99,0);  padding: 1px 5px; border: solid 3px ; border-color:  rgba(233,30,99,0); #EFEFEF\">gorgeous</span> <span style=\"background-color: rgba(233,30,99,0);  padding: 1px 5px; border: solid 3px ; border-color:  rgba(233,30,99,0); #EFEFEF\">in</span> <span style=\"background-color: rgba(233,30,99,0);  padding: 1px 5px; border: solid 3px ; border-color:  rgba(233,30,99,0); #EFEFEF\">great shape</span> <span style=\"background-color: rgba(233,30,99,0);  padding: 1px 5px; border: solid 3px ; border-color:  rgba(233,30,99,0); #EFEFEF\">no wonder</span> <span style=\"background-color: rgba(233,30,99,0);  padding: 1px 5px; border: solid 3px ; border-color:  rgba(233,30,99,0); #EFEFEF\">she</span> <span style=\"background-color: rgba(233,30,99,0);  padding: 1px 5px; border: solid 3px ; border-color:  rgba(233,30,99,0); #EFEFEF\">became</span> <span style=\"background-color: rgba(233,30,99,0);  padding: 1px 5px; border: solid 3px ; border-color:  rgba(233,30,99,0); #EFEFEF\">an overnight household name</span> <span style=\"background-color: rgba(233,30,99,0);  padding: 1px 5px; border: solid 3px ; border-color:  rgba(233,30,99,0); #EFEFEF\">She</span> <span style=\"background-color: rgba(233,30,99,0);  padding: 1px 5px; border: solid 3px ; border-color:  rgba(233,30,99,0); #EFEFEF\">helped</span> <span style=\"background-color: rgba(233,30,99,0);  padding: 1px 5px; border: solid 3px ; border-color:  rgba(233,30,99,0); #EFEFEF\">many</span> <span style=\"background-color: rgba(233,30,99,0);  padding: 1px 5px; border: solid 3px ; border-color:  rgba(233,30,99,0); #EFEFEF\">of</span> <span style=\"background-color: rgba(233,30,99,0);  padding: 1px 5px; border: solid 3px ; border-color:  rgba(233,30,99,0); #EFEFEF\">the contestants</span> <span style=\"background-color: rgba(233,30,99,0);  padding: 1px 5px; border: solid 3px ; border-color:  rgba(233,30,99,0); #EFEFEF\">on</span> <span style=\"background-color: rgba(233,30,99,0);  padding: 1px 5px; border: solid 3px ; border-color:  rgba(233,30,99,0); #EFEFEF\">the show</span> <span style=\"background-color: rgba(233,30,99,0);  padding: 1px 5px; border: solid 3px ; border-color:  rgba(233,30,99,0); #EFEFEF\">with</span> <span style=\"background-color: rgba(233,30,99,0);  padding: 1px 5px; border: solid 3px ; border-color:  rgba(233,30,99,0); #EFEFEF\">their weight loss battles</span> <span style=\"background-color: rgba(233,30,99,0);  padding: 1px 5px; border: solid 3px ; border-color:  rgba(233,30,99,0); #EFEFEF\">however now</span> <span style=\"background-color: rgba(233,30,99,0);  padding: 1px 5px; border: solid 3px ; border-color:  rgba(233,30,99,0); #EFEFEF\">she</span> <span style=\"background-color: rgba(233,30,99,0);  padding: 1px 5px; border: solid 3px ; border-color:  rgba(233,30,99,0); #EFEFEF\">is overcoming</span> <span style=\"background-color: rgba(233,30,99,0);  padding: 1px 5px; border: solid 3px ; border-color:  rgba(233,30,99,0); #EFEFEF\">her own body challenge</span> <span style=\"background-color: rgba(255, 102, 122,  0.34469314653385186); padding: 1px 5px; border: solid 3px ; border-color: rgba(255, 102, 122,  1); #EFEFEF\">Tiffiny</span> <span style=\"background-color: rgba(233,30,99,0);  padding: 1px 5px; border: solid 3px ; border-color:  rgba(233,30,99,0); #EFEFEF\">recently</span> <span style=\"background-color: rgba(233,30,99,0);  padding: 1px 5px; border: solid 3px ; border-color:  rgba(233,30,99,0); #EFEFEF\">gave</span> </div>"
      ],
      "text/plain": [
       "<IPython.core.display.HTML object>"
      ]
     },
     "metadata": {},
     "output_type": "display_data"
    },
    {
     "data": {
      "text/html": [
       "<br><br>"
      ],
      "text/plain": [
       "<IPython.core.display.HTML object>"
      ]
     },
     "metadata": {},
     "output_type": "display_data"
    },
    {
     "name": "stdout",
     "output_type": "stream",
     "text": [
      "sentence: 82706\n",
      "occupation: true label: chiropractor ; predicted label: chiropractor\n",
      "gender: true label: M ; predicted label: M\n"
     ]
    },
    {
     "data": {
      "text/html": [
       "<div style='display: flex; width: 400px; flex-wrap: wrap'><span style=\"background-color: rgba(233,30,99,0);  padding: 1px 5px; border: solid 3px ; border-color:  rgba(233,30,99,0); #EFEFEF\">Practicing</span> <span style=\"background-color: rgba(179, 174, 54,  0.9956941535585149); padding: 1px 5px; border: solid 3px ; border-color: rgba(179, 174, 54,  1); #EFEFEF\">chiropractic</span> <span style=\"background-color: rgba(233,30,99,0);  padding: 1px 5px; border: solid 3px ; border-color:  rgba(233,30,99,0); #EFEFEF\">since</span> <span style=\"background-color: rgba(233,30,99,0);  padding: 1px 5px; border: solid 3px ; border-color:  rgba(233,30,99,0); #EFEFEF\">1990</span> <span style=\"background-color: rgba(233,30,99,0);  padding: 1px 5px; border: solid 3px ; border-color:  rgba(233,30,99,0); #EFEFEF\">Philip A. Facquet</span> <span style=\"background-color: rgba(233,30,99,0);  padding: 1px 5px; border: solid 3px ; border-color:  rgba(233,30,99,0); #EFEFEF\">served</span> <span style=\"background-color: rgba(233,30,99,0);  padding: 1px 5px; border: solid 3px ; border-color:  rgba(233,30,99,0); #EFEFEF\">as</span> <span style=\"background-color: rgba(233,30,99,0);  padding: 1px 5px; border: solid 3px ; border-color:  rgba(233,30,99,0); #EFEFEF\">a Medical Review Officer Advisor</span> <span style=\"background-color: rgba(233,30,99,0);  padding: 1px 5px; border: solid 3px ; border-color:  rgba(233,30,99,0); #EFEFEF\">for</span> <span style=\"background-color: rgba(233,30,99,0);  padding: 1px 5px; border: solid 3px ; border-color:  rgba(233,30,99,0); #EFEFEF\">Powers Medical Review</span> <span style=\"background-color: rgba(233,30,99,0);  padding: 1px 5px; border: solid 3px ; border-color:  rgba(233,30,99,0); #EFEFEF\">from</span> <span style=\"background-color: rgba(233,30,99,0);  padding: 1px 5px; border: solid 3px ; border-color:  rgba(233,30,99,0); #EFEFEF\">1992</span> <span style=\"background-color: rgba(233,30,99,0);  padding: 1px 5px; border: solid 3px ; border-color:  rgba(233,30,99,0); #EFEFEF\">to</span> <span style=\"background-color: rgba(233,30,99,0);  padding: 1px 5px; border: solid 3px ; border-color:  rgba(233,30,99,0); #EFEFEF\">1996</span> <span style=\"background-color: rgba(233,30,99,0);  padding: 1px 5px; border: solid 3px ; border-color:  rgba(233,30,99,0); #EFEFEF\">He</span> <span style=\"background-color: rgba(233,30,99,0);  padding: 1px 5px; border: solid 3px ; border-color:  rgba(233,30,99,0); #EFEFEF\">also</span> <span style=\"background-color: rgba(233,30,99,0);  padding: 1px 5px; border: solid 3px ; border-color:  rgba(233,30,99,0); #EFEFEF\">oversaw</span> <span style=\"background-color: rgba(233,30,99,0);  padding: 1px 5px; border: solid 3px ; border-color:  rgba(233,30,99,0); #EFEFEF\">DOT, FAA and NRC drug screenings</span> </div>"
      ],
      "text/plain": [
       "<IPython.core.display.HTML object>"
      ]
     },
     "metadata": {},
     "output_type": "display_data"
    },
    {
     "data": {
      "text/html": [
       "<br><br>"
      ],
      "text/plain": [
       "<IPython.core.display.HTML object>"
      ]
     },
     "metadata": {},
     "output_type": "display_data"
    },
    {
     "name": "stdout",
     "output_type": "stream",
     "text": [
      "sentence: 254362\n",
      "occupation: true label: chiropractor ; predicted label: chiropractor\n",
      "gender: true label: F ; predicted label: F\n"
     ]
    },
    {
     "data": {
      "text/html": [
       "<div style='display: flex; width: 400px; flex-wrap: wrap'><span style=\"background-color: rgba(233,30,99,0);  padding: 1px 5px; border: solid 3px ; border-color:  rgba(233,30,99,0); #EFEFEF\">She</span> <span style=\"background-color: rgba(233,30,99,0);  padding: 1px 5px; border: solid 3px ; border-color:  rgba(233,30,99,0); #EFEFEF\">is</span> <span style=\"background-color: rgba(233,30,99,0);  padding: 1px 5px; border: solid 3px ; border-color:  rgba(233,30,99,0); #EFEFEF\">passionate</span> <span style=\"background-color: rgba(233,30,99,0);  padding: 1px 5px; border: solid 3px ; border-color:  rgba(233,30,99,0); #EFEFEF\">about</span> <span style=\"background-color: rgba(233,30,99,0);  padding: 1px 5px; border: solid 3px ; border-color:  rgba(233,30,99,0); #EFEFEF\">paediatric health</span> <span style=\"background-color: rgba(233,30,99,0);  padding: 1px 5px; border: solid 3px ; border-color:  rgba(233,30,99,0); #EFEFEF\">has</span> <span style=\"background-color: rgba(179, 174, 54,  0.20381001398503998); padding: 1px 5px; border: solid 3px ; border-color: rgba(179, 174, 54,  1); #EFEFEF\">a special interest</span> <span style=\"background-color: rgba(233,30,99,0);  padding: 1px 5px; border: solid 3px ; border-color:  rgba(233,30,99,0); #EFEFEF\">in</span> <span style=\"background-color: rgba(233,30,99,0);  padding: 1px 5px; border: solid 3px ; border-color:  rgba(233,30,99,0); #EFEFEF\">treating</span> <span style=\"background-color: rgba(233,30,99,0);  padding: 1px 5px; border: solid 3px ; border-color:  rgba(233,30,99,0); #EFEFEF\">babies and children</span> <span style=\"background-color: rgba(233,30,99,0);  padding: 1px 5px; border: solid 3px ; border-color:  rgba(233,30,99,0); #EFEFEF\">with</span> <span style=\"background-color: rgba(233,30,99,0);  padding: 1px 5px; border: solid 3px ; border-color:  rgba(233,30,99,0); #EFEFEF\">conditions</span> <span style=\"background-color: rgba(233,30,99,0);  padding: 1px 5px; border: solid 3px ; border-color:  rgba(233,30,99,0); #EFEFEF\">such as</span> <span style=\"background-color: rgba(233,30,99,0);  padding: 1px 5px; border: solid 3px ; border-color:  rgba(233,30,99,0); #EFEFEF\">colic, reflux, cramping and sleep disturbances</span> <span style=\"background-color: rgba(233,30,99,0);  padding: 1px 5px; border: solid 3px ; border-color:  rgba(233,30,99,0); #EFEFEF\">Dr Dickerson</span> <span style=\"background-color: rgba(233,30,99,0);  padding: 1px 5px; border: solid 3px ; border-color:  rgba(233,30,99,0); #EFEFEF\">also</span> <span style=\"background-color: rgba(233,30,99,0);  padding: 1px 5px; border: solid 3px ; border-color:  rgba(233,30,99,0); #EFEFEF\">treats</span> <span style=\"background-color: rgba(233,30,99,0);  padding: 1px 5px; border: solid 3px ; border-color:  rgba(233,30,99,0); #EFEFEF\">expectant mothers</span> <span style=\"background-color: rgba(233,30,99,0);  padding: 1px 5px; border: solid 3px ; border-color:  rgba(233,30,99,0); #EFEFEF\">with</span> <span style=\"background-color: rgba(233,30,99,0);  padding: 1px 5px; border: solid 3px ; border-color:  rgba(233,30,99,0); #EFEFEF\">any musculoskeletal conditions</span> <span style=\"background-color: rgba(233,30,99,0);  padding: 1px 5px; border: solid 3px ; border-color:  rgba(233,30,99,0); #EFEFEF\">relating</span> <span style=\"background-color: rgba(233,30,99,0);  padding: 1px 5px; border: solid 3px ; border-color:  rgba(233,30,99,0); #EFEFEF\">to</span> <span style=\"background-color: rgba(233,30,99,0);  padding: 1px 5px; border: solid 3px ; border-color:  rgba(233,30,99,0); #EFEFEF\">pregnancy</span> <span style=\"background-color: rgba(179, 174, 54,  0.7608983142829326); padding: 1px 5px; border: solid 3px ; border-color: rgba(179, 174, 54,  1); #EFEFEF\">Chiropractic treatment</span> <span style=\"background-color: rgba(233,30,99,0);  padding: 1px 5px; border: solid 3px ; border-color:  rgba(233,30,99,0); #EFEFEF\">during</span> <span style=\"background-color: rgba(233,30,99,0);  padding: 1px 5px; border: solid 3px ; border-color:  rgba(233,30,99,0); #EFEFEF\">pregnancy</span> <span style=\"background-color: rgba(233,30,99,0);  padding: 1px 5px; border: solid 3px ; border-color:  rgba(233,30,99,0); #EFEFEF\">can lead</span> <span style=\"background-color: rgba(233,30,99,0);  padding: 1px 5px; border: solid 3px ; border-color:  rgba(233,30,99,0); #EFEFEF\">to</span> <span style=\"background-color: rgba(233,30,99,0);  padding: 1px 5px; border: solid 3px ; border-color:  rgba(233,30,99,0); #EFEFEF\">a quicker and easier birth</span> </div>"
      ],
      "text/plain": [
       "<IPython.core.display.HTML object>"
      ]
     },
     "metadata": {},
     "output_type": "display_data"
    },
    {
     "data": {
      "text/html": [
       "<br><br>"
      ],
      "text/plain": [
       "<IPython.core.display.HTML object>"
      ]
     },
     "metadata": {},
     "output_type": "display_data"
    },
    {
     "name": "stdout",
     "output_type": "stream",
     "text": [
      "sentence: 205272\n",
      "occupation: true label: dietitian ; predicted label: dietitian\n",
      "gender: true label: F ; predicted label: F\n"
     ]
    },
    {
     "data": {
      "text/html": [
       "<div style='display: flex; width: 400px; flex-wrap: wrap'><span style=\"background-color: rgba(233,30,99,0);  padding: 1px 5px; border: solid 3px ; border-color:  rgba(233,30,99,0); #EFEFEF\">She</span> <span style=\"background-color: rgba(233,30,99,0);  padding: 1px 5px; border: solid 3px ; border-color:  rgba(233,30,99,0); #EFEFEF\">has</span> <span style=\"background-color: rgba(233,30,99,0);  padding: 1px 5px; border: solid 3px ; border-color:  rgba(233,30,99,0); #EFEFEF\">over five years</span> <span style=\"background-color: rgba(233,30,99,0);  padding: 1px 5px; border: solid 3px ; border-color:  rgba(233,30,99,0); #EFEFEF\">of</span> <span style=\"background-color: rgba(233,30,99,0);  padding: 1px 5px; border: solid 3px ; border-color:  rgba(233,30,99,0); #EFEFEF\">work experience</span> <span style=\"background-color: rgba(233,30,99,0);  padding: 1px 5px; border: solid 3px ; border-color:  rgba(233,30,99,0); #EFEFEF\">in</span> <span style=\"background-color: rgba(179, 174, 54,  0.9946638859108002); padding: 1px 5px; border: solid 3px ; border-color: rgba(179, 174, 54,  1); #EFEFEF\">the dietetic field</span> <span style=\"background-color: rgba(233,30,99,0);  padding: 1px 5px; border: solid 3px ; border-color:  rgba(233,30,99,0); #EFEFEF\">holds</span> <span style=\"background-color: rgba(233,30,99,0);  padding: 1px 5px; border: solid 3px ; border-color:  rgba(233,30,99,0); #EFEFEF\">a Doctor</span> <span style=\"background-color: rgba(233,30,99,0);  padding: 1px 5px; border: solid 3px ; border-color:  rgba(233,30,99,0); #EFEFEF\">of</span> <span style=\"background-color: rgba(233,30,99,0);  padding: 1px 5px; border: solid 3px ; border-color:  rgba(233,30,99,0); #EFEFEF\">Medicine</span> <span style=\"background-color: rgba(233,30,99,0);  padding: 1px 5px; border: solid 3px ; border-color:  rgba(233,30,99,0); #EFEFEF\">in</span> <span style=\"background-color: rgba(233,30,99,0);  padding: 1px 5px; border: solid 3px ; border-color:  rgba(233,30,99,0); #EFEFEF\">alternative medicine</span> <span style=\"background-color: rgba(233,30,99,0);  padding: 1px 5px; border: solid 3px ; border-color:  rgba(233,30,99,0); #EFEFEF\">with</span> <span style=\"background-color: rgba(233,30,99,0);  padding: 1px 5px; border: solid 3px ; border-color:  rgba(233,30,99,0); #EFEFEF\">specialization</span> <span style=\"background-color: rgba(233,30,99,0);  padding: 1px 5px; border: solid 3px ; border-color:  rgba(233,30,99,0); #EFEFEF\">in</span> <span style=\"background-color: rgba(233,30,99,0);  padding: 1px 5px; border: solid 3px ; border-color:  rgba(233,30,99,0); #EFEFEF\">Vitamin therapy</span> <span style=\"background-color: rgba(233,30,99,0);  padding: 1px 5px; border: solid 3px ; border-color:  rgba(233,30,99,0); #EFEFEF\">yoga</span> <span style=\"background-color: rgba(233,30,99,0);  padding: 1px 5px; border: solid 3px ; border-color:  rgba(233,30,99,0); #EFEFEF\">magnet therapy</span> </div>"
      ],
      "text/plain": [
       "<IPython.core.display.HTML object>"
      ]
     },
     "metadata": {},
     "output_type": "display_data"
    },
    {
     "data": {
      "text/html": [
       "<br><br>"
      ],
      "text/plain": [
       "<IPython.core.display.HTML object>"
      ]
     },
     "metadata": {},
     "output_type": "display_data"
    },
    {
     "name": "stdout",
     "output_type": "stream",
     "text": [
      "sentence: 226245\n",
      "occupation: true label: software_engineer ; predicted label: software_engineer\n",
      "gender: true label: M ; predicted label: M\n"
     ]
    },
    {
     "data": {
      "text/html": [
       "<div style='display: flex; width: 400px; flex-wrap: wrap'><span style=\"background-color: rgba(233,30,99,0);  padding: 1px 5px; border: solid 3px ; border-color:  rgba(233,30,99,0); #EFEFEF\">Umang</span> <span style=\"background-color: rgba(233,30,99,0);  padding: 1px 5px; border: solid 3px ; border-color:  rgba(233,30,99,0); #EFEFEF\">recently</span> <span style=\"background-color: rgba(233,30,99,0);  padding: 1px 5px; border: solid 3px ; border-color:  rgba(233,30,99,0); #EFEFEF\">graduated</span> <span style=\"background-color: rgba(233,30,99,0);  padding: 1px 5px; border: solid 3px ; border-color:  rgba(233,30,99,0); #EFEFEF\">from</span> <span style=\"background-color: rgba(233,30,99,0);  padding: 1px 5px; border: solid 3px ; border-color:  rgba(233,30,99,0); #EFEFEF\">Northeastern University</span> <span style=\"background-color: rgba(233,30,99,0);  padding: 1px 5px; border: solid 3px ; border-color:  rgba(233,30,99,0); #EFEFEF\">with</span> <span style=\"background-color: rgba(233,30,99,0);  padding: 1px 5px; border: solid 3px ; border-color:  rgba(233,30,99,0); #EFEFEF\">a Master</span> <span style=\"background-color: rgba(233,30,99,0);  padding: 1px 5px; border: solid 3px ; border-color:  rgba(233,30,99,0); #EFEFEF\">'s degree</span> <span style=\"background-color: rgba(233,30,99,0);  padding: 1px 5px; border: solid 3px ; border-color:  rgba(233,30,99,0); #EFEFEF\">in</span> <span style=\"background-color: rgba(179, 174, 54,  0.6088230449141642); padding: 1px 5px; border: solid 3px ; border-color: rgba(179, 174, 54,  1); #EFEFEF\">Computer Science</span> <span style=\"background-color: rgba(233,30,99,0);  padding: 1px 5px; border: solid 3px ; border-color:  rgba(233,30,99,0); #EFEFEF\">Umang</span> <span style=\"background-color: rgba(233,30,99,0);  padding: 1px 5px; border: solid 3px ; border-color:  rgba(233,30,99,0); #EFEFEF\">is</span> <span style=\"background-color: rgba(233,30,99,0);  padding: 1px 5px; border: solid 3px ; border-color:  rgba(233,30,99,0); #EFEFEF\">an adrenaline junkie</span> <span style=\"background-color: rgba(233,30,99,0);  padding: 1px 5px; border: solid 3px ; border-color:  rgba(233,30,99,0); #EFEFEF\">likes to immerse</span> <span style=\"background-color: rgba(233,30,99,0);  padding: 1px 5px; border: solid 3px ; border-color:  rgba(233,30,99,0); #EFEFEF\">himself</span> <span style=\"background-color: rgba(233,30,99,0);  padding: 1px 5px; border: solid 3px ; border-color:  rgba(233,30,99,0); #EFEFEF\">in</span> <span style=\"background-color: rgba(233,30,99,0);  padding: 1px 5px; border: solid 3px ; border-color:  rgba(233,30,99,0); #EFEFEF\">outdoor sports</span> </div>"
      ],
      "text/plain": [
       "<IPython.core.display.HTML object>"
      ]
     },
     "metadata": {},
     "output_type": "display_data"
    },
    {
     "data": {
      "text/html": [
       "<br><br>"
      ],
      "text/plain": [
       "<IPython.core.display.HTML object>"
      ]
     },
     "metadata": {},
     "output_type": "display_data"
    },
    {
     "name": "stdout",
     "output_type": "stream",
     "text": [
      "sentence: 81814\n",
      "occupation: true label: software_engineer ; predicted label: software_engineer\n",
      "gender: true label: M ; predicted label: M\n"
     ]
    },
    {
     "data": {
      "text/html": [
       "<div style='display: flex; width: 400px; flex-wrap: wrap'><span style=\"background-color: rgba(255, 102, 122,  0.3818550944141442); padding: 1px 5px; border: solid 3px ; border-color: rgba(255, 102, 122,  1); #EFEFEF\">He</span> <span style=\"background-color: rgba(255, 102, 122,  0.27661177862278324); padding: 1px 5px; border: solid 3px ; border-color: rgba(255, 102, 122,  1); #EFEFEF\">graduated</span> <span style=\"background-color: rgba(233,30,99,0);  padding: 1px 5px; border: solid 3px ; border-color:  rgba(233,30,99,0); #EFEFEF\">in</span> <span style=\"background-color: rgba(255, 102, 122,  0.39398770348151557); padding: 1px 5px; border: solid 3px ; border-color: rgba(255, 102, 122,  1); #EFEFEF\">2014</span> <span style=\"background-color: rgba(233,30,99,0);  padding: 1px 5px; border: solid 3px ; border-color:  rgba(233,30,99,0); #EFEFEF\">with</span> <span style=\"background-color: rgba(233,30,99,0);  padding: 1px 5px; border: solid 3px ; border-color:  rgba(233,30,99,0); #EFEFEF\">a degree</span> <span style=\"background-color: rgba(233,30,99,0);  padding: 1px 5px; border: solid 3px ; border-color:  rgba(233,30,99,0); #EFEFEF\">in</span> <span style=\"background-color: rgba(179, 174, 54,  0.9850145967546986); padding: 1px 5px; border: solid 3px ; border-color: rgba(179, 174, 54,  1); #EFEFEF\">computer science</span> <span style=\"background-color: rgba(233,30,99,0);  padding: 1px 5px; border: solid 3px ; border-color:  rgba(233,30,99,0); #EFEFEF\">from</span> <span style=\"background-color: rgba(233,30,99,0);  padding: 1px 5px; border: solid 3px ; border-color:  rgba(233,30,99,0); #EFEFEF\">the University</span> <span style=\"background-color: rgba(233,30,99,0);  padding: 1px 5px; border: solid 3px ; border-color:  rgba(233,30,99,0); #EFEFEF\">of</span> <span style=\"background-color: rgba(255, 102, 122,  0.2972389794210625); padding: 1px 5px; border: solid 3px ; border-color: rgba(255, 102, 122,  1); #EFEFEF\">Saskatchewan</span> <span style=\"background-color: rgba(233,30,99,0);  padding: 1px 5px; border: solid 3px ; border-color:  rgba(233,30,99,0); #EFEFEF\">During</span> <span style=\"background-color: rgba(233,30,99,0);  padding: 1px 5px; border: solid 3px ; border-color:  rgba(233,30,99,0); #EFEFEF\">his time</span> <span style=\"background-color: rgba(255, 102, 122,  0.20810180427656966); padding: 1px 5px; border: solid 3px ; border-color: rgba(255, 102, 122,  1); #EFEFEF\">there</span> <span style=\"background-color: rgba(233,30,99,0);  padding: 1px 5px; border: solid 3px ; border-color:  rgba(233,30,99,0); #EFEFEF\">he</span> <span style=\"background-color: rgba(233,30,99,0);  padding: 1px 5px; border: solid 3px ; border-color:  rgba(233,30,99,0); #EFEFEF\">was</span> <span style=\"background-color: rgba(233,30,99,0);  padding: 1px 5px; border: solid 3px ; border-color:  rgba(233,30,99,0); #EFEFEF\">also</span> <span style=\"background-color: rgba(233,30,99,0);  padding: 1px 5px; border: solid 3px ; border-color:  rgba(233,30,99,0); #EFEFEF\">a participant</span> <span style=\"background-color: rgba(233,30,99,0);  padding: 1px 5px; border: solid 3px ; border-color:  rgba(233,30,99,0); #EFEFEF\">in</span> <span style=\"background-color: rgba(179, 174, 54,  0.21417080695937551); padding: 1px 5px; border: solid 3px ; border-color: rgba(179, 174, 54,  1); #EFEFEF\">the WorldSkills international trades competition</span> </div>"
      ],
      "text/plain": [
       "<IPython.core.display.HTML object>"
      ]
     },
     "metadata": {},
     "output_type": "display_data"
    },
    {
     "data": {
      "text/html": [
       "<br><br>"
      ],
      "text/plain": [
       "<IPython.core.display.HTML object>"
      ]
     },
     "metadata": {},
     "output_type": "display_data"
    },
    {
     "name": "stdout",
     "output_type": "stream",
     "text": [
      "sentence: 227333\n",
      "occupation: true label: model ; predicted label: model\n",
      "gender: true label: F ; predicted label: F\n"
     ]
    },
    {
     "data": {
      "text/html": [
       "<div style='display: flex; width: 400px; flex-wrap: wrap'><span style=\"background-color: rgba(233,30,99,0);  padding: 1px 5px; border: solid 3px ; border-color:  rgba(233,30,99,0); #EFEFEF\">In</span> <span style=\"background-color: rgba(233,30,99,0);  padding: 1px 5px; border: solid 3px ; border-color:  rgba(233,30,99,0); #EFEFEF\">a recent Instagram post</span> <span style=\"background-color: rgba(233,30,99,0);  padding: 1px 5px; border: solid 3px ; border-color:  rgba(233,30,99,0); #EFEFEF\">she</span> <span style=\"background-color: rgba(233,30,99,0);  padding: 1px 5px; border: solid 3px ; border-color:  rgba(233,30,99,0); #EFEFEF\">shared</span> <span style=\"background-color: rgba(233,30,99,0);  padding: 1px 5px; border: solid 3px ; border-color:  rgba(233,30,99,0); #EFEFEF\">a side-by-side shot</span> <span style=\"background-color: rgba(233,30,99,0);  padding: 1px 5px; border: solid 3px ; border-color:  rgba(233,30,99,0); #EFEFEF\">of</span> <span style=\"background-color: rgba(233,30,99,0);  padding: 1px 5px; border: solid 3px ; border-color:  rgba(233,30,99,0); #EFEFEF\">herself</span> <span style=\"background-color: rgba(233,30,99,0);  padding: 1px 5px; border: solid 3px ; border-color:  rgba(233,30,99,0); #EFEFEF\">from</span> <span style=\"background-color: rgba(179, 174, 54,  0.2852205426053314); padding: 1px 5px; border: solid 3px ; border-color: rgba(179, 174, 54,  1); #EFEFEF\">her teen modeling days</span> <span style=\"background-color: rgba(233,30,99,0);  padding: 1px 5px; border: solid 3px ; border-color:  rgba(233,30,99,0); #EFEFEF\">compared</span> <span style=\"background-color: rgba(233,30,99,0);  padding: 1px 5px; border: solid 3px ; border-color:  rgba(233,30,99,0); #EFEFEF\">to</span> <span style=\"background-color: rgba(233,30,99,0);  padding: 1px 5px; border: solid 3px ; border-color:  rgba(233,30,99,0); #EFEFEF\">her current, fuller frame</span> <span style=\"background-color: rgba(233,30,99,0);  padding: 1px 5px; border: solid 3px ; border-color:  rgba(233,30,99,0); #EFEFEF\">to display</span> <span style=\"background-color: rgba(233,30,99,0);  padding: 1px 5px; border: solid 3px ; border-color:  rgba(233,30,99,0); #EFEFEF\">the stark contrast</span> <span style=\"background-color: rgba(233,30,99,0);  padding: 1px 5px; border: solid 3px ; border-color:  rgba(233,30,99,0); #EFEFEF\">of</span> <span style=\"background-color: rgba(233,30,99,0);  padding: 1px 5px; border: solid 3px ; border-color:  rgba(233,30,99,0); #EFEFEF\">living</span> <span style=\"background-color: rgba(233,30,99,0);  padding: 1px 5px; border: solid 3px ; border-color:  rgba(233,30,99,0); #EFEFEF\">on</span> <span style=\"background-color: rgba(233,30,99,0);  padding: 1px 5px; border: solid 3px ; border-color:  rgba(233,30,99,0); #EFEFEF\">only a few hundred calories</span> <span style=\"background-color: rgba(233,30,99,0);  padding: 1px 5px; border: solid 3px ; border-color:  rgba(233,30,99,0); #EFEFEF\">per</span> <span style=\"background-color: rgba(233,30,99,0);  padding: 1px 5px; border: solid 3px ; border-color:  rgba(233,30,99,0); #EFEFEF\">day</span> </div>"
      ],
      "text/plain": [
       "<IPython.core.display.HTML object>"
      ]
     },
     "metadata": {},
     "output_type": "display_data"
    },
    {
     "data": {
      "text/html": [
       "<br><br>"
      ],
      "text/plain": [
       "<IPython.core.display.HTML object>"
      ]
     },
     "metadata": {},
     "output_type": "display_data"
    },
    {
     "name": "stdout",
     "output_type": "stream",
     "text": [
      "sentence: 90373\n",
      "occupation: true label: model ; predicted label: model\n",
      "gender: true label: F ; predicted label: F\n"
     ]
    },
    {
     "data": {
      "text/html": [
       "<div style='display: flex; width: 400px; flex-wrap: wrap'><span style=\"background-color: rgba(233,30,99,0);  padding: 1px 5px; border: solid 3px ; border-color:  rgba(233,30,99,0); #EFEFEF\">She</span> <span style=\"background-color: rgba(233,30,99,0);  padding: 1px 5px; border: solid 3px ; border-color:  rgba(233,30,99,0); #EFEFEF\">is currently starring</span> <span style=\"background-color: rgba(233,30,99,0);  padding: 1px 5px; border: solid 3px ; border-color:  rgba(233,30,99,0); #EFEFEF\">in</span> <span style=\"background-color: rgba(233,30,99,0);  padding: 1px 5px; border: solid 3px ; border-color:  rgba(233,30,99,0); #EFEFEF\">the Discovery Health Network</span> <span style=\"background-color: rgba(179, 174, 54,  0.2588890574280712); padding: 1px 5px; border: solid 3px ; border-color: rgba(179, 174, 54,  1); #EFEFEF\">'s `` Runway Moms</span> <span style=\"background-color: rgba(233,30,99,0);  padding: 1px 5px; border: solid 3px ; border-color:  rgba(233,30,99,0); #EFEFEF\">a television series</span> <span style=\"background-color: rgba(233,30,99,0);  padding: 1px 5px; border: solid 3px ; border-color:  rgba(233,30,99,0); #EFEFEF\">devoted</span> <span style=\"background-color: rgba(233,30,99,0);  padding: 1px 5px; border: solid 3px ; border-color:  rgba(233,30,99,0); #EFEFEF\">to</span> <span style=\"background-color: rgba(233,30,99,0);  padding: 1px 5px; border: solid 3px ; border-color:  rgba(233,30,99,0); #EFEFEF\">the lifestyles</span> <span style=\"background-color: rgba(233,30,99,0);  padding: 1px 5px; border: solid 3px ; border-color:  rgba(233,30,99,0); #EFEFEF\">of</span> <span style=\"background-color: rgba(179, 174, 54,  0.6465617442599433); padding: 1px 5px; border: solid 3px ; border-color: rgba(179, 174, 54,  1); #EFEFEF\">supermodel moms Farley</span> <span style=\"background-color: rgba(233,30,99,0);  padding: 1px 5px; border: solid 3px ; border-color:  rgba(233,30,99,0); #EFEFEF\">says</span> <span style=\"background-color: rgba(233,30,99,0);  padding: 1px 5px; border: solid 3px ; border-color:  rgba(233,30,99,0); #EFEFEF\">her proudest achievement</span> <span style=\"background-color: rgba(233,30,99,0);  padding: 1px 5px; border: solid 3px ; border-color:  rgba(233,30,99,0); #EFEFEF\">is</span> <span style=\"background-color: rgba(233,30,99,0);  padding: 1px 5px; border: solid 3px ; border-color:  rgba(233,30,99,0); #EFEFEF\">just</span> <span style=\"background-color: rgba(233,30,99,0);  padding: 1px 5px; border: solid 3px ; border-color:  rgba(233,30,99,0); #EFEFEF\">her three beautiful children</span> <span style=\"background-color: rgba(233,30,99,0);  padding: 1px 5px; border: solid 3px ; border-color:  rgba(233,30,99,0); #EFEFEF\">the fact</span> <span style=\"background-color: rgba(233,30,99,0);  padding: 1px 5px; border: solid 3px ; border-color:  rgba(233,30,99,0); #EFEFEF\">that</span> <span style=\"background-color: rgba(233,30,99,0);  padding: 1px 5px; border: solid 3px ; border-color:  rgba(233,30,99,0); #EFEFEF\">she</span> <span style=\"background-color: rgba(179, 174, 54,  0.2289272374165127); padding: 1px 5px; border: solid 3px ; border-color: rgba(179, 174, 54,  1); #EFEFEF\">her husband</span> <span style=\"background-color: rgba(233,30,99,0);  padding: 1px 5px; border: solid 3px ; border-color:  rgba(233,30,99,0); #EFEFEF\">were</span> <span style=\"background-color: rgba(233,30,99,0);  padding: 1px 5px; border: solid 3px ; border-color:  rgba(233,30,99,0); #EFEFEF\">able</span> <span style=\"background-color: rgba(233,30,99,0);  padding: 1px 5px; border: solid 3px ; border-color:  rgba(233,30,99,0); #EFEFEF\">to properly administer</span> <span style=\"background-color: rgba(179, 174, 54,  0.31213183572367087); padding: 1px 5px; border: solid 3px ; border-color: rgba(179, 174, 54,  1); #EFEFEF\">CPR</span> <span style=\"background-color: rgba(233,30,99,0);  padding: 1px 5px; border: solid 3px ; border-color:  rgba(233,30,99,0); #EFEFEF\">save</span> <span style=\"background-color: rgba(233,30,99,0);  padding: 1px 5px; border: solid 3px ; border-color:  rgba(233,30,99,0); #EFEFEF\">their 2-year-old daughter</span> <span style=\"background-color: rgba(233,30,99,0);  padding: 1px 5px; border: solid 3px ; border-color:  rgba(233,30,99,0); #EFEFEF\">Chase</span> <span style=\"background-color: rgba(233,30,99,0);  padding: 1px 5px; border: solid 3px ; border-color:  rgba(233,30,99,0); #EFEFEF\">from</span> <span style=\"background-color: rgba(233,30,99,0);  padding: 1px 5px; border: solid 3px ; border-color:  rgba(233,30,99,0); #EFEFEF\">a drowning accident</span> <span style=\"background-color: rgba(233,30,99,0);  padding: 1px 5px; border: solid 3px ; border-color:  rgba(233,30,99,0); #EFEFEF\">As</span> <span style=\"background-color: rgba(233,30,99,0);  padding: 1px 5px; border: solid 3px ; border-color:  rgba(233,30,99,0); #EFEFEF\">it</span> <span style=\"background-color: rgba(233,30,99,0);  padding: 1px 5px; border: solid 3px ; border-color:  rgba(233,30,99,0); #EFEFEF\">turns</span> <span style=\"background-color: rgba(233,30,99,0);  padding: 1px 5px; border: solid 3px ; border-color:  rgba(233,30,99,0); #EFEFEF\">out</span> <span style=\"background-color: rgba(233,30,99,0);  padding: 1px 5px; border: solid 3px ; border-color:  rgba(233,30,99,0); #EFEFEF\">taking</span> <span style=\"background-color: rgba(179, 174, 54,  0.2517092776781387); padding: 1px 5px; border: solid 3px ; border-color: rgba(179, 174, 54,  1); #EFEFEF\">a simple infant/child CPR course</span> <span style=\"background-color: rgba(233,30,99,0);  padding: 1px 5px; border: solid 3px ; border-color:  rgba(233,30,99,0); #EFEFEF\">was</span> <span style=\"background-color: rgba(233,30,99,0);  padding: 1px 5px; border: solid 3px ; border-color:  rgba(233,30,99,0); #EFEFEF\">the smartest investment</span> <span style=\"background-color: rgba(233,30,99,0);  padding: 1px 5px; border: solid 3px ; border-color:  rgba(233,30,99,0); #EFEFEF\">the parents</span> <span style=\"background-color: rgba(233,30,99,0);  padding: 1px 5px; border: solid 3px ; border-color:  rgba(233,30,99,0); #EFEFEF\">of</span> <span style=\"background-color: rgba(233,30,99,0);  padding: 1px 5px; border: solid 3px ; border-color:  rgba(233,30,99,0); #EFEFEF\">these three small girls</span> <span style=\"background-color: rgba(233,30,99,0);  padding: 1px 5px; border: solid 3px ; border-color:  rgba(233,30,99,0); #EFEFEF\">ever</span> <span style=\"background-color: rgba(233,30,99,0);  padding: 1px 5px; border: solid 3px ; border-color:  rgba(233,30,99,0); #EFEFEF\">made</span> </div>"
      ],
      "text/plain": [
       "<IPython.core.display.HTML object>"
      ]
     },
     "metadata": {},
     "output_type": "display_data"
    },
    {
     "data": {
      "text/html": [
       "<br><br>"
      ],
      "text/plain": [
       "<IPython.core.display.HTML object>"
      ]
     },
     "metadata": {},
     "output_type": "display_data"
    },
    {
     "name": "stdout",
     "output_type": "stream",
     "text": [
      "sentence: 82798\n",
      "occupation: true label: psychologist ; predicted label: nurse\n",
      "gender: true label: F ; predicted label: F\n"
     ]
    },
    {
     "data": {
      "text/html": [
       "<div style='display: flex; width: 400px; flex-wrap: wrap'><span style=\"background-color: rgba(233,30,99,0);  padding: 1px 5px; border: solid 3px ; border-color:  rgba(233,30,99,0); #EFEFEF\">Joan</span> <span style=\"background-color: rgba(233,30,99,0);  padding: 1px 5px; border: solid 3px ; border-color:  rgba(233,30,99,0); #EFEFEF\">’s</span> <span style=\"background-color: rgba(233,30,99,0);  padding: 1px 5px; border: solid 3px ; border-color:  rgba(233,30,99,0); #EFEFEF\">training</span> <span style=\"background-color: rgba(233,30,99,0);  padding: 1px 5px; border: solid 3px ; border-color:  rgba(233,30,99,0); #EFEFEF\">as</span> <span style=\"background-color: rgba(233,30,99,0);  padding: 1px 5px; border: solid 3px ; border-color:  rgba(233,30,99,0); #EFEFEF\">both</span> <span style=\"background-color: rgba(255, 102, 122,  0.9591106899481885); padding: 1px 5px; border: solid 3px ; border-color: rgba(255, 102, 122,  1); #EFEFEF\">a nurse</span> <span style=\"background-color: rgba(255, 102, 122,  0.9914435128319824); padding: 1px 5px; border: solid 3px ; border-color: rgba(255, 102, 122,  1); #EFEFEF\">a psychotherapist</span> <span style=\"background-color: rgba(233,30,99,0);  padding: 1px 5px; border: solid 3px ; border-color:  rgba(233,30,99,0); #EFEFEF\">uniquely</span> <span style=\"background-color: rgba(233,30,99,0);  padding: 1px 5px; border: solid 3px ; border-color:  rgba(233,30,99,0); #EFEFEF\">qualifies</span> <span style=\"background-color: rgba(233,30,99,0);  padding: 1px 5px; border: solid 3px ; border-color:  rgba(233,30,99,0); #EFEFEF\">her</span> <span style=\"background-color: rgba(233,30,99,0);  padding: 1px 5px; border: solid 3px ; border-color:  rgba(233,30,99,0); #EFEFEF\">to be</span> <span style=\"background-color: rgba(179, 174, 54,  0.21107647966440438); padding: 1px 5px; border: solid 3px ; border-color: rgba(179, 174, 54,  1); #EFEFEF\">especially diverse and skilled</span> <span style=\"background-color: rgba(233,30,99,0);  padding: 1px 5px; border: solid 3px ; border-color:  rgba(233,30,99,0); #EFEFEF\">in</span> <span style=\"background-color: rgba(233,30,99,0);  padding: 1px 5px; border: solid 3px ; border-color:  rgba(233,30,99,0); #EFEFEF\">helping</span> <span style=\"background-color: rgba(179, 174, 54,  0.2428803636822253); padding: 1px 5px; border: solid 3px ; border-color: rgba(179, 174, 54,  1); #EFEFEF\">clients</span> <span style=\"background-color: rgba(233,30,99,0);  padding: 1px 5px; border: solid 3px ; border-color:  rgba(233,30,99,0); #EFEFEF\">with</span> <span style=\"background-color: rgba(179, 174, 54,  0.2251248337399743); padding: 1px 5px; border: solid 3px ; border-color: rgba(179, 174, 54,  1); #EFEFEF\">many different issues</span> <span style=\"background-color: rgba(233,30,99,0);  padding: 1px 5px; border: solid 3px ; border-color:  rgba(233,30,99,0); #EFEFEF\">as well as</span> <span style=\"background-color: rgba(233,30,99,0);  padding: 1px 5px; border: solid 3px ; border-color:  rgba(233,30,99,0); #EFEFEF\">having</span> <span style=\"background-color: rgba(233,30,99,0);  padding: 1px 5px; border: solid 3px ; border-color:  rgba(233,30,99,0); #EFEFEF\">an additional awareness</span> <span style=\"background-color: rgba(233,30,99,0);  padding: 1px 5px; border: solid 3px ; border-color:  rgba(233,30,99,0); #EFEFEF\">of</span> <span style=\"background-color: rgba(233,30,99,0);  padding: 1px 5px; border: solid 3px ; border-color:  rgba(233,30,99,0); #EFEFEF\">their medical concerns</span> </div>"
      ],
      "text/plain": [
       "<IPython.core.display.HTML object>"
      ]
     },
     "metadata": {},
     "output_type": "display_data"
    },
    {
     "data": {
      "text/html": [
       "<br><br>"
      ],
      "text/plain": [
       "<IPython.core.display.HTML object>"
      ]
     },
     "metadata": {},
     "output_type": "display_data"
    },
    {
     "name": "stdout",
     "output_type": "stream",
     "text": [
      "sentence: 143102\n",
      "occupation: true label: professor ; predicted label: professor\n",
      "gender: true label: F ; predicted label: F\n"
     ]
    },
    {
     "data": {
      "text/html": [
       "<div style='display: flex; width: 400px; flex-wrap: wrap'><span style=\"background-color: rgba(255, 102, 122,  0.5614522491411401); padding: 1px 5px; border: solid 3px ; border-color: rgba(255, 102, 122,  1); #EFEFEF\">She</span> <span style=\"background-color: rgba(233,30,99,0);  padding: 1px 5px; border: solid 3px ; border-color:  rgba(233,30,99,0); #EFEFEF\">has designed</span> <span style=\"background-color: rgba(255, 102, 122,  0.5107541308536028); padding: 1px 5px; border: solid 3px ; border-color: rgba(255, 102, 122,  1); #EFEFEF\">at</span> <span style=\"background-color: rgba(45, 136, 179,  0.9896944215157847); padding: 1px 5px; border: solid 3px ; border-color: rgba(45, 136, 179,  1); #EFEFEF\">several local universities and regional theaters</span> <span style=\"background-color: rgba(255, 102, 122,  0.5249573979988172); padding: 1px 5px; border: solid 3px ; border-color: rgba(255, 102, 122,  1); #EFEFEF\">Ms Wood</span> <span style=\"background-color: rgba(45, 136, 179,  0.3909728651678444); padding: 1px 5px; border: solid 3px ; border-color: rgba(45, 136, 179,  1); #EFEFEF\">teaches</span> <span style=\"background-color: rgba(45, 136, 179,  0.5202448011953191); padding: 1px 5px; border: solid 3px ; border-color: rgba(45, 136, 179,  1); #EFEFEF\">Theatre Forms</span> <span style=\"background-color: rgba(45, 136, 179,  0.48992235594983574); padding: 1px 5px; border: solid 3px ; border-color: rgba(45, 136, 179,  1); #EFEFEF\">Stagecraft</span> <span style=\"background-color: rgba(45, 136, 179,  0.44754778722117006); padding: 1px 5px; border: solid 3px ; border-color: rgba(45, 136, 179,  1); #EFEFEF\">Stage Management</span> <span style=\"background-color: rgba(45, 136, 179,  0.3828639008126699); padding: 1px 5px; border: solid 3px ; border-color: rgba(45, 136, 179,  1); #EFEFEF\">Fundamentals</span> <span style=\"background-color: rgba(45, 136, 179,  0.5257254196401535); padding: 1px 5px; border: solid 3px ; border-color: rgba(45, 136, 179,  1); #EFEFEF\">of</span> <span style=\"background-color: rgba(45, 136, 179,  0.39261286343920376); padding: 1px 5px; border: solid 3px ; border-color: rgba(45, 136, 179,  1); #EFEFEF\">Design</span> <span style=\"background-color: rgba(45, 136, 179,  0.299580002754511); padding: 1px 5px; border: solid 3px ; border-color: rgba(45, 136, 179,  1); #EFEFEF\">Set Design</span> <span style=\"background-color: rgba(45, 136, 179,  0.3350013974500693); padding: 1px 5px; border: solid 3px ; border-color: rgba(45, 136, 179,  1); #EFEFEF\">Light Design</span> <span style=\"background-color: rgba(45, 136, 179,  0.4988578997501374); padding: 1px 5px; border: solid 3px ; border-color: rgba(45, 136, 179,  1); #EFEFEF\">Periods and Styles</span> <span style=\"background-color: rgba(45, 136, 179,  0.6600614020199622); padding: 1px 5px; border: solid 3px ; border-color: rgba(45, 136, 179,  1); #EFEFEF\">Theatre Practicum</span> <span style=\"background-color: rgba(255, 102, 122,  0.3122729278310624); padding: 1px 5px; border: solid 3px ; border-color: rgba(255, 102, 122,  1); #EFEFEF\">at</span> <span style=\"background-color: rgba(255, 102, 122,  0.33897765860208345); padding: 1px 5px; border: solid 3px ; border-color: rgba(255, 102, 122,  1); #EFEFEF\">AU</span> </div>"
      ],
      "text/plain": [
       "<IPython.core.display.HTML object>"
      ]
     },
     "metadata": {},
     "output_type": "display_data"
    },
    {
     "data": {
      "text/html": [
       "<br><br>"
      ],
      "text/plain": [
       "<IPython.core.display.HTML object>"
      ]
     },
     "metadata": {},
     "output_type": "display_data"
    },
    {
     "name": "stdout",
     "output_type": "stream",
     "text": [
      "sentence: 261617\n",
      "occupation: true label: professor ; predicted label: professor\n",
      "gender: true label: F ; predicted label: F\n"
     ]
    },
    {
     "data": {
      "text/html": [
       "<div style='display: flex; width: 400px; flex-wrap: wrap'><span style=\"background-color: rgba(233,30,99,0);  padding: 1px 5px; border: solid 3px ; border-color:  rgba(233,30,99,0); #EFEFEF\">In</span> <span style=\"background-color: rgba(45, 136, 179,  0.326010433487681); padding: 1px 5px; border: solid 3px ; border-color: rgba(45, 136, 179,  1); #EFEFEF\">her thirty year career</span> <span style=\"background-color: rgba(45, 136, 179,  0.21965056748637204); padding: 1px 5px; border: solid 3px ; border-color: rgba(45, 136, 179,  1); #EFEFEF\">she</span> <span style=\"background-color: rgba(45, 136, 179,  0.3581481314377488); padding: 1px 5px; border: solid 3px ; border-color: rgba(45, 136, 179,  1); #EFEFEF\">has conducted</span> <span style=\"background-color: rgba(233,30,99,0);  padding: 1px 5px; border: solid 3px ; border-color:  rgba(233,30,99,0); #EFEFEF\">hundreds</span> <span style=\"background-color: rgba(45, 136, 179,  0.3869825790891877); padding: 1px 5px; border: solid 3px ; border-color: rgba(45, 136, 179,  1); #EFEFEF\">of</span> <span style=\"background-color: rgba(179, 174, 54,  0.388472382241376); padding: 1px 5px; border: solid 3px ; border-color: rgba(179, 174, 54,  1); #EFEFEF\">ergonomic assessments</span> <span style=\"background-color: rgba(45, 136, 179,  0.37575144844294345); padding: 1px 5px; border: solid 3px ; border-color: rgba(45, 136, 179,  1); #EFEFEF\">risk assessments</span> <span style=\"background-color: rgba(233,30,99,0);  padding: 1px 5px; border: solid 3px ; border-color:  rgba(233,30,99,0); #EFEFEF\">from</span> <span style=\"background-color: rgba(233,30,99,0);  padding: 1px 5px; border: solid 3px ; border-color:  rgba(233,30,99,0); #EFEFEF\">offices</span> <span style=\"background-color: rgba(233,30,99,0);  padding: 1px 5px; border: solid 3px ; border-color:  rgba(233,30,99,0); #EFEFEF\">to</span> <span style=\"background-color: rgba(45, 136, 179,  0.24671115548975497); padding: 1px 5px; border: solid 3px ; border-color: rgba(45, 136, 179,  1); #EFEFEF\">nuclear hot cells</span> <span style=\"background-color: rgba(45, 136, 179,  0.3248519438278494); padding: 1px 5px; border: solid 3px ; border-color: rgba(45, 136, 179,  1); #EFEFEF\">She</span> <span style=\"background-color: rgba(233,30,99,0);  padding: 1px 5px; border: solid 3px ; border-color:  rgba(233,30,99,0); #EFEFEF\">has</span> <span style=\"background-color: rgba(45, 136, 179,  0.3251829401666935); padding: 1px 5px; border: solid 3px ; border-color: rgba(45, 136, 179,  1); #EFEFEF\">a master's</span> <span style=\"background-color: rgba(45, 136, 179,  0.3039556267086714); padding: 1px 5px; border: solid 3px ; border-color: rgba(45, 136, 179,  1); #EFEFEF\">of</span> <span style=\"background-color: rgba(233,30,99,0);  padding: 1px 5px; border: solid 3px ; border-color:  rgba(233,30,99,0); #EFEFEF\">science</span> <span style=\"background-color: rgba(233,30,99,0);  padding: 1px 5px; border: solid 3px ; border-color:  rgba(233,30,99,0); #EFEFEF\">in</span> <span style=\"background-color: rgba(179, 174, 54,  0.5414441488855368); padding: 1px 5px; border: solid 3px ; border-color: rgba(179, 174, 54,  1); #EFEFEF\">industrial technology</span> <span style=\"background-color: rgba(45, 136, 179,  0.35265137927887813); padding: 1px 5px; border: solid 3px ; border-color: rgba(45, 136, 179,  1); #EFEFEF\">from</span> <span style=\"background-color: rgba(45, 136, 179,  0.5241809783134729); padding: 1px 5px; border: solid 3px ; border-color: rgba(45, 136, 179,  1); #EFEFEF\">the University</span> <span style=\"background-color: rgba(45, 136, 179,  0.33958569975094427); padding: 1px 5px; border: solid 3px ; border-color: rgba(45, 136, 179,  1); #EFEFEF\">of</span> <span style=\"background-color: rgba(45, 136, 179,  0.39551377515637054); padding: 1px 5px; border: solid 3px ; border-color: rgba(45, 136, 179,  1); #EFEFEF\">Idaho</span> <span style=\"background-color: rgba(233,30,99,0);  padding: 1px 5px; border: solid 3px ; border-color:  rgba(233,30,99,0); #EFEFEF\">is</span> <span style=\"background-color: rgba(233,30,99,0);  padding: 1px 5px; border: solid 3px ; border-color:  rgba(233,30,99,0); #EFEFEF\">currently</span> <span style=\"background-color: rgba(45, 136, 179,  0.9896670043008484); padding: 1px 5px; border: solid 3px ; border-color: rgba(45, 136, 179,  1); #EFEFEF\">a PhD.ABD</span> </div>"
      ],
      "text/plain": [
       "<IPython.core.display.HTML object>"
      ]
     },
     "metadata": {},
     "output_type": "display_data"
    },
    {
     "data": {
      "text/html": [
       "<br><br>"
      ],
      "text/plain": [
       "<IPython.core.display.HTML object>"
      ]
     },
     "metadata": {},
     "output_type": "display_data"
    },
    {
     "name": "stdout",
     "output_type": "stream",
     "text": [
      "sentence: 219844\n",
      "occupation: true label: professor ; predicted label: professor\n",
      "gender: true label: F ; predicted label: F\n"
     ]
    },
    {
     "data": {
      "text/html": [
       "<div style='display: flex; width: 400px; flex-wrap: wrap'><span style=\"background-color: rgba(233,30,99,0);  padding: 1px 5px; border: solid 3px ; border-color:  rgba(233,30,99,0); #EFEFEF\">Before</span> <span style=\"background-color: rgba(233,30,99,0);  padding: 1px 5px; border: solid 3px ; border-color:  rgba(233,30,99,0); #EFEFEF\">entering</span> <span style=\"background-color: rgba(45, 136, 179,  0.44533051681743846); padding: 1px 5px; border: solid 3px ; border-color: rgba(45, 136, 179,  1); #EFEFEF\">the university sector</span> <span style=\"background-color: rgba(233,30,99,0);  padding: 1px 5px; border: solid 3px ; border-color:  rgba(233,30,99,0); #EFEFEF\">in</span> <span style=\"background-color: rgba(233,30,99,0);  padding: 1px 5px; border: solid 3px ; border-color:  rgba(233,30,99,0); #EFEFEF\">1994</span> <span style=\"background-color: rgba(233,30,99,0);  padding: 1px 5px; border: solid 3px ; border-color:  rgba(233,30,99,0); #EFEFEF\">she</span> <span style=\"background-color: rgba(233,30,99,0);  padding: 1px 5px; border: solid 3px ; border-color:  rgba(233,30,99,0); #EFEFEF\">had</span> <span style=\"background-color: rgba(233,30,99,0);  padding: 1px 5px; border: solid 3px ; border-color:  rgba(233,30,99,0); #EFEFEF\">an extensive career</span> <span style=\"background-color: rgba(233,30,99,0);  padding: 1px 5px; border: solid 3px ; border-color:  rgba(233,30,99,0); #EFEFEF\">in</span> <span style=\"background-color: rgba(233,30,99,0);  padding: 1px 5px; border: solid 3px ; border-color:  rgba(233,30,99,0); #EFEFEF\">primary, secondary and senior secondary teaching</span> <span style=\"background-color: rgba(233,30,99,0);  padding: 1px 5px; border: solid 3px ; border-color:  rgba(233,30,99,0); #EFEFEF\">school leadership</span> <span style=\"background-color: rgba(233,30,99,0);  padding: 1px 5px; border: solid 3px ; border-color:  rgba(233,30,99,0); #EFEFEF\">in</span> <span style=\"background-color: rgba(233,30,99,0);  padding: 1px 5px; border: solid 3px ; border-color:  rgba(233,30,99,0); #EFEFEF\">Tasmania</span> <span style=\"background-color: rgba(233,30,99,0);  padding: 1px 5px; border: solid 3px ; border-color:  rgba(233,30,99,0); #EFEFEF\">in</span> <span style=\"background-color: rgba(233,30,99,0);  padding: 1px 5px; border: solid 3px ; border-color:  rgba(233,30,99,0); #EFEFEF\">both state and independent schools</span> <span style=\"background-color: rgba(233,30,99,0);  padding: 1px 5px; border: solid 3px ; border-color:  rgba(233,30,99,0); #EFEFEF\">At</span> <span style=\"background-color: rgba(233,30,99,0);  padding: 1px 5px; border: solid 3px ; border-color:  rgba(233,30,99,0); #EFEFEF\">the postgraduate level</span> <span style=\"background-color: rgba(233,30,99,0);  padding: 1px 5px; border: solid 3px ; border-color:  rgba(233,30,99,0); #EFEFEF\">Karen</span> <span style=\"background-color: rgba(233,30,99,0);  padding: 1px 5px; border: solid 3px ; border-color:  rgba(233,30,99,0); #EFEFEF\">coordinates</span> <span style=\"background-color: rgba(233,30,99,0);  padding: 1px 5px; border: solid 3px ; border-color:  rgba(233,30,99,0); #EFEFEF\">a number</span> <span style=\"background-color: rgba(233,30,99,0);  padding: 1px 5px; border: solid 3px ; border-color:  rgba(233,30,99,0); #EFEFEF\">of</span> <span style=\"background-color: rgba(233,30,99,0);  padding: 1px 5px; border: solid 3px ; border-color:  rgba(233,30,99,0); #EFEFEF\">units</span> <span style=\"background-color: rgba(233,30,99,0);  padding: 1px 5px; border: solid 3px ; border-color:  rgba(233,30,99,0); #EFEFEF\">relating</span> <span style=\"background-color: rgba(233,30,99,0);  padding: 1px 5px; border: solid 3px ; border-color:  rgba(233,30,99,0); #EFEFEF\">to</span> <span style=\"background-color: rgba(233,30,99,0);  padding: 1px 5px; border: solid 3px ; border-color:  rgba(233,30,99,0); #EFEFEF\">coaching and mentoring</span> <span style=\"background-color: rgba(233,30,99,0);  padding: 1px 5px; border: solid 3px ; border-color:  rgba(233,30,99,0); #EFEFEF\">health and wellbeing</span> <span style=\"background-color: rgba(233,30,99,0);  padding: 1px 5px; border: solid 3px ; border-color:  rgba(233,30,99,0); #EFEFEF\">also</span> <span style=\"background-color: rgba(233,30,99,0);  padding: 1px 5px; border: solid 3px ; border-color:  rgba(233,30,99,0); #EFEFEF\">supervises</span> <span style=\"background-color: rgba(233,30,99,0);  padding: 1px 5px; border: solid 3px ; border-color:  rgba(233,30,99,0); #EFEFEF\">a number</span> <span style=\"background-color: rgba(233,30,99,0);  padding: 1px 5px; border: solid 3px ; border-color:  rgba(233,30,99,0); #EFEFEF\">of</span> <span style=\"background-color: rgba(233,30,99,0);  padding: 1px 5px; border: solid 3px ; border-color:  rgba(233,30,99,0); #EFEFEF\">research higher degree students</span> <span style=\"background-color: rgba(233,30,99,0);  padding: 1px 5px; border: solid 3px ; border-color:  rgba(233,30,99,0); #EFEFEF\">Her areas</span> <span style=\"background-color: rgba(233,30,99,0);  padding: 1px 5px; border: solid 3px ; border-color:  rgba(233,30,99,0); #EFEFEF\">of</span> <span style=\"background-color: rgba(233,30,99,0);  padding: 1px 5px; border: solid 3px ; border-color:  rgba(233,30,99,0); #EFEFEF\">research interest</span> <span style=\"background-color: rgba(233,30,99,0);  padding: 1px 5px; border: solid 3px ; border-color:  rgba(233,30,99,0); #EFEFEF\">are</span> <span style=\"background-color: rgba(233,30,99,0);  padding: 1px 5px; border: solid 3px ; border-color:  rgba(233,30,99,0); #EFEFEF\">in</span> <span style=\"background-color: rgba(233,30,99,0);  padding: 1px 5px; border: solid 3px ; border-color:  rgba(233,30,99,0); #EFEFEF\">social and emotional wellbeing</span> <span style=\"background-color: rgba(233,30,99,0);  padding: 1px 5px; border: solid 3px ; border-color:  rgba(233,30,99,0); #EFEFEF\">student preparedness</span> <span style=\"background-color: rgba(233,30,99,0);  padding: 1px 5px; border: solid 3px ; border-color:  rgba(233,30,99,0); #EFEFEF\">for</span> <span style=\"background-color: rgba(233,30,99,0);  padding: 1px 5px; border: solid 3px ; border-color:  rgba(233,30,99,0); #EFEFEF\">teacher education</span> <span style=\"background-color: rgba(233,30,99,0);  padding: 1px 5px; border: solid 3px ; border-color:  rgba(233,30,99,0); #EFEFEF\">Karen</span> <span style=\"background-color: rgba(233,30,99,0);  padding: 1px 5px; border: solid 3px ; border-color:  rgba(233,30,99,0); #EFEFEF\">s publication output</span> <span style=\"background-color: rgba(233,30,99,0);  padding: 1px 5px; border: solid 3px ; border-color:  rgba(233,30,99,0); #EFEFEF\">includes</span> <span style=\"background-color: rgba(233,30,99,0);  padding: 1px 5px; border: solid 3px ; border-color:  rgba(233,30,99,0); #EFEFEF\">book chapters</span> <span style=\"background-color: rgba(233,30,99,0);  padding: 1px 5px; border: solid 3px ; border-color:  rgba(233,30,99,0); #EFEFEF\">academic journal articles</span> <span style=\"background-color: rgba(233,30,99,0);  padding: 1px 5px; border: solid 3px ; border-color:  rgba(233,30,99,0); #EFEFEF\">peer-reviewed conference papers</span> <span style=\"background-color: rgba(233,30,99,0);  padding: 1px 5px; border: solid 3px ; border-color:  rgba(233,30,99,0); #EFEFEF\">She</span> <span style=\"background-color: rgba(233,30,99,0);  padding: 1px 5px; border: solid 3px ; border-color:  rgba(233,30,99,0); #EFEFEF\">is</span> <span style=\"background-color: rgba(233,30,99,0);  padding: 1px 5px; border: solid 3px ; border-color:  rgba(233,30,99,0); #EFEFEF\">also</span> <span style=\"background-color: rgba(233,30,99,0);  padding: 1px 5px; border: solid 3px ; border-color:  rgba(233,30,99,0); #EFEFEF\">a Consulting Editor</span> <span style=\"background-color: rgba(233,30,99,0);  padding: 1px 5px; border: solid 3px ; border-color:  rgba(233,30,99,0); #EFEFEF\">for</span> <span style=\"background-color: rgba(233,30,99,0);  padding: 1px 5px; border: solid 3px ; border-color:  rgba(233,30,99,0); #EFEFEF\">the Australian Journal</span> <span style=\"background-color: rgba(233,30,99,0);  padding: 1px 5px; border: solid 3px ; border-color:  rgba(233,30,99,0); #EFEFEF\">of</span> <span style=\"background-color: rgba(233,30,99,0);  padding: 1px 5px; border: solid 3px ; border-color:  rgba(233,30,99,0); #EFEFEF\">Teacher Education</span> <span style=\"background-color: rgba(233,30,99,0);  padding: 1px 5px; border: solid 3px ; border-color:  rgba(233,30,99,0); #EFEFEF\">reviews</span> <span style=\"background-color: rgba(233,30,99,0);  padding: 1px 5px; border: solid 3px ; border-color:  rgba(233,30,99,0); #EFEFEF\">for</span> <span style=\"background-color: rgba(233,30,99,0);  padding: 1px 5px; border: solid 3px ; border-color:  rgba(233,30,99,0); #EFEFEF\">a number</span> <span style=\"background-color: rgba(233,30,99,0);  padding: 1px 5px; border: solid 3px ; border-color:  rgba(233,30,99,0); #EFEFEF\">of</span> <span style=\"background-color: rgba(233,30,99,0);  padding: 1px 5px; border: solid 3px ; border-color:  rgba(233,30,99,0); #EFEFEF\">international journals</span> </div>"
      ],
      "text/plain": [
       "<IPython.core.display.HTML object>"
      ]
     },
     "metadata": {},
     "output_type": "display_data"
    },
    {
     "data": {
      "text/html": [
       "<br><br>"
      ],
      "text/plain": [
       "<IPython.core.display.HTML object>"
      ]
     },
     "metadata": {},
     "output_type": "display_data"
    },
    {
     "name": "stdout",
     "output_type": "stream",
     "text": [
      "sentence: 125561\n",
      "occupation: true label: professor ; predicted label: professor\n",
      "gender: true label: F ; predicted label: M\n"
     ]
    },
    {
     "data": {
      "text/html": [
       "<div style='display: flex; width: 400px; flex-wrap: wrap'><span style=\"background-color: rgba(45, 136, 179,  0.9919853148282634); padding: 1px 5px; border: solid 3px ; border-color: rgba(45, 136, 179,  1); #EFEFEF\">Her research interests</span> <span style=\"background-color: rgba(45, 136, 179,  0.20147396751130825); padding: 1px 5px; border: solid 3px ; border-color: rgba(45, 136, 179,  1); #EFEFEF\">include</span> <span style=\"background-color: rgba(45, 136, 179,  0.2487241177026282); padding: 1px 5px; border: solid 3px ; border-color: rgba(45, 136, 179,  1); #EFEFEF\">neural substrates</span> <span style=\"background-color: rgba(233,30,99,0);  padding: 1px 5px; border: solid 3px ; border-color:  rgba(233,30,99,0); #EFEFEF\">of</span> <span style=\"background-color: rgba(233,30,99,0);  padding: 1px 5px; border: solid 3px ; border-color:  rgba(233,30,99,0); #EFEFEF\">music imagery</span> <span style=\"background-color: rgba(233,30,99,0);  padding: 1px 5px; border: solid 3px ; border-color:  rgba(233,30,99,0); #EFEFEF\">its relation</span> <span style=\"background-color: rgba(233,30,99,0);  padding: 1px 5px; border: solid 3px ; border-color:  rgba(233,30,99,0); #EFEFEF\">to</span> <span style=\"background-color: rgba(233,30,99,0);  padding: 1px 5px; border: solid 3px ; border-color:  rgba(233,30,99,0); #EFEFEF\">the auditory system and mental representations</span> <span style=\"background-color: rgba(233,30,99,0);  padding: 1px 5px; border: solid 3px ; border-color:  rgba(233,30,99,0); #EFEFEF\">related</span> <span style=\"background-color: rgba(233,30,99,0);  padding: 1px 5px; border: solid 3px ; border-color:  rgba(233,30,99,0); #EFEFEF\">to</span> <span style=\"background-color: rgba(233,30,99,0);  padding: 1px 5px; border: solid 3px ; border-color:  rgba(233,30,99,0); #EFEFEF\">music performance</span> </div>"
      ],
      "text/plain": [
       "<IPython.core.display.HTML object>"
      ]
     },
     "metadata": {},
     "output_type": "display_data"
    },
    {
     "data": {
      "text/html": [
       "<br><br>"
      ],
      "text/plain": [
       "<IPython.core.display.HTML object>"
      ]
     },
     "metadata": {},
     "output_type": "display_data"
    },
    {
     "name": "stdout",
     "output_type": "stream",
     "text": [
      "sentence: 39863\n",
      "occupation: true label: architect ; predicted label: professor\n",
      "gender: true label: M ; predicted label: M\n"
     ]
    },
    {
     "data": {
      "text/html": [
       "<div style='display: flex; width: 400px; flex-wrap: wrap'><span style=\"background-color: rgba(45, 136, 179,  0.8638372187052453); padding: 1px 5px; border: solid 3px ; border-color: rgba(45, 136, 179,  1); #EFEFEF\">His research interest</span> <span style=\"background-color: rgba(233,30,99,0);  padding: 1px 5px; border: solid 3px ; border-color:  rgba(233,30,99,0); #EFEFEF\">is</span> <span style=\"background-color: rgba(45, 136, 179,  0.24581122025682123); padding: 1px 5px; border: solid 3px ; border-color: rgba(45, 136, 179,  1); #EFEFEF\">in</span> <span style=\"background-color: rgba(233,30,99,0);  padding: 1px 5px; border: solid 3px ; border-color:  rgba(233,30,99,0); #EFEFEF\">viewing</span> <span style=\"background-color: rgba(233,30,99,0);  padding: 1px 5px; border: solid 3px ; border-color:  rgba(233,30,99,0); #EFEFEF\">the contemporary façade</span> <span style=\"background-color: rgba(233,30,99,0);  padding: 1px 5px; border: solid 3px ; border-color:  rgba(233,30,99,0); #EFEFEF\">as</span> <span style=\"background-color: rgba(233,30,99,0);  padding: 1px 5px; border: solid 3px ; border-color:  rgba(233,30,99,0); #EFEFEF\">a mechanism</span> <span style=\"background-color: rgba(233,30,99,0);  padding: 1px 5px; border: solid 3px ; border-color:  rgba(233,30,99,0); #EFEFEF\">that</span> <span style=\"background-color: rgba(233,30,99,0);  padding: 1px 5px; border: solid 3px ; border-color:  rgba(233,30,99,0); #EFEFEF\">integrates</span> <span style=\"background-color: rgba(45, 136, 179,  0.20990272763038248); padding: 1px 5px; border: solid 3px ; border-color: rgba(45, 136, 179,  1); #EFEFEF\">manifold technical and non-technical elements</span> <span style=\"background-color: rgba(233,30,99,0);  padding: 1px 5px; border: solid 3px ; border-color:  rgba(233,30,99,0); #EFEFEF\">thereby</span> <span style=\"background-color: rgba(233,30,99,0);  padding: 1px 5px; border: solid 3px ; border-color:  rgba(233,30,99,0); #EFEFEF\">generating</span> <span style=\"background-color: rgba(233,30,99,0);  padding: 1px 5px; border: solid 3px ; border-color:  rgba(233,30,99,0); #EFEFEF\">a specific relationship</span> <span style=\"background-color: rgba(233,30,99,0);  padding: 1px 5px; border: solid 3px ; border-color:  rgba(233,30,99,0); #EFEFEF\">between</span> <span style=\"background-color: rgba(233,30,99,0);  padding: 1px 5px; border: solid 3px ; border-color:  rgba(233,30,99,0); #EFEFEF\">people</span> <span style=\"background-color: rgba(233,30,99,0);  padding: 1px 5px; border: solid 3px ; border-color:  rgba(233,30,99,0); #EFEFEF\">the culture</span> </div>"
      ],
      "text/plain": [
       "<IPython.core.display.HTML object>"
      ]
     },
     "metadata": {},
     "output_type": "display_data"
    },
    {
     "data": {
      "text/html": [
       "<br><br>"
      ],
      "text/plain": [
       "<IPython.core.display.HTML object>"
      ]
     },
     "metadata": {},
     "output_type": "display_data"
    },
    {
     "name": "stdout",
     "output_type": "stream",
     "text": [
      "sentence: 246224\n",
      "occupation: true label: professor ; predicted label: professor\n",
      "gender: true label: F ; predicted label: F\n"
     ]
    },
    {
     "data": {
      "text/html": [
       "<div style='display: flex; width: 400px; flex-wrap: wrap'><span style=\"background-color: rgba(233,30,99,0);  padding: 1px 5px; border: solid 3px ; border-color:  rgba(233,30,99,0); #EFEFEF\">She</span> <span style=\"background-color: rgba(233,30,99,0);  padding: 1px 5px; border: solid 3px ; border-color:  rgba(233,30,99,0); #EFEFEF\">received</span> <span style=\"background-color: rgba(45, 136, 179,  0.3899118483888708); padding: 1px 5px; border: solid 3px ; border-color: rgba(45, 136, 179,  1); #EFEFEF\">her PhD</span> <span style=\"background-color: rgba(233,30,99,0);  padding: 1px 5px; border: solid 3px ; border-color:  rgba(233,30,99,0); #EFEFEF\">in</span> <span style=\"background-color: rgba(233,30,99,0);  padding: 1px 5px; border: solid 3px ; border-color:  rgba(233,30,99,0); #EFEFEF\">political science</span> <span style=\"background-color: rgba(233,30,99,0);  padding: 1px 5px; border: solid 3px ; border-color:  rgba(233,30,99,0); #EFEFEF\">from</span> <span style=\"background-color: rgba(233,30,99,0);  padding: 1px 5px; border: solid 3px ; border-color:  rgba(233,30,99,0); #EFEFEF\">Stanford University</span> <span style=\"background-color: rgba(233,30,99,0);  padding: 1px 5px; border: solid 3px ; border-color:  rgba(233,30,99,0); #EFEFEF\">A nationally recognized expert</span> <span style=\"background-color: rgba(233,30,99,0);  padding: 1px 5px; border: solid 3px ; border-color:  rgba(233,30,99,0); #EFEFEF\">on</span> <span style=\"background-color: rgba(233,30,99,0);  padding: 1px 5px; border: solid 3px ; border-color:  rgba(233,30,99,0); #EFEFEF\">women</span> <span style=\"background-color: rgba(233,30,99,0);  padding: 1px 5px; border: solid 3px ; border-color:  rgba(233,30,99,0); #EFEFEF\">'s involvement</span> <span style=\"background-color: rgba(233,30,99,0);  padding: 1px 5px; border: solid 3px ; border-color:  rgba(233,30,99,0); #EFEFEF\">in</span> <span style=\"background-color: rgba(233,30,99,0);  padding: 1px 5px; border: solid 3px ; border-color:  rgba(233,30,99,0); #EFEFEF\">politics</span> <span style=\"background-color: rgba(233,30,99,0);  padding: 1px 5px; border: solid 3px ; border-color:  rgba(233,30,99,0); #EFEFEF\">she</span> <span style=\"background-color: rgba(233,30,99,0);  padding: 1px 5px; border: solid 3px ; border-color:  rgba(233,30,99,0); #EFEFEF\">is</span> <span style=\"background-color: rgba(233,30,99,0);  padding: 1px 5px; border: solid 3px ; border-color:  rgba(233,30,99,0); #EFEFEF\">coauthor</span> <span style=\"background-color: rgba(233,30,99,0);  padding: 1px 5px; border: solid 3px ; border-color:  rgba(233,30,99,0); #EFEFEF\">with</span> <span style=\"background-color: rgba(233,30,99,0);  padding: 1px 5px; border: solid 3px ; border-color:  rgba(233,30,99,0); #EFEFEF\">Richard L. Fox</span> <span style=\"background-color: rgba(233,30,99,0);  padding: 1px 5px; border: solid 3px ; border-color:  rgba(233,30,99,0); #EFEFEF\">of</span> <span style=\"background-color: rgba(233,30,99,0);  padding: 1px 5px; border: solid 3px ; border-color:  rgba(233,30,99,0); #EFEFEF\">the book</span> <span style=\"background-color: rgba(233,30,99,0);  padding: 1px 5px; border: solid 3px ; border-color:  rgba(233,30,99,0); #EFEFEF\">It</span> <span style=\"background-color: rgba(233,30,99,0);  padding: 1px 5px; border: solid 3px ; border-color:  rgba(233,30,99,0); #EFEFEF\">Takes</span> <span style=\"background-color: rgba(233,30,99,0);  padding: 1px 5px; border: solid 3px ; border-color:  rgba(233,30,99,0); #EFEFEF\">a Candidate</span> <span style=\"background-color: rgba(233,30,99,0);  padding: 1px 5px; border: solid 3px ; border-color:  rgba(233,30,99,0); #EFEFEF\">Why</span> <span style=\"background-color: rgba(233,30,99,0);  padding: 1px 5px; border: solid 3px ; border-color:  rgba(233,30,99,0); #EFEFEF\">Women</span> <span style=\"background-color: rgba(233,30,99,0);  padding: 1px 5px; border: solid 3px ; border-color:  rgba(233,30,99,0); #EFEFEF\">Do n't Run</span> <span style=\"background-color: rgba(233,30,99,0);  padding: 1px 5px; border: solid 3px ; border-color:  rgba(233,30,99,0); #EFEFEF\">for</span> <span style=\"background-color: rgba(233,30,99,0);  padding: 1px 5px; border: solid 3px ; border-color:  rgba(233,30,99,0); #EFEFEF\">Office</span> <span style=\"background-color: rgba(233,30,99,0);  padding: 1px 5px; border: solid 3px ; border-color:  rgba(233,30,99,0); #EFEFEF\">She</span> <span style=\"background-color: rgba(233,30,99,0);  padding: 1px 5px; border: solid 3px ; border-color:  rgba(233,30,99,0); #EFEFEF\">has also published</span> <span style=\"background-color: rgba(233,30,99,0);  padding: 1px 5px; border: solid 3px ; border-color:  rgba(233,30,99,0); #EFEFEF\">numerous articles</span> <span style=\"background-color: rgba(233,30,99,0);  padding: 1px 5px; border: solid 3px ; border-color:  rgba(233,30,99,0); #EFEFEF\">in</span> <span style=\"background-color: rgba(233,30,99,0);  padding: 1px 5px; border: solid 3px ; border-color:  rgba(233,30,99,0); #EFEFEF\">political science journals</span> <span style=\"background-color: rgba(233,30,99,0);  padding: 1px 5px; border: solid 3px ; border-color:  rgba(233,30,99,0); #EFEFEF\">has issued</span> <span style=\"background-color: rgba(233,30,99,0);  padding: 1px 5px; border: solid 3px ; border-color:  rgba(233,30,99,0); #EFEFEF\">two policy reports</span> <span style=\"background-color: rgba(233,30,99,0);  padding: 1px 5px; border: solid 3px ; border-color:  rgba(233,30,99,0); #EFEFEF\">on</span> <span style=\"background-color: rgba(233,30,99,0);  padding: 1px 5px; border: solid 3px ; border-color:  rgba(233,30,99,0); #EFEFEF\">the barriers</span> <span style=\"background-color: rgba(233,30,99,0);  padding: 1px 5px; border: solid 3px ; border-color:  rgba(233,30,99,0); #EFEFEF\">that</span> <span style=\"background-color: rgba(233,30,99,0);  padding: 1px 5px; border: solid 3px ; border-color:  rgba(233,30,99,0); #EFEFEF\">impede</span> <span style=\"background-color: rgba(233,30,99,0);  padding: 1px 5px; border: solid 3px ; border-color:  rgba(233,30,99,0); #EFEFEF\">women</span> <span style=\"background-color: rgba(233,30,99,0);  padding: 1px 5px; border: solid 3px ; border-color:  rgba(233,30,99,0); #EFEFEF\">'s candidate emergence</span> <span style=\"background-color: rgba(233,30,99,0);  padding: 1px 5px; border: solid 3px ; border-color:  rgba(233,30,99,0); #EFEFEF\">In</span> <span style=\"background-color: rgba(233,30,99,0);  padding: 1px 5px; border: solid 3px ; border-color:  rgba(233,30,99,0); #EFEFEF\">2006</span> <span style=\"background-color: rgba(233,30,99,0);  padding: 1px 5px; border: solid 3px ; border-color:  rgba(233,30,99,0); #EFEFEF\">she</span> <span style=\"background-color: rgba(233,30,99,0);  padding: 1px 5px; border: solid 3px ; border-color:  rgba(233,30,99,0); #EFEFEF\">sought</span> <span style=\"background-color: rgba(233,30,99,0);  padding: 1px 5px; border: solid 3px ; border-color:  rgba(233,30,99,0); #EFEFEF\">the Democratic nomination</span> <span style=\"background-color: rgba(233,30,99,0);  padding: 1px 5px; border: solid 3px ; border-color:  rgba(233,30,99,0); #EFEFEF\">for</span> <span style=\"background-color: rgba(233,30,99,0);  padding: 1px 5px; border: solid 3px ; border-color:  rgba(233,30,99,0); #EFEFEF\">the US House</span> <span style=\"background-color: rgba(233,30,99,0);  padding: 1px 5px; border: solid 3px ; border-color:  rgba(233,30,99,0); #EFEFEF\">of</span> <span style=\"background-color: rgba(233,30,99,0);  padding: 1px 5px; border: solid 3px ; border-color:  rgba(233,30,99,0); #EFEFEF\">Representatives</span> <span style=\"background-color: rgba(233,30,99,0);  padding: 1px 5px; border: solid 3px ; border-color:  rgba(233,30,99,0); #EFEFEF\">in</span> <span style=\"background-color: rgba(233,30,99,0);  padding: 1px 5px; border: solid 3px ; border-color:  rgba(233,30,99,0); #EFEFEF\">Rhode Island</span> <span style=\"background-color: rgba(233,30,99,0);  padding: 1px 5px; border: solid 3px ; border-color:  rgba(233,30,99,0); #EFEFEF\">'s Second Congressional District</span> <span style=\"background-color: rgba(233,30,99,0);  padding: 1px 5px; border: solid 3px ; border-color:  rgba(233,30,99,0); #EFEFEF\">Although</span> <span style=\"background-color: rgba(233,30,99,0);  padding: 1px 5px; border: solid 3px ; border-color:  rgba(233,30,99,0); #EFEFEF\">she</span> <span style=\"background-color: rgba(233,30,99,0);  padding: 1px 5px; border: solid 3px ; border-color:  rgba(233,30,99,0); #EFEFEF\">lost</span> <span style=\"background-color: rgba(233,30,99,0);  padding: 1px 5px; border: solid 3px ; border-color:  rgba(233,30,99,0); #EFEFEF\">the race</span> <span style=\"background-color: rgba(233,30,99,0);  padding: 1px 5px; border: solid 3px ; border-color:  rgba(233,30,99,0); #EFEFEF\">she</span> <span style=\"background-color: rgba(233,30,99,0);  padding: 1px 5px; border: solid 3px ; border-color:  rgba(233,30,99,0); #EFEFEF\">is</span> <span style=\"background-color: rgba(233,30,99,0);  padding: 1px 5px; border: solid 3px ; border-color:  rgba(233,30,99,0); #EFEFEF\">very active</span> <span style=\"background-color: rgba(233,30,99,0);  padding: 1px 5px; border: solid 3px ; border-color:  rgba(233,30,99,0); #EFEFEF\">in</span> <span style=\"background-color: rgba(233,30,99,0);  padding: 1px 5px; border: solid 3px ; border-color:  rgba(233,30,99,0); #EFEFEF\">politics</span> <span style=\"background-color: rgba(233,30,99,0);  padding: 1px 5px; border: solid 3px ; border-color:  rgba(233,30,99,0); #EFEFEF\">Recently</span> <span style=\"background-color: rgba(233,30,99,0);  padding: 1px 5px; border: solid 3px ; border-color:  rgba(233,30,99,0); #EFEFEF\">she</span> <span style=\"background-color: rgba(233,30,99,0);  padding: 1px 5px; border: solid 3px ; border-color:  rgba(233,30,99,0); #EFEFEF\">joined</span> <span style=\"background-color: rgba(233,30,99,0);  padding: 1px 5px; border: solid 3px ; border-color:  rgba(233,30,99,0); #EFEFEF\">the national board</span> <span style=\"background-color: rgba(233,30,99,0);  padding: 1px 5px; border: solid 3px ; border-color:  rgba(233,30,99,0); #EFEFEF\">of</span> <span style=\"background-color: rgba(233,30,99,0);  padding: 1px 5px; border: solid 3px ; border-color:  rgba(233,30,99,0); #EFEFEF\">Emerge America</span> </div>"
      ],
      "text/plain": [
       "<IPython.core.display.HTML object>"
      ]
     },
     "metadata": {},
     "output_type": "display_data"
    },
    {
     "data": {
      "text/html": [
       "<br><br>"
      ],
      "text/plain": [
       "<IPython.core.display.HTML object>"
      ]
     },
     "metadata": {},
     "output_type": "display_data"
    },
    {
     "name": "stdout",
     "output_type": "stream",
     "text": [
      "sentence: 265371\n",
      "occupation: true label: architect ; predicted label: software_engineer\n",
      "gender: true label: M ; predicted label: M\n"
     ]
    },
    {
     "data": {
      "text/html": [
       "<div style='display: flex; width: 400px; flex-wrap: wrap'><span style=\"background-color: rgba(233,30,99,0);  padding: 1px 5px; border: solid 3px ; border-color:  rgba(233,30,99,0); #EFEFEF\">Currently</span> <span style=\"background-color: rgba(233,30,99,0);  padding: 1px 5px; border: solid 3px ; border-color:  rgba(233,30,99,0); #EFEFEF\">he</span> <span style=\"background-color: rgba(233,30,99,0);  padding: 1px 5px; border: solid 3px ; border-color:  rgba(233,30,99,0); #EFEFEF\">works</span> <span style=\"background-color: rgba(233,30,99,0);  padding: 1px 5px; border: solid 3px ; border-color:  rgba(233,30,99,0); #EFEFEF\">in</span> <span style=\"background-color: rgba(233,30,99,0);  padding: 1px 5px; border: solid 3px ; border-color:  rgba(233,30,99,0); #EFEFEF\">the Middle East</span> <span style=\"background-color: rgba(233,30,99,0);  padding: 1px 5px; border: solid 3px ; border-color:  rgba(233,30,99,0); #EFEFEF\">as</span> <span style=\"background-color: rgba(179, 174, 54,  0.9917887948997225); padding: 1px 5px; border: solid 3px ; border-color: rgba(179, 174, 54,  1); #EFEFEF\">Senior Visualizer</span> <span style=\"background-color: rgba(233,30,99,0);  padding: 1px 5px; border: solid 3px ; border-color:  rgba(233,30,99,0); #EFEFEF\">at</span> <span style=\"background-color: rgba(45, 136, 179,  0.20418030079117747); padding: 1px 5px; border: solid 3px ; border-color: rgba(45, 136, 179,  1); #EFEFEF\">ASTAD Qatar</span> <span style=\"background-color: rgba(233,30,99,0);  padding: 1px 5px; border: solid 3px ; border-color:  rgba(233,30,99,0); #EFEFEF\">for</span> <span style=\"background-color: rgba(233,30,99,0);  padding: 1px 5px; border: solid 3px ; border-color:  rgba(233,30,99,0); #EFEFEF\">Qatar Foundation</span> <span style=\"background-color: rgba(233,30,99,0);  padding: 1px 5px; border: solid 3px ; border-color:  rgba(233,30,99,0); #EFEFEF\">is</span> <span style=\"background-color: rgba(233,30,99,0);  padding: 1px 5px; border: solid 3px ; border-color:  rgba(233,30,99,0); #EFEFEF\">Managing Director</span> <span style=\"background-color: rgba(233,30,99,0);  padding: 1px 5px; border: solid 3px ; border-color:  rgba(233,30,99,0); #EFEFEF\">at</span> <span style=\"background-color: rgba(233,30,99,0);  padding: 1px 5px; border: solid 3px ; border-color:  rgba(233,30,99,0); #EFEFEF\">Lorikeet</span> <span style=\"background-color: rgba(233,30,99,0);  padding: 1px 5px; border: solid 3px ; border-color:  rgba(233,30,99,0); #EFEFEF\">in</span> <span style=\"background-color: rgba(233,30,99,0);  padding: 1px 5px; border: solid 3px ; border-color:  rgba(233,30,99,0); #EFEFEF\">India</span> <span style=\"background-color: rgba(233,30,99,0);  padding: 1px 5px; border: solid 3px ; border-color:  rgba(233,30,99,0); #EFEFEF\">He</span> <span style=\"background-color: rgba(233,30,99,0);  padding: 1px 5px; border: solid 3px ; border-color:  rgba(233,30,99,0); #EFEFEF\">also</span> <span style=\"background-color: rgba(45, 136, 179,  0.31543023888563054); padding: 1px 5px; border: solid 3px ; border-color: rgba(45, 136, 179,  1); #EFEFEF\">teaches</span> <span style=\"background-color: rgba(233,30,99,0);  padding: 1px 5px; border: solid 3px ; border-color:  rgba(233,30,99,0); #EFEFEF\">Revit and AutoCAD part-time</span> </div>"
      ],
      "text/plain": [
       "<IPython.core.display.HTML object>"
      ]
     },
     "metadata": {},
     "output_type": "display_data"
    },
    {
     "data": {
      "text/html": [
       "<br><br>"
      ],
      "text/plain": [
       "<IPython.core.display.HTML object>"
      ]
     },
     "metadata": {},
     "output_type": "display_data"
    },
    {
     "name": "stdout",
     "output_type": "stream",
     "text": [
      "sentence: 155464\n",
      "occupation: true label: professor ; predicted label: professor\n",
      "gender: true label: F ; predicted label: F\n"
     ]
    },
    {
     "data": {
      "text/html": [
       "<div style='display: flex; width: 400px; flex-wrap: wrap'><span style=\"background-color: rgba(45, 136, 179,  0.37289068139534226); padding: 1px 5px; border: solid 3px ; border-color: rgba(45, 136, 179,  1); #EFEFEF\">Guest Professor</span> <span style=\"background-color: rgba(179, 174, 54,  0.26366721844540775); padding: 1px 5px; border: solid 3px ; border-color: rgba(179, 174, 54,  1); #EFEFEF\">in</span> <span style=\"background-color: rgba(233,30,99,0);  padding: 1px 5px; border: solid 3px ; border-color:  rgba(233,30,99,0); #EFEFEF\">the Master</span> <span style=\"background-color: rgba(233,30,99,0);  padding: 1px 5px; border: solid 3px ; border-color:  rgba(233,30,99,0); #EFEFEF\">of</span> <span style=\"background-color: rgba(179, 174, 54,  0.5586064017946902); padding: 1px 5px; border: solid 3px ; border-color: rgba(179, 174, 54,  1); #EFEFEF\">Visual Media</span> <span style=\"background-color: rgba(233,30,99,0);  padding: 1px 5px; border: solid 3px ; border-color:  rgba(233,30,99,0); #EFEFEF\">at</span> <span style=\"background-color: rgba(179, 174, 54,  0.2835815913901039); padding: 1px 5px; border: solid 3px ; border-color: rgba(179, 174, 54,  1); #EFEFEF\">IE School</span> <span style=\"background-color: rgba(233,30,99,0);  padding: 1px 5px; border: solid 3px ; border-color:  rgba(233,30,99,0); #EFEFEF\">of</span> <span style=\"background-color: rgba(233,30,99,0);  padding: 1px 5px; border: solid 3px ; border-color:  rgba(233,30,99,0); #EFEFEF\">Communication</span> <span style=\"background-color: rgba(179, 174, 54,  0.33417075026591375); padding: 1px 5px; border: solid 3px ; border-color: rgba(179, 174, 54,  1); #EFEFEF\">Spain</span> <span style=\"background-color: rgba(233,30,99,0);  padding: 1px 5px; border: solid 3px ; border-color:  rgba(233,30,99,0); #EFEFEF\">the DoctoralProgram</span> <span style=\"background-color: rgba(233,30,99,0);  padding: 1px 5px; border: solid 3px ; border-color:  rgba(233,30,99,0); #EFEFEF\">in</span> <span style=\"background-color: rgba(233,30,99,0);  padding: 1px 5px; border: solid 3px ; border-color:  rgba(233,30,99,0); #EFEFEF\">Media Studies</span> <span style=\"background-color: rgba(179, 174, 54,  0.45045119975194936); padding: 1px 5px; border: solid 3px ; border-color: rgba(179, 174, 54,  1); #EFEFEF\">at</span> <span style=\"background-color: rgba(233,30,99,0);  padding: 1px 5px; border: solid 3px ; border-color:  rgba(233,30,99,0); #EFEFEF\">Bayreuth Universität</span> <span style=\"background-color: rgba(233,30,99,0);  padding: 1px 5px; border: solid 3px ; border-color:  rgba(233,30,99,0); #EFEFEF\">Germany</span> <span style=\"background-color: rgba(255, 102, 122,  0.46542362552192645); padding: 1px 5px; border: solid 3px ; border-color: rgba(255, 102, 122,  1); #EFEFEF\">She</span> <span style=\"background-color: rgba(233,30,99,0);  padding: 1px 5px; border: solid 3px ; border-color:  rgba(233,30,99,0); #EFEFEF\">is currently visiting</span> <span style=\"background-color: rgba(233,30,99,0);  padding: 1px 5px; border: solid 3px ; border-color:  rgba(233,30,99,0); #EFEFEF\">researcher</span> <span style=\"background-color: rgba(233,30,99,0);  padding: 1px 5px; border: solid 3px ; border-color:  rgba(233,30,99,0); #EFEFEF\">in</span> <span style=\"background-color: rgba(233,30,99,0);  padding: 1px 5px; border: solid 3px ; border-color:  rgba(233,30,99,0); #EFEFEF\">the Institute</span> <span style=\"background-color: rgba(233,30,99,0);  padding: 1px 5px; border: solid 3px ; border-color:  rgba(233,30,99,0); #EFEFEF\">of</span> <span style=\"background-color: rgba(45, 136, 179,  0.6844067164055132); padding: 1px 5px; border: solid 3px ; border-color: rgba(45, 136, 179,  1); #EFEFEF\">Theater and Media Studies</span> <span style=\"background-color: rgba(179, 174, 54,  0.27049806953824723); padding: 1px 5px; border: solid 3px ; border-color: rgba(179, 174, 54,  1); #EFEFEF\">at</span> <span style=\"background-color: rgba(45, 136, 179,  0.24008676184973243); padding: 1px 5px; border: solid 3px ; border-color: rgba(45, 136, 179,  1); #EFEFEF\">Friedrich-Alexander-Universität Erlangen-Nürnberg</span> <span style=\"background-color: rgba(233,30,99,0);  padding: 1px 5px; border: solid 3px ; border-color:  rgba(233,30,99,0); #EFEFEF\">Germany</span> </div>"
      ],
      "text/plain": [
       "<IPython.core.display.HTML object>"
      ]
     },
     "metadata": {},
     "output_type": "display_data"
    },
    {
     "data": {
      "text/html": [
       "<br><br>"
      ],
      "text/plain": [
       "<IPython.core.display.HTML object>"
      ]
     },
     "metadata": {},
     "output_type": "display_data"
    },
    {
     "name": "stdout",
     "output_type": "stream",
     "text": [
      "sentence: 123403\n",
      "occupation: true label: professor ; predicted label: professor\n",
      "gender: true label: F ; predicted label: M\n"
     ]
    },
    {
     "data": {
      "text/html": [
       "<div style='display: flex; width: 400px; flex-wrap: wrap'><span style=\"background-color: rgba(233,30,99,0);  padding: 1px 5px; border: solid 3px ; border-color:  rgba(233,30,99,0); #EFEFEF\">She</span> <span style=\"background-color: rgba(233,30,99,0);  padding: 1px 5px; border: solid 3px ; border-color:  rgba(233,30,99,0); #EFEFEF\">is</span> <span style=\"background-color: rgba(233,30,99,0);  padding: 1px 5px; border: solid 3px ; border-color:  rgba(233,30,99,0); #EFEFEF\">the author</span> <span style=\"background-color: rgba(233,30,99,0);  padding: 1px 5px; border: solid 3px ; border-color:  rgba(233,30,99,0); #EFEFEF\">of</span> <span style=\"background-color: rgba(233,30,99,0);  padding: 1px 5px; border: solid 3px ; border-color:  rgba(233,30,99,0); #EFEFEF\">several texts</span> <span style=\"background-color: rgba(233,30,99,0);  padding: 1px 5px; border: solid 3px ; border-color:  rgba(233,30,99,0); #EFEFEF\">including</span> <span style=\"background-color: rgba(233,30,99,0);  padding: 1px 5px; border: solid 3px ; border-color:  rgba(233,30,99,0); #EFEFEF\">Writing</span> <span style=\"background-color: rgba(233,30,99,0);  padding: 1px 5px; border: solid 3px ; border-color:  rgba(233,30,99,0); #EFEFEF\">for</span> <span style=\"background-color: rgba(233,30,99,0);  padding: 1px 5px; border: solid 3px ; border-color:  rgba(233,30,99,0); #EFEFEF\">Results</span> <span style=\"background-color: rgba(233,30,99,0);  padding: 1px 5px; border: solid 3px ; border-color:  rgba(233,30,99,0); #EFEFEF\">An Introduction</span> <span style=\"background-color: rgba(233,30,99,0);  padding: 1px 5px; border: solid 3px ; border-color:  rgba(233,30,99,0); #EFEFEF\">to</span> <span style=\"background-color: rgba(233,30,99,0);  padding: 1px 5px; border: solid 3px ; border-color:  rgba(233,30,99,0); #EFEFEF\">Writing</span> <span style=\"background-color: rgba(233,30,99,0);  padding: 1px 5px; border: solid 3px ; border-color:  rgba(233,30,99,0); #EFEFEF\">in</span> <span style=\"background-color: rgba(233,30,99,0);  padding: 1px 5px; border: solid 3px ; border-color:  rgba(233,30,99,0); #EFEFEF\">the Real World</span> <span style=\"background-color: rgba(233,30,99,0);  padding: 1px 5px; border: solid 3px ; border-color:  rgba(233,30,99,0); #EFEFEF\">of</span> <span style=\"background-color: rgba(179, 174, 54,  0.2572460428659516); padding: 1px 5px; border: solid 3px ; border-color: rgba(179, 174, 54,  1); #EFEFEF\">Science and Technology</span> <span style=\"background-color: rgba(233,30,99,0);  padding: 1px 5px; border: solid 3px ; border-color:  rgba(233,30,99,0); #EFEFEF\">The Decisive Writer</span> <span style=\"background-color: rgba(233,30,99,0);  padding: 1px 5px; border: solid 3px ; border-color:  rgba(233,30,99,0); #EFEFEF\">Writing</span> <span style=\"background-color: rgba(233,30,99,0);  padding: 1px 5px; border: solid 3px ; border-color:  rgba(233,30,99,0); #EFEFEF\">Now</span> <span style=\"background-color: rgba(45, 136, 179,  0.22861017304072642); padding: 1px 5px; border: solid 3px ; border-color: rgba(45, 136, 179,  1); #EFEFEF\">Her research interests</span> <span style=\"background-color: rgba(233,30,99,0);  padding: 1px 5px; border: solid 3px ; border-color:  rgba(233,30,99,0); #EFEFEF\">include</span> <span style=\"background-color: rgba(233,30,99,0);  padding: 1px 5px; border: solid 3px ; border-color:  rgba(233,30,99,0); #EFEFEF\">the history</span> <span style=\"background-color: rgba(233,30,99,0);  padding: 1px 5px; border: solid 3px ; border-color:  rgba(233,30,99,0); #EFEFEF\">of</span> <span style=\"background-color: rgba(233,30,99,0);  padding: 1px 5px; border: solid 3px ; border-color:  rgba(233,30,99,0); #EFEFEF\">the writing lab</span> <span style=\"background-color: rgba(233,30,99,0);  padding: 1px 5px; border: solid 3px ; border-color:  rgba(233,30,99,0); #EFEFEF\">the origins</span> <span style=\"background-color: rgba(233,30,99,0);  padding: 1px 5px; border: solid 3px ; border-color:  rgba(233,30,99,0); #EFEFEF\">of</span> <span style=\"background-color: rgba(233,30,99,0);  padding: 1px 5px; border: solid 3px ; border-color:  rgba(233,30,99,0); #EFEFEF\">professional writing</span> <span style=\"background-color: rgba(233,30,99,0);  padding: 1px 5px; border: solid 3px ; border-color:  rgba(233,30,99,0); #EFEFEF\">writing center practices</span> </div>"
      ],
      "text/plain": [
       "<IPython.core.display.HTML object>"
      ]
     },
     "metadata": {},
     "output_type": "display_data"
    },
    {
     "data": {
      "text/html": [
       "<br><br>"
      ],
      "text/plain": [
       "<IPython.core.display.HTML object>"
      ]
     },
     "metadata": {},
     "output_type": "display_data"
    },
    {
     "name": "stdout",
     "output_type": "stream",
     "text": [
      "sentence: 229367\n",
      "occupation: true label: professor ; predicted label: professor\n",
      "gender: true label: M ; predicted label: M\n"
     ]
    },
    {
     "data": {
      "text/html": [
       "<div style='display: flex; width: 400px; flex-wrap: wrap'><span style=\"background-color: rgba(233,30,99,0);  padding: 1px 5px; border: solid 3px ; border-color:  rgba(233,30,99,0); #EFEFEF\">He</span> <span style=\"background-color: rgba(255, 102, 122,  0.43570460474638495); padding: 1px 5px; border: solid 3px ; border-color: rgba(255, 102, 122,  1); #EFEFEF\">has held</span> <span style=\"background-color: rgba(255, 102, 122,  0.4476518191219119); padding: 1px 5px; border: solid 3px ; border-color: rgba(255, 102, 122,  1); #EFEFEF\">research fellowships</span> <span style=\"background-color: rgba(233,30,99,0);  padding: 1px 5px; border: solid 3px ; border-color:  rgba(233,30,99,0); #EFEFEF\">at</span> <span style=\"background-color: rgba(179, 174, 54,  0.9548533514851167); padding: 1px 5px; border: solid 3px ; border-color: rgba(179, 174, 54,  1); #EFEFEF\">the Harvard Business School</span> <span style=\"background-color: rgba(45, 136, 179,  0.20920871945552874); padding: 1px 5px; border: solid 3px ; border-color: rgba(45, 136, 179,  1); #EFEFEF\">Johns Hopkins University</span> <span style=\"background-color: rgba(233,30,99,0);  padding: 1px 5px; border: solid 3px ; border-color:  rgba(233,30,99,0); #EFEFEF\">and</span> <span style=\"background-color: rgba(233,30,99,0);  padding: 1px 5px; border: solid 3px ; border-color:  rgba(233,30,99,0); #EFEFEF\">from</span> <span style=\"background-color: rgba(233,30,99,0);  padding: 1px 5px; border: solid 3px ; border-color:  rgba(233,30,99,0); #EFEFEF\">the German Marshall Fund</span> <span style=\"background-color: rgba(255, 102, 122,  0.27980920503758194); padding: 1px 5px; border: solid 3px ; border-color: rgba(255, 102, 122,  1); #EFEFEF\">He</span> <span style=\"background-color: rgba(233,30,99,0);  padding: 1px 5px; border: solid 3px ; border-color:  rgba(233,30,99,0); #EFEFEF\">is</span> <span style=\"background-color: rgba(233,30,99,0);  padding: 1px 5px; border: solid 3px ; border-color:  rgba(233,30,99,0); #EFEFEF\">the editor</span> <span style=\"background-color: rgba(233,30,99,0);  padding: 1px 5px; border: solid 3px ; border-color:  rgba(233,30,99,0); #EFEFEF\">of</span> <span style=\"background-color: rgba(233,30,99,0);  padding: 1px 5px; border: solid 3px ; border-color:  rgba(233,30,99,0); #EFEFEF\">THE TRANSFORMATION</span> <span style=\"background-color: rgba(233,30,99,0);  padding: 1px 5px; border: solid 3px ; border-color:  rgba(233,30,99,0); #EFEFEF\">OF</span> <span style=\"background-color: rgba(233,30,99,0);  padding: 1px 5px; border: solid 3px ; border-color:  rgba(233,30,99,0); #EFEFEF\">THE GERMAN POLITICAL PARTY SYSTEM</span> <span style=\"background-color: rgba(179, 174, 54,  0.20103230028293176); padding: 1px 5px; border: solid 3px ; border-color: rgba(179, 174, 54,  1); #EFEFEF\">Berghahn, 1999</span> <span style=\"background-color: rgba(233,30,99,0);  padding: 1px 5px; border: solid 3px ; border-color:  rgba(233,30,99,0); #EFEFEF\">is working</span> <span style=\"background-color: rgba(233,30,99,0);  padding: 1px 5px; border: solid 3px ; border-color:  rgba(233,30,99,0); #EFEFEF\">on</span> <span style=\"background-color: rgba(255, 102, 122,  0.2752922926217624); padding: 1px 5px; border: solid 3px ; border-color: rgba(255, 102, 122,  1); #EFEFEF\">a study</span> <span style=\"background-color: rgba(233,30,99,0);  padding: 1px 5px; border: solid 3px ; border-color:  rgba(233,30,99,0); #EFEFEF\">of</span> <span style=\"background-color: rgba(233,30,99,0);  padding: 1px 5px; border: solid 3px ; border-color:  rgba(233,30,99,0); #EFEFEF\">democratic representation</span> <span style=\"background-color: rgba(233,30,99,0);  padding: 1px 5px; border: solid 3px ; border-color:  rgba(233,30,99,0); #EFEFEF\">in</span> <span style=\"background-color: rgba(233,30,99,0);  padding: 1px 5px; border: solid 3px ; border-color:  rgba(233,30,99,0); #EFEFEF\">parliamentary and presidential systems</span> </div>"
      ],
      "text/plain": [
       "<IPython.core.display.HTML object>"
      ]
     },
     "metadata": {},
     "output_type": "display_data"
    },
    {
     "data": {
      "text/html": [
       "<br><br>"
      ],
      "text/plain": [
       "<IPython.core.display.HTML object>"
      ]
     },
     "metadata": {},
     "output_type": "display_data"
    }
   ],
   "source": [
    "l_mip_sentences_chosen = [230484, 7029, 155554, 94984, 82706, 254362, 205272, 226245, 81814, 227333, 90373, 82798, 143102, 261617, \n",
    "                          219844, 125561, 39863, 246224, 265371, 155464, 123403, 229367]\n",
    "\n",
    "\n",
    "l_mip_sentences = sentences_train[l_mip_sentences_chosen]\n",
    "l_mip_label = train_labels[l_mip_sentences_chosen]\n",
    "l_mip_predict_label = label_pred_train[l_mip_sentences_chosen]\n",
    "l_mip_gender = gender_train[l_mip_sentences_chosen]\n",
    "l_mip_predict_gender = gender_pred_train[l_mip_sentences_chosen]\n",
    "\n",
    "from explaination import occlusion_concepts, viz_concepts, print_legend, print_legend2\n",
    "\n",
    "l_ignore_words = [\"’\", \"'\", \",\", \".\", \"...\", \"..\", \"....\", \":\", \"!\", \"?\", \"\", \" \", \"(\", \")\"]\n",
    "\n",
    "l_concept_id = [15, 18, 19]\n",
    "conceptnames = [1, 8, 19]\n",
    "\n",
    "\n",
    "print(\"gender importance / occupation importance\")\n",
    "\n",
    "\n",
    "colors = { \n",
    "    0: \"rgba(255, 102, 122, \",\n",
    "    1: \"rgba(179, 174, 54, \", \n",
    "    2: \"rgba(45, 136, 179, \",\n",
    "}\n",
    "print_legend2(colors, l_concept_id, global_importance_gender, global_importance_occ, conceptnames)\n",
    "#colors = print_legend(l_concept_id, global_importance_gender, global_importance_occ, conceptnames)\n",
    "\n",
    "i = 0\n",
    "for sentence in l_mip_sentences:\n",
    "  print('sentence:', l_mip_sentences_chosen[i])\n",
    "  print('occupation: true label:', names_occ[int(l_mip_label[i])], '; predicted label:', names_occ[int(l_mip_predict_label[i])])\n",
    "  print('gender: true label:', names_g[l_mip_gender[i]], '; predicted label:', names_g[l_mip_predict_gender[i]])\n",
    "\n",
    "  phi = occlusion_concepts(sentence, model, tokenizer, W, l_concept_id, ignore_words = [], device = device)\n",
    "  \n",
    "  phi /= np.max(np.abs(phi)) + 1e-5\n",
    "  viz_concepts(sentence, phi, colors, ignore_words = [])\n",
    "  i += 1"
   ]
  },
  {
   "cell_type": "code",
   "execution_count": null,
   "metadata": {},
   "outputs": [],
   "source": []
  }
 ],
 "metadata": {
  "kernelspec": {
   "display_name": "pytorch_venv",
   "language": "python",
   "name": "python3"
  },
  "language_info": {
   "codemirror_mode": {
    "name": "ipython",
    "version": 3
   },
   "file_extension": ".py",
   "mimetype": "text/x-python",
   "name": "python",
   "nbconvert_exporter": "python",
   "pygments_lexer": "ipython3",
   "version": "3.11.3"
  },
  "orig_nbformat": 4
 },
 "nbformat": 4,
 "nbformat_minor": 2
}
